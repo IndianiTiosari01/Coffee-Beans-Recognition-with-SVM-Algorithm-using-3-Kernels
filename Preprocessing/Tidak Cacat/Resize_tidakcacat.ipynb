{
 "cells": [
  {
   "cell_type": "markdown",
   "metadata": {},
   "source": [
    "# Importing required libraries"
   ]
  },
  {
   "cell_type": "code",
   "execution_count": 1,
   "metadata": {},
   "outputs": [],
   "source": [
    "import cv2\n",
    "import glob\n",
    "import matplotlib.pyplot as plt\n",
    "import os,glob\n",
    "import os\n",
    "from os import listdir,makedirs\n",
    "from os.path import isfile,join\n",
    "import skimage\n",
    "from skimage import data\n",
    "import numpy as np\n",
    "import matplotlib.pyplot as plt\n",
    "%matplotlib inline\n",
    "from PIL import Image"
   ]
  },
  {
   "cell_type": "markdown",
   "metadata": {},
   "source": [
    "# load and resize 100 images of defective coffee beans"
   ]
  },
  {
   "cell_type": "code",
   "execution_count": 4,
   "metadata": {},
   "outputs": [],
   "source": [
    "image = Image.open('C:/Users/Indriani T Sitorus/Pictures/Dataset remove background_200/Tidak Cacat/Tidakcacat1.png')\n",
    "# create new size of image (image resize process) 100 x 100 pixel\n",
    "new_image = image.resize((100, 100))\n",
    "#save resize output in directory\n",
    "new_image.save('C:/Users/Indriani T Sitorus/Pictures/Dataset remove background_200/Preprocessing/Tidak Cacat/Resize/Tidakcacat1_resize.png')"
   ]
  },
  {
   "cell_type": "code",
   "execution_count": 5,
   "metadata": {},
   "outputs": [],
   "source": [
    "image = Image.open('C:/Users/Indriani T Sitorus/Pictures/Dataset remove background_200/Tidak Cacat/Tidakcacat2.png')\n",
    "# create new size of image (image resize process) 100 x 100 pixel\n",
    "new_image = image.resize((100, 100))\n",
    "#save resize output in directory\n",
    "new_image.save('C:/Users/Indriani T Sitorus/Pictures/Dataset remove background_200/Preprocessing/Tidak Cacat/Resize/Tidakcacat2_resize.png')"
   ]
  },
  {
   "cell_type": "code",
   "execution_count": 6,
   "metadata": {},
   "outputs": [],
   "source": [
    "image = Image.open('C:/Users/Indriani T Sitorus/Pictures/Dataset remove background_200/Tidak Cacat/Tidakcacat3.png')\n",
    "# create new size of image (image resize process) 100 x 100 pixel\n",
    "new_image = image.resize((100, 100))\n",
    "#save resize output in directory\n",
    "new_image.save('C:/Users/Indriani T Sitorus/Pictures/Dataset remove background_200/Preprocessing/Tidak Cacat/Resize/Tidakcacat3_resize.png')"
   ]
  },
  {
   "cell_type": "code",
   "execution_count": 7,
   "metadata": {},
   "outputs": [],
   "source": [
    "image = Image.open('C:/Users/Indriani T Sitorus/Pictures/Dataset remove background_200/Tidak Cacat/Tidakcacat4.png')\n",
    "# create new size of image (image resize process) 100 x 100 pixel\n",
    "new_image = image.resize((100, 100))\n",
    "#save resize output in directory\n",
    "new_image.save('C:/Users/Indriani T Sitorus/Pictures/Dataset remove background_200/Preprocessing/Tidak Cacat/Resize/Tidakcacat4_resize.png')"
   ]
  },
  {
   "cell_type": "code",
   "execution_count": 8,
   "metadata": {},
   "outputs": [],
   "source": [
    "image = Image.open('C:/Users/Indriani T Sitorus/Pictures/Dataset remove background_200/Tidak Cacat/Tidakcacat5.png')\n",
    "# create new size of image (image resize process) 100 x 100 pixel\n",
    "new_image = image.resize((100, 100))\n",
    "#save resize output in directory\n",
    "new_image.save('C:/Users/Indriani T Sitorus/Pictures/Dataset remove background_200/Preprocessing/Tidak Cacat/Resize/Tidakcacat5_resize.png')"
   ]
  },
  {
   "cell_type": "code",
   "execution_count": 9,
   "metadata": {},
   "outputs": [],
   "source": [
    "image = Image.open('C:/Users/Indriani T Sitorus/Pictures/Dataset remove background_200/Tidak Cacat/Tidakcacat6.png')\n",
    "# create new size of image (image resize process) 100 x 100 pixel\n",
    "new_image = image.resize((100, 100))\n",
    "#save resize output in directory\n",
    "new_image.save('C:/Users/Indriani T Sitorus/Pictures/Dataset remove background_200/Preprocessing/Tidak Cacat/Resize/Tidakcacat6_resize.png')"
   ]
  },
  {
   "cell_type": "code",
   "execution_count": 10,
   "metadata": {},
   "outputs": [],
   "source": [
    "image = Image.open('C:/Users/Indriani T Sitorus/Pictures/Dataset remove background_200/Tidak Cacat/Tidakcacat7.png')\n",
    "# create new size of image (image resize process) 100 x 100 pixel\n",
    "new_image = image.resize((100, 100))\n",
    "#save resize output in directory\n",
    "new_image.save('C:/Users/Indriani T Sitorus/Pictures/Dataset remove background_200/Preprocessing/Tidak Cacat/Resize/Tidakcacat7_resize.png')"
   ]
  },
  {
   "cell_type": "code",
   "execution_count": 11,
   "metadata": {},
   "outputs": [],
   "source": [
    "image = Image.open('C:/Users/Indriani T Sitorus/Pictures/Dataset remove background_200/Tidak Cacat/Tidakcacat8.png')\n",
    "# create new size of image (image resize process) 100 x 100 pixel\n",
    "new_image = image.resize((100, 100))\n",
    "#save resize output in directory\n",
    "new_image.save('C:/Users/Indriani T Sitorus/Pictures/Dataset remove background_200/Preprocessing/Tidak Cacat/Resize/Tidakcacat8_resize.png')"
   ]
  },
  {
   "cell_type": "code",
   "execution_count": 12,
   "metadata": {},
   "outputs": [],
   "source": [
    "image = Image.open('C:/Users/Indriani T Sitorus/Pictures/Dataset remove background_200/Tidak Cacat/Tidakcacat9.png')\n",
    "# create new size of image (image resize process) 100 x 100 pixel\n",
    "new_image = image.resize((100, 100))\n",
    "#save resize output in directory\n",
    "new_image.save('C:/Users/Indriani T Sitorus/Pictures/Dataset remove background_200/Preprocessing/Tidak Cacat/Resize/Tidakcacat9_resize.png')"
   ]
  },
  {
   "cell_type": "code",
   "execution_count": 13,
   "metadata": {},
   "outputs": [],
   "source": [
    "image = Image.open('C:/Users/Indriani T Sitorus/Pictures/Dataset remove background_200/Tidak Cacat/Tidakcacat10.png')\n",
    "# create new size of image (image resize process) 100 x 100 pixel\n",
    "new_image = image.resize((100, 100))\n",
    "#save resize output in directory\n",
    "new_image.save('C:/Users/Indriani T Sitorus/Pictures/Dataset remove background_200/Preprocessing/Tidak Cacat/Resize/Tidakcacat10_resize.png')"
   ]
  },
  {
   "cell_type": "code",
   "execution_count": 14,
   "metadata": {},
   "outputs": [],
   "source": [
    "image = Image.open('C:/Users/Indriani T Sitorus/Pictures/Dataset remove background_200/Tidak Cacat/Tidakcacat11.png')\n",
    "# create new size of image (image resize process) 100 x 100 pixel\n",
    "new_image = image.resize((100, 100))\n",
    "#save resize output in directory\n",
    "new_image.save('C:/Users/Indriani T Sitorus/Pictures/Dataset remove background_200/Preprocessing/Tidak Cacat/Resize/Tidakcacat11_resize.png')"
   ]
  },
  {
   "cell_type": "code",
   "execution_count": 15,
   "metadata": {},
   "outputs": [],
   "source": [
    "image = Image.open('C:/Users/Indriani T Sitorus/Pictures/Dataset remove background_200/Tidak Cacat/Tidakcacat12.png')\n",
    "# create new size of image (image resize process) 100 x 100 pixel\n",
    "new_image = image.resize((100, 100))\n",
    "#save resize output in directory\n",
    "new_image.save('C:/Users/Indriani T Sitorus/Pictures/Dataset remove background_200/Preprocessing/Tidak Cacat/Resize/Tidakcacat12_resize.png')"
   ]
  },
  {
   "cell_type": "code",
   "execution_count": 16,
   "metadata": {},
   "outputs": [],
   "source": [
    "image = Image.open('C:/Users/Indriani T Sitorus/Pictures/Dataset remove background_200/Tidak Cacat/Tidakcacat13.png')\n",
    "# create new size of image (image resize process) 100 x 100 pixel\n",
    "new_image = image.resize((100, 100))\n",
    "#save resize output in directory\n",
    "new_image.save('C:/Users/Indriani T Sitorus/Pictures/Dataset remove background_200/Preprocessing/Tidak Cacat/Resize/Tidakcacat13_resize.png')"
   ]
  },
  {
   "cell_type": "code",
   "execution_count": 17,
   "metadata": {},
   "outputs": [],
   "source": [
    "image = Image.open('C:/Users/Indriani T Sitorus/Pictures/Dataset remove background_200/Tidak Cacat/Tidakcacat14.png')\n",
    "# create new size of image (image resize process) 100 x 100 pixel\n",
    "new_image = image.resize((100, 100))\n",
    "#save resize output in directory\n",
    "new_image.save('C:/Users/Indriani T Sitorus/Pictures/Dataset remove background_200/Preprocessing/Tidak Cacat/Resize/Tidakcacat14_resize.png')"
   ]
  },
  {
   "cell_type": "code",
   "execution_count": 18,
   "metadata": {},
   "outputs": [],
   "source": [
    "image = Image.open('C:/Users/Indriani T Sitorus/Pictures/Dataset remove background_200/Tidak Cacat/Tidakcacat15.png')\n",
    "# create new size of image (image resize process) 100 x 100 pixel\n",
    "new_image = image.resize((100, 100))\n",
    "#save resize output in directory\n",
    "new_image.save('C:/Users/Indriani T Sitorus/Pictures/Dataset remove background_200/Preprocessing/Tidak Cacat/Resize/Tidakcacat15_resize.png')"
   ]
  },
  {
   "cell_type": "code",
   "execution_count": 19,
   "metadata": {},
   "outputs": [],
   "source": [
    "image = Image.open('C:/Users/Indriani T Sitorus/Pictures/Dataset remove background_200/Tidak Cacat/Tidakcacat16.png')\n",
    "# create new size of image (image resize process) 100 x 100 pixel\n",
    "new_image = image.resize((100, 100))\n",
    "#save resize output in directory\n",
    "new_image.save('C:/Users/Indriani T Sitorus/Pictures/Dataset remove background_200/Preprocessing/Tidak Cacat/Resize/Tidakcacat16_resize.png')"
   ]
  },
  {
   "cell_type": "code",
   "execution_count": 20,
   "metadata": {},
   "outputs": [],
   "source": [
    "image = Image.open('C:/Users/Indriani T Sitorus/Pictures/Dataset remove background_200/Tidak Cacat/Tidakcacat17.png')\n",
    "# create new size of image (image resize process) 100 x 100 pixel\n",
    "new_image = image.resize((100, 100))\n",
    "#save resize output in directory\n",
    "new_image.save('C:/Users/Indriani T Sitorus/Pictures/Dataset remove background_200/Preprocessing/Tidak Cacat/Resize/Tidakcacat17_resize.png')"
   ]
  },
  {
   "cell_type": "code",
   "execution_count": 21,
   "metadata": {},
   "outputs": [],
   "source": [
    "image = Image.open('C:/Users/Indriani T Sitorus/Pictures/Dataset remove background_200/Tidak Cacat/Tidakcacat18.png')\n",
    "# create new size of image (image resize process) 100 x 100 pixel\n",
    "new_image = image.resize((100, 100))\n",
    "#save resize output in directory\n",
    "new_image.save('C:/Users/Indriani T Sitorus/Pictures/Dataset remove background_200/Preprocessing/Tidak Cacat/Resize/Tidakcacat18_resize.png')"
   ]
  },
  {
   "cell_type": "code",
   "execution_count": 22,
   "metadata": {},
   "outputs": [],
   "source": [
    "image = Image.open('C:/Users/Indriani T Sitorus/Pictures/Dataset remove background_200/Tidak Cacat/Tidakcacat19.png')\n",
    "# create new size of image (image resize process) 100 x 100 pixel\n",
    "new_image = image.resize((100, 100))\n",
    "#save resize output in directory\n",
    "new_image.save('C:/Users/Indriani T Sitorus/Pictures/Dataset remove background_200/Preprocessing/Tidak Cacat/Resize/Tidakcacat19_resize.png')"
   ]
  },
  {
   "cell_type": "code",
   "execution_count": 23,
   "metadata": {},
   "outputs": [],
   "source": [
    "image = Image.open('C:/Users/Indriani T Sitorus/Pictures/Dataset remove background_200/Tidak Cacat/Tidakcacat20.png')\n",
    "# create new size of image (image resize process) 100 x 100 pixel\n",
    "new_image = image.resize((100, 100))\n",
    "#save resize output in directory\n",
    "new_image.save('C:/Users/Indriani T Sitorus/Pictures/Dataset remove background_200/Preprocessing/Tidak Cacat/Resize/Tidakcacat20_resize.png')"
   ]
  },
  {
   "cell_type": "code",
   "execution_count": 24,
   "metadata": {},
   "outputs": [],
   "source": [
    "image = Image.open('C:/Users/Indriani T Sitorus/Pictures/Dataset remove background_200/Tidak Cacat/Tidakcacat21.png')\n",
    "# create new size of image (image resize process) 100 x 100 pixel\n",
    "new_image = image.resize((100, 100))\n",
    "#save resize output in directory\n",
    "new_image.save('C:/Users/Indriani T Sitorus/Pictures/Dataset remove background_200/Preprocessing/Tidak Cacat/Resize/Tidakcacat21_resize.png')"
   ]
  },
  {
   "cell_type": "code",
   "execution_count": 25,
   "metadata": {},
   "outputs": [],
   "source": [
    "image = Image.open('C:/Users/Indriani T Sitorus/Pictures/Dataset remove background_200/Tidak Cacat/Tidakcacat22.png')\n",
    "# create new size of image (image resize process) 100 x 100 pixel\n",
    "new_image = image.resize((100, 100))\n",
    "#save resize output in directory\n",
    "new_image.save('C:/Users/Indriani T Sitorus/Pictures/Dataset remove background_200/Preprocessing/Tidak Cacat/Resize/Tidakcacat22_resize.png')"
   ]
  },
  {
   "cell_type": "code",
   "execution_count": 26,
   "metadata": {},
   "outputs": [],
   "source": [
    "image = Image.open('C:/Users/Indriani T Sitorus/Pictures/Dataset remove background_200/Tidak Cacat/Tidakcacat23.png')\n",
    "# create new size of image (image resize process) 100 x 100 pixel\n",
    "new_image = image.resize((100, 100))\n",
    "#save resize output in directory\n",
    "new_image.save('C:/Users/Indriani T Sitorus/Pictures/Dataset remove background_200/Preprocessing/Tidak Cacat/Resize/Tidakcacat23_resize.png')"
   ]
  },
  {
   "cell_type": "code",
   "execution_count": 27,
   "metadata": {},
   "outputs": [],
   "source": [
    "image = Image.open('C:/Users/Indriani T Sitorus/Pictures/Dataset remove background_200/Tidak Cacat/Tidakcacat24.png')\n",
    "# create new size of image (image resize process) 100 x 100 pixel\n",
    "new_image = image.resize((100, 100))\n",
    "#save resize output in directory\n",
    "new_image.save('C:/Users/Indriani T Sitorus/Pictures/Dataset remove background_200/Preprocessing/Tidak Cacat/Resize/Tidakcacat24_resize.png')"
   ]
  },
  {
   "cell_type": "code",
   "execution_count": 28,
   "metadata": {},
   "outputs": [],
   "source": [
    "image = Image.open('C:/Users/Indriani T Sitorus/Pictures/Dataset remove background_200/Tidak Cacat/Tidakcacat25.png')\n",
    "# create new size of image (image resize process) 100 x 100 pixel\n",
    "new_image = image.resize((100, 100))\n",
    "#save resize output in directory\n",
    "new_image.save('C:/Users/Indriani T Sitorus/Pictures/Dataset remove background_200/Preprocessing/Tidak Cacat/Resize/Tidakcacat25_resize.png')"
   ]
  },
  {
   "cell_type": "code",
   "execution_count": 29,
   "metadata": {},
   "outputs": [],
   "source": [
    "image = Image.open('C:/Users/Indriani T Sitorus/Pictures/Dataset remove background_200/Tidak Cacat/Tidakcacat26.png')\n",
    "# create new size of image (image resize process) 100 x 100 pixel\n",
    "new_image = image.resize((100, 100))\n",
    "#save resize output in directory\n",
    "new_image.save('C:/Users/Indriani T Sitorus/Pictures/Dataset remove background_200/Preprocessing/Tidak Cacat/Resize/Tidakcacat26_resize.png')"
   ]
  },
  {
   "cell_type": "code",
   "execution_count": 30,
   "metadata": {},
   "outputs": [],
   "source": [
    "image = Image.open('C:/Users/Indriani T Sitorus/Pictures/Dataset remove background_200/Tidak Cacat/Tidakcacat27.png')\n",
    "# create new size of image (image resize process) 100 x 100 pixel\n",
    "new_image = image.resize((100, 100))\n",
    "#save resize output in directory\n",
    "new_image.save('C:/Users/Indriani T Sitorus/Pictures/Dataset remove background_200/Preprocessing/Tidak Cacat/Resize/Tidakcacat27_resize.png')"
   ]
  },
  {
   "cell_type": "code",
   "execution_count": 31,
   "metadata": {},
   "outputs": [],
   "source": [
    "image = Image.open('C:/Users/Indriani T Sitorus/Pictures/Dataset remove background_200/Tidak Cacat/Tidakcacat28.png')\n",
    "# create new size of image (image resize process) 100 x 100 pixel\n",
    "new_image = image.resize((100, 100))\n",
    "#save resize output in directory\n",
    "new_image.save('C:/Users/Indriani T Sitorus/Pictures/Dataset remove background_200/Preprocessing/Tidak Cacat/Resize/Tidakcacat28_resize.png')"
   ]
  },
  {
   "cell_type": "code",
   "execution_count": 32,
   "metadata": {},
   "outputs": [],
   "source": [
    "image = Image.open('C:/Users/Indriani T Sitorus/Pictures/Dataset remove background_200/Tidak Cacat/Tidakcacat29.png')\n",
    "# create new size of image (image resize process) 100 x 100 pixel\n",
    "new_image = image.resize((100, 100))\n",
    "#save resize output in directory\n",
    "new_image.save('C:/Users/Indriani T Sitorus/Pictures/Dataset remove background_200/Preprocessing/Tidak Cacat/Resize/Tidakcacat29_resize.png')"
   ]
  },
  {
   "cell_type": "code",
   "execution_count": 33,
   "metadata": {},
   "outputs": [],
   "source": [
    "image = Image.open('C:/Users/Indriani T Sitorus/Pictures/Dataset remove background_200/Tidak Cacat/Tidakcacat30.png')\n",
    "# create new size of image (image resize process) 100 x 100 pixel\n",
    "new_image = image.resize((100, 100))\n",
    "#save resize output in directory\n",
    "new_image.save('C:/Users/Indriani T Sitorus/Pictures/Dataset remove background_200/Preprocessing/Tidak Cacat/Resize/Tidakcacat30_resize.png')"
   ]
  },
  {
   "cell_type": "code",
   "execution_count": 34,
   "metadata": {},
   "outputs": [],
   "source": [
    "image = Image.open('C:/Users/Indriani T Sitorus/Pictures/Dataset remove background_200/Tidak Cacat/Tidakcacat31.png')\n",
    "# create new size of image (image resize process) 100 x 100 pixel\n",
    "new_image = image.resize((100, 100))\n",
    "#save resize output in directory\n",
    "new_image.save('C:/Users/Indriani T Sitorus/Pictures/Dataset remove background_200/Preprocessing/Tidak Cacat/Resize/Tidakcacat31_resize.png')"
   ]
  },
  {
   "cell_type": "code",
   "execution_count": 35,
   "metadata": {},
   "outputs": [],
   "source": [
    "image = Image.open('C:/Users/Indriani T Sitorus/Pictures/Dataset remove background_200/Tidak Cacat/Tidakcacat32.png')\n",
    "# create new size of image (image resize process) 100 x 100 pixel\n",
    "new_image = image.resize((100, 100))\n",
    "#save resize output in directory\n",
    "new_image.save('C:/Users/Indriani T Sitorus/Pictures/Dataset remove background_200/Preprocessing/Tidak Cacat/Resize/Tidakcacat32_resize.png')"
   ]
  },
  {
   "cell_type": "code",
   "execution_count": 36,
   "metadata": {},
   "outputs": [],
   "source": [
    "image = Image.open('C:/Users/Indriani T Sitorus/Pictures/Dataset remove background_200/Tidak Cacat/Tidakcacat33.png')\n",
    "# create new size of image (image resize process) 100 x 100 pixel\n",
    "new_image = image.resize((100, 100))\n",
    "#save resize output in directory\n",
    "new_image.save('C:/Users/Indriani T Sitorus/Pictures/Dataset remove background_200/Preprocessing/Tidak Cacat/Resize/Tidakcacat33_resize.png')"
   ]
  },
  {
   "cell_type": "code",
   "execution_count": 37,
   "metadata": {},
   "outputs": [],
   "source": [
    "image = Image.open('C:/Users/Indriani T Sitorus/Pictures/Dataset remove background_200/Tidak Cacat/Tidakcacat34.png')\n",
    "# create new size of image (image resize process) 100 x 100 pixel\n",
    "new_image = image.resize((100, 100))\n",
    "#save resize output in directory\n",
    "new_image.save('C:/Users/Indriani T Sitorus/Pictures/Dataset remove background_200/Preprocessing/Tidak Cacat/Resize/Tidakcacat34_resize.png')"
   ]
  },
  {
   "cell_type": "code",
   "execution_count": 38,
   "metadata": {},
   "outputs": [],
   "source": [
    "image = Image.open('C:/Users/Indriani T Sitorus/Pictures/Dataset remove background_200/Tidak Cacat/Tidakcacat35.png')\n",
    "# create new size of image (image resize process) 100 x 100 pixel\n",
    "new_image = image.resize((100, 100))\n",
    "#save resize output in directory\n",
    "new_image.save('C:/Users/Indriani T Sitorus/Pictures/Dataset remove background_200/Preprocessing/Tidak Cacat/Resize/Tidakcacat35_resize.png')"
   ]
  },
  {
   "cell_type": "code",
   "execution_count": 39,
   "metadata": {},
   "outputs": [],
   "source": [
    "image = Image.open('C:/Users/Indriani T Sitorus/Pictures/Dataset remove background_200/Tidak Cacat/Tidakcacat36.png')\n",
    "# create new size of image (image resize process) 100 x 100 pixel\n",
    "new_image = image.resize((100, 100))\n",
    "#save resize output in directory\n",
    "new_image.save('C:/Users/Indriani T Sitorus/Pictures/Dataset remove background_200/Preprocessing/Tidak Cacat/Resize/Tidakcacat36_resize.png')"
   ]
  },
  {
   "cell_type": "code",
   "execution_count": 40,
   "metadata": {},
   "outputs": [],
   "source": [
    "image = Image.open('C:/Users/Indriani T Sitorus/Pictures/Dataset remove background_200/Tidak Cacat/Tidakcacat37.png')\n",
    "# create new size of image (image resize process) 100 x 100 pixel\n",
    "new_image = image.resize((100, 100))\n",
    "#save resize output in directory\n",
    "new_image.save('C:/Users/Indriani T Sitorus/Pictures/Dataset remove background_200/Preprocessing/Tidak Cacat/Resize/Tidakcacat37_resize.png')"
   ]
  },
  {
   "cell_type": "code",
   "execution_count": 41,
   "metadata": {},
   "outputs": [],
   "source": [
    "image = Image.open('C:/Users/Indriani T Sitorus/Pictures/Dataset remove background_200/Tidak Cacat/Tidakcacat38.png')\n",
    "# create new size of image (image resize process) 100 x 100 pixel\n",
    "new_image = image.resize((100, 100))\n",
    "#save resize output in directory\n",
    "new_image.save('C:/Users/Indriani T Sitorus/Pictures/Dataset remove background_200/Preprocessing/Tidak Cacat/Resize/Tidakcacat38_resize.png')"
   ]
  },
  {
   "cell_type": "code",
   "execution_count": 42,
   "metadata": {},
   "outputs": [],
   "source": [
    "image = Image.open('C:/Users/Indriani T Sitorus/Pictures/Dataset remove background_200/Tidak Cacat/Tidakcacat39.png')\n",
    "# create new size of image (image resize process) 100 x 100 pixel\n",
    "new_image = image.resize((100, 100))\n",
    "#save resize output in directory\n",
    "new_image.save('C:/Users/Indriani T Sitorus/Pictures/Dataset remove background_200/Preprocessing/Tidak Cacat/Resize/Tidakcacat39_resize.png')"
   ]
  },
  {
   "cell_type": "code",
   "execution_count": 43,
   "metadata": {},
   "outputs": [],
   "source": [
    "image = Image.open('C:/Users/Indriani T Sitorus/Pictures/Dataset remove background_200/Tidak Cacat/Tidakcacat40.png')\n",
    "# create new size of image (image resize process) 100 x 100 pixel\n",
    "new_image = image.resize((100, 100))\n",
    "#save resize output in directory\n",
    "new_image.save('C:/Users/Indriani T Sitorus/Pictures/Dataset remove background_200/Preprocessing/Tidak Cacat/Resize/Tidakcacat40_resize.png')"
   ]
  },
  {
   "cell_type": "code",
   "execution_count": 44,
   "metadata": {},
   "outputs": [],
   "source": [
    "image = Image.open('C:/Users/Indriani T Sitorus/Pictures/Dataset remove background_200/Tidak Cacat/Tidakcacat41.png')\n",
    "# create new size of image (image resize process) 100 x 100 pixel\n",
    "new_image = image.resize((100, 100))\n",
    "#save resize output in directory\n",
    "new_image.save('C:/Users/Indriani T Sitorus/Pictures/Dataset remove background_200/Preprocessing/Tidak Cacat/Resize/Tidakcacat41_resize.png')"
   ]
  },
  {
   "cell_type": "code",
   "execution_count": 45,
   "metadata": {},
   "outputs": [],
   "source": [
    "image = Image.open('C:/Users/Indriani T Sitorus/Pictures/Dataset remove background_200/Tidak Cacat/Tidakcacat42.png')\n",
    "# create new size of image (image resize process) 100 x 100 pixel\n",
    "new_image = image.resize((100, 100))\n",
    "#save resize output in directory\n",
    "new_image.save('C:/Users/Indriani T Sitorus/Pictures/Dataset remove background_200/Preprocessing/Tidak Cacat/Resize/Tidakcacat42_resize.png')"
   ]
  },
  {
   "cell_type": "code",
   "execution_count": 46,
   "metadata": {},
   "outputs": [],
   "source": [
    "image = Image.open('C:/Users/Indriani T Sitorus/Pictures/Dataset remove background_200/Tidak Cacat/Tidakcacat43.png')\n",
    "# create new size of image (image resize process) 100 x 100 pixel\n",
    "new_image = image.resize((100, 100))\n",
    "#save resize output in directory\n",
    "new_image.save('C:/Users/Indriani T Sitorus/Pictures/Dataset remove background_200/Preprocessing/Tidak Cacat/Resize/Tidakcacat43_resize.png')"
   ]
  },
  {
   "cell_type": "code",
   "execution_count": 47,
   "metadata": {},
   "outputs": [],
   "source": [
    "image = Image.open('C:/Users/Indriani T Sitorus/Pictures/Dataset remove background_200/Tidak Cacat/Tidakcacat44.png')\n",
    "# create new size of image (image resize process) 100 x 100 pixel\n",
    "new_image = image.resize((100, 100))\n",
    "#save resize output in directory\n",
    "new_image.save('C:/Users/Indriani T Sitorus/Pictures/Dataset remove background_200/Preprocessing/Tidak Cacat/Resize/Tidakcacat44_resize.png')"
   ]
  },
  {
   "cell_type": "code",
   "execution_count": 48,
   "metadata": {},
   "outputs": [],
   "source": [
    "image = Image.open('C:/Users/Indriani T Sitorus/Pictures/Dataset remove background_200/Tidak Cacat/Tidakcacat45.png')\n",
    "# create new size of image (image resize process) 100 x 100 pixel\n",
    "new_image = image.resize((100, 100))\n",
    "#save resize output in directory\n",
    "new_image.save('C:/Users/Indriani T Sitorus/Pictures/Dataset remove background_200/Preprocessing/Tidak Cacat/Resize/Tidakcacat45_resize.png')"
   ]
  },
  {
   "cell_type": "code",
   "execution_count": 49,
   "metadata": {},
   "outputs": [],
   "source": [
    "image = Image.open('C:/Users/Indriani T Sitorus/Pictures/Dataset remove background_200/Tidak Cacat/Tidakcacat46.png')\n",
    "# create new size of image (image resize process) 100 x 100 pixel\n",
    "new_image = image.resize((100, 100))\n",
    "#save resize output in directory\n",
    "new_image.save('C:/Users/Indriani T Sitorus/Pictures/Dataset remove background_200/Preprocessing/Tidak Cacat/Resize/Tidakcacat46_resize.png')"
   ]
  },
  {
   "cell_type": "code",
   "execution_count": 50,
   "metadata": {},
   "outputs": [],
   "source": [
    "image = Image.open('C:/Users/Indriani T Sitorus/Pictures/Dataset remove background_200/Tidak Cacat/Tidakcacat47.png')\n",
    "# create new size of image (image resize process) 100 x 100 pixel\n",
    "new_image = image.resize((100, 100))\n",
    "#save resize output in directory\n",
    "new_image.save('C:/Users/Indriani T Sitorus/Pictures/Dataset remove background_200/Preprocessing/Tidak Cacat/Resize/Tidakcacat47_resize.png')"
   ]
  },
  {
   "cell_type": "code",
   "execution_count": 51,
   "metadata": {},
   "outputs": [],
   "source": [
    "image = Image.open('C:/Users/Indriani T Sitorus/Pictures/Dataset remove background_200/Tidak Cacat/Tidakcacat48.png')\n",
    "# create new size of image (image resize process) 100 x 100 pixel\n",
    "new_image = image.resize((100, 100))\n",
    "#save resize output in directory\n",
    "new_image.save('C:/Users/Indriani T Sitorus/Pictures/Dataset remove background_200/Preprocessing/Tidak Cacat/Resize/Tidakcacat48_resize.png')"
   ]
  },
  {
   "cell_type": "code",
   "execution_count": 52,
   "metadata": {},
   "outputs": [],
   "source": [
    "image = Image.open('C:/Users/Indriani T Sitorus/Pictures/Dataset remove background_200/Tidak Cacat/Tidakcacat49.png')\n",
    "# create new size of image (image resize process) 100 x 100 pixel\n",
    "new_image = image.resize((100, 100))\n",
    "#save resize output in directory\n",
    "new_image.save('C:/Users/Indriani T Sitorus/Pictures/Dataset remove background_200/Preprocessing/Tidak Cacat/Resize/Tidakcacat49_resize.png')"
   ]
  },
  {
   "cell_type": "code",
   "execution_count": 53,
   "metadata": {},
   "outputs": [],
   "source": [
    "image = Image.open('C:/Users/Indriani T Sitorus/Pictures/Dataset remove background_200/Tidak Cacat/Tidakcacat50.png')\n",
    "# create new size of image (image resize process) 100 x 100 pixel\n",
    "new_image = image.resize((100, 100))\n",
    "#save resize output in directory\n",
    "new_image.save('C:/Users/Indriani T Sitorus/Pictures/Dataset remove background_200/Preprocessing/Tidak Cacat/Resize/Tidakcacat50_resize.png')"
   ]
  },
  {
   "cell_type": "code",
   "execution_count": 54,
   "metadata": {},
   "outputs": [],
   "source": [
    "image = Image.open('C:/Users/Indriani T Sitorus/Pictures/Dataset remove background_200/Tidak Cacat/Tidakcacat51.png')\n",
    "# create new size of image (image resize process) 100 x 100 pixel\n",
    "new_image = image.resize((100, 100))\n",
    "#save resize output in directory\n",
    "new_image.save('C:/Users/Indriani T Sitorus/Pictures/Dataset remove background_200/Preprocessing/Tidak Cacat/Resize/Tidakcacat51_resize.png')"
   ]
  },
  {
   "cell_type": "code",
   "execution_count": 55,
   "metadata": {},
   "outputs": [],
   "source": [
    "image = Image.open('C:/Users/Indriani T Sitorus/Pictures/Dataset remove background_200/Tidak Cacat/Tidakcacat52.png')\n",
    "# create new size of image (image resize process) 100 x 100 pixel\n",
    "new_image = image.resize((100, 100))\n",
    "#save resize output in directory\n",
    "new_image.save('C:/Users/Indriani T Sitorus/Pictures/Dataset remove background_200/Preprocessing/Tidak Cacat/Resize/Tidakcacat52_resize.png')"
   ]
  },
  {
   "cell_type": "code",
   "execution_count": 56,
   "metadata": {},
   "outputs": [],
   "source": [
    "image = Image.open('C:/Users/Indriani T Sitorus/Pictures/Dataset remove background_200/Tidak Cacat/Tidakcacat53.png')\n",
    "# create new size of image (image resize process) 100 x 100 pixel\n",
    "new_image = image.resize((100, 100))\n",
    "#save resize output in directory\n",
    "new_image.save('C:/Users/Indriani T Sitorus/Pictures/Dataset remove background_200/Preprocessing/Tidak Cacat/Resize/Tidakcacat53_resize.png')"
   ]
  },
  {
   "cell_type": "code",
   "execution_count": 57,
   "metadata": {},
   "outputs": [],
   "source": [
    "image = Image.open('C:/Users/Indriani T Sitorus/Pictures/Dataset remove background_200/Tidak Cacat/Tidakcacat54.png')\n",
    "# create new size of image (image resize process) 100 x 100 pixel\n",
    "new_image = image.resize((100, 100))\n",
    "#save resize output in directory\n",
    "new_image.save('C:/Users/Indriani T Sitorus/Pictures/Dataset remove background_200/Preprocessing/Tidak Cacat/Resize/Tidakcacat54_resize.png')"
   ]
  },
  {
   "cell_type": "code",
   "execution_count": 58,
   "metadata": {},
   "outputs": [],
   "source": [
    "image = Image.open('C:/Users/Indriani T Sitorus/Pictures/Dataset remove background_200/Tidak Cacat/Tidakcacat55.png')\n",
    "# create new size of image (image resize process) 100 x 100 pixel\n",
    "new_image = image.resize((100, 100))\n",
    "#save resize output in directory\n",
    "new_image.save('C:/Users/Indriani T Sitorus/Pictures/Dataset remove background_200/Preprocessing/Tidak Cacat/Resize/Tidakcacat55_resize.png')"
   ]
  },
  {
   "cell_type": "code",
   "execution_count": 59,
   "metadata": {},
   "outputs": [],
   "source": [
    "image = Image.open('C:/Users/Indriani T Sitorus/Pictures/Dataset remove background_200/Tidak Cacat/Tidakcacat56.png')\n",
    "# create new size of image (image resize process) 100 x 100 pixel\n",
    "new_image = image.resize((100, 100))\n",
    "#save resize output in directory\n",
    "new_image.save('C:/Users/Indriani T Sitorus/Pictures/Dataset remove background_200/Preprocessing/Tidak Cacat/Resize/Tidakcacat56_resize.png')"
   ]
  },
  {
   "cell_type": "code",
   "execution_count": 60,
   "metadata": {},
   "outputs": [],
   "source": [
    "image = Image.open('C:/Users/Indriani T Sitorus/Pictures/Dataset remove background_200/Tidak Cacat/Tidakcacat57.png')\n",
    "# create new size of image (image resize process) 100 x 100 pixel\n",
    "new_image = image.resize((100, 100))\n",
    "#save resize output in directory\n",
    "new_image.save('C:/Users/Indriani T Sitorus/Pictures/Dataset remove background_200/Preprocessing/Tidak Cacat/Resize/Tidakcacat57_resize.png')"
   ]
  },
  {
   "cell_type": "code",
   "execution_count": 61,
   "metadata": {},
   "outputs": [],
   "source": [
    "image = Image.open('C:/Users/Indriani T Sitorus/Pictures/Dataset remove background_200/Tidak Cacat/Tidakcacat58.png')\n",
    "# create new size of image (image resize process) 100 x 100 pixel\n",
    "new_image = image.resize((100, 100))\n",
    "#save resize output in directory\n",
    "new_image.save('C:/Users/Indriani T Sitorus/Pictures/Dataset remove background_200/Preprocessing/Tidak Cacat/Resize/Tidakcacat58_resize.png')"
   ]
  },
  {
   "cell_type": "code",
   "execution_count": 62,
   "metadata": {},
   "outputs": [],
   "source": [
    "image = Image.open('C:/Users/Indriani T Sitorus/Pictures/Dataset remove background_200/Tidak Cacat/Tidakcacat59.png')\n",
    "# create new size of image (image resize process) 100 x 100 pixel\n",
    "new_image = image.resize((100, 100))\n",
    "#save resize output in directory\n",
    "new_image.save('C:/Users/Indriani T Sitorus/Pictures/Dataset remove background_200/Preprocessing/Tidak Cacat/Resize/Tidakcacat59_resize.png')"
   ]
  },
  {
   "cell_type": "code",
   "execution_count": 63,
   "metadata": {},
   "outputs": [],
   "source": [
    "image = Image.open('C:/Users/Indriani T Sitorus/Pictures/Dataset remove background_200/Tidak Cacat/Tidakcacat60.png')\n",
    "# create new size of image (image resize process) 100 x 100 pixel\n",
    "new_image = image.resize((100, 100))\n",
    "#save resize output in directory\n",
    "new_image.save('C:/Users/Indriani T Sitorus/Pictures/Dataset remove background_200/Preprocessing/Tidak Cacat/Resize/Tidakcacat60_resize.png')"
   ]
  },
  {
   "cell_type": "code",
   "execution_count": 64,
   "metadata": {},
   "outputs": [],
   "source": [
    "image = Image.open('C:/Users/Indriani T Sitorus/Pictures/Dataset remove background_200/Tidak Cacat/Tidakcacat61.png')\n",
    "# create new size of image (image resize process) 100 x 100 pixel\n",
    "new_image = image.resize((100, 100))\n",
    "#save resize output in directory\n",
    "new_image.save('C:/Users/Indriani T Sitorus/Pictures/Dataset remove background_200/Preprocessing/Tidak Cacat/Resize/Tidakcacat61_resize.png')"
   ]
  },
  {
   "cell_type": "code",
   "execution_count": 65,
   "metadata": {},
   "outputs": [],
   "source": [
    "image = Image.open('C:/Users/Indriani T Sitorus/Pictures/Dataset remove background_200/Tidak Cacat/Tidakcacat62.png')\n",
    "# create new size of image (image resize process) 100 x 100 pixel\n",
    "new_image = image.resize((100, 100))\n",
    "#save resize output in directory\n",
    "new_image.save('C:/Users/Indriani T Sitorus/Pictures/Dataset remove background_200/Preprocessing/Tidak Cacat/Resize/Tidakcacat62_resize.png')"
   ]
  },
  {
   "cell_type": "code",
   "execution_count": 66,
   "metadata": {},
   "outputs": [],
   "source": [
    "image = Image.open('C:/Users/Indriani T Sitorus/Pictures/Dataset remove background_200/Tidak Cacat/Tidakcacat63.png')\n",
    "# create new size of image (image resize process) 100 x 100 pixel\n",
    "new_image = image.resize((100, 100))\n",
    "#save resize output in directory\n",
    "new_image.save('C:/Users/Indriani T Sitorus/Pictures/Dataset remove background_200/Preprocessing/Tidak Cacat/Resize/Tidakcacat63_resize.png')"
   ]
  },
  {
   "cell_type": "code",
   "execution_count": 67,
   "metadata": {},
   "outputs": [],
   "source": [
    "image = Image.open('C:/Users/Indriani T Sitorus/Pictures/Dataset remove background_200/Tidak Cacat/Tidakcacat64.png')\n",
    "# create new size of image (image resize process) 100 x 100 pixel\n",
    "new_image = image.resize((100, 100))\n",
    "#save resize output in directory\n",
    "new_image.save('C:/Users/Indriani T Sitorus/Pictures/Dataset remove background_200/Preprocessing/Tidak Cacat/Resize/Tidakcacat64_resize.png')"
   ]
  },
  {
   "cell_type": "code",
   "execution_count": 68,
   "metadata": {},
   "outputs": [],
   "source": [
    "image = Image.open('C:/Users/Indriani T Sitorus/Pictures/Dataset remove background_200/Tidak Cacat/Tidakcacat65.png')\n",
    "# create new size of image (image resize process) 100 x 100 pixel\n",
    "new_image = image.resize((100, 100))\n",
    "#save resize output in directory\n",
    "new_image.save('C:/Users/Indriani T Sitorus/Pictures/Dataset remove background_200/Preprocessing/Tidak Cacat/Resize/Tidakcacat65_resize.png')"
   ]
  },
  {
   "cell_type": "code",
   "execution_count": 69,
   "metadata": {},
   "outputs": [],
   "source": [
    "image = Image.open('C:/Users/Indriani T Sitorus/Pictures/Dataset remove background_200/Tidak Cacat/Tidakcacat66.png')\n",
    "# create new size of image (image resize process) 100 x 100 pixel\n",
    "new_image = image.resize((100, 100))\n",
    "#save resize output in directory\n",
    "new_image.save('C:/Users/Indriani T Sitorus/Pictures/Dataset remove background_200/Preprocessing/Tidak Cacat/Resize/Tidakcacat66_resize.png')"
   ]
  },
  {
   "cell_type": "code",
   "execution_count": 70,
   "metadata": {},
   "outputs": [],
   "source": [
    "image = Image.open('C:/Users/Indriani T Sitorus/Pictures/Dataset remove background_200/Tidak Cacat/Tidakcacat67.png')\n",
    "# create new size of image (image resize process) 100 x 100 pixel\n",
    "new_image = image.resize((100, 100))\n",
    "#save resize output in directory\n",
    "new_image.save('C:/Users/Indriani T Sitorus/Pictures/Dataset remove background_200/Preprocessing/Tidak Cacat/Resize/Tidakcacat67_resize.png')"
   ]
  },
  {
   "cell_type": "code",
   "execution_count": 71,
   "metadata": {},
   "outputs": [],
   "source": [
    "image = Image.open('C:/Users/Indriani T Sitorus/Pictures/Dataset remove background_200/Tidak Cacat/Tidakcacat68.png')\n",
    "# create new size of image (image resize process) 100 x 100 pixel\n",
    "new_image = image.resize((100, 100))\n",
    "#save resize output in directory\n",
    "new_image.save('C:/Users/Indriani T Sitorus/Pictures/Dataset remove background_200/Preprocessing/Tidak Cacat/Resize/Tidakcacat68_resize.png')"
   ]
  },
  {
   "cell_type": "code",
   "execution_count": 72,
   "metadata": {},
   "outputs": [],
   "source": [
    "image = Image.open('C:/Users/Indriani T Sitorus/Pictures/Dataset remove background_200/Tidak Cacat/Tidakcacat69.png')\n",
    "# create new size of image (image resize process) 100 x 100 pixel\n",
    "new_image = image.resize((100, 100))\n",
    "#save resize output in directory\n",
    "new_image.save('C:/Users/Indriani T Sitorus/Pictures/Dataset remove background_200/Preprocessing/Tidak Cacat/Resize/Tidakcacat69_resize.png')"
   ]
  },
  {
   "cell_type": "code",
   "execution_count": 73,
   "metadata": {},
   "outputs": [],
   "source": [
    "image = Image.open('C:/Users/Indriani T Sitorus/Pictures/Dataset remove background_200/Tidak Cacat/Tidakcacat70.png')\n",
    "# create new size of image (image resize process) 100 x 100 pixel\n",
    "new_image = image.resize((100, 100))\n",
    "#save resize output in directory\n",
    "new_image.save('C:/Users/Indriani T Sitorus/Pictures/Dataset remove background_200/Preprocessing/Tidak Cacat/Resize/Tidakcacat70_resize.png')"
   ]
  },
  {
   "cell_type": "code",
   "execution_count": 74,
   "metadata": {},
   "outputs": [],
   "source": [
    "image = Image.open('C:/Users/Indriani T Sitorus/Pictures/Dataset remove background_200/Tidak Cacat/Tidakcacat71.png')\n",
    "# create new size of image (image resize process) 100 x 100 pixel\n",
    "new_image = image.resize((100, 100))\n",
    "#save resize output in directory\n",
    "new_image.save('C:/Users/Indriani T Sitorus/Pictures/Dataset remove background_200/Preprocessing/Tidak Cacat/Resize/Tidakcacat71_resize.png')"
   ]
  },
  {
   "cell_type": "code",
   "execution_count": 75,
   "metadata": {},
   "outputs": [],
   "source": [
    "image = Image.open('C:/Users/Indriani T Sitorus/Pictures/Dataset remove background_200/Tidak Cacat/Tidakcacat72.png')\n",
    "# create new size of image (image resize process) 100 x 100 pixel\n",
    "new_image = image.resize((100, 100))\n",
    "#save resize output in directory\n",
    "new_image.save('C:/Users/Indriani T Sitorus/Pictures/Dataset remove background_200/Preprocessing/Tidak Cacat/Resize/Tidakcacat72_resize.png')"
   ]
  },
  {
   "cell_type": "code",
   "execution_count": 76,
   "metadata": {},
   "outputs": [],
   "source": [
    "image = Image.open('C:/Users/Indriani T Sitorus/Pictures/Dataset remove background_200/Tidak Cacat/Tidakcacat73.png')\n",
    "# create new size of image (image resize process) 100 x 100 pixel\n",
    "new_image = image.resize((100, 100))\n",
    "#save resize output in directory\n",
    "new_image.save('C:/Users/Indriani T Sitorus/Pictures/Dataset remove background_200/Preprocessing/Tidak Cacat/Resize/Tidakcacat73_resize.png')"
   ]
  },
  {
   "cell_type": "code",
   "execution_count": 77,
   "metadata": {},
   "outputs": [],
   "source": [
    "image = Image.open('C:/Users/Indriani T Sitorus/Pictures/Dataset remove background_200/Tidak Cacat/Tidakcacat74.png')\n",
    "# create new size of image (image resize process) 100 x 100 pixel\n",
    "new_image = image.resize((100, 100))\n",
    "#save resize output in directory\n",
    "new_image.save('C:/Users/Indriani T Sitorus/Pictures/Dataset remove background_200/Preprocessing/Tidak Cacat/Resize/Tidakcacat74_resize.png')"
   ]
  },
  {
   "cell_type": "code",
   "execution_count": 78,
   "metadata": {},
   "outputs": [],
   "source": [
    "image = Image.open('C:/Users/Indriani T Sitorus/Pictures/Dataset remove background_200/Tidak Cacat/Tidakcacat75.png')\n",
    "# create new size of image (image resize process) 100 x 100 pixel\n",
    "new_image = image.resize((100, 100))\n",
    "#save resize output in directory\n",
    "new_image.save('C:/Users/Indriani T Sitorus/Pictures/Dataset remove background_200/Preprocessing/Tidak Cacat/Resize/Tidakcacat75_resize.png')"
   ]
  },
  {
   "cell_type": "code",
   "execution_count": 79,
   "metadata": {},
   "outputs": [],
   "source": [
    "image = Image.open('C:/Users/Indriani T Sitorus/Pictures/Dataset remove background_200/Tidak Cacat/Tidakcacat76.png')\n",
    "# create new size of image (image resize process) 100 x 100 pixel\n",
    "new_image = image.resize((100, 100))\n",
    "#save resize output in directory\n",
    "new_image.save('C:/Users/Indriani T Sitorus/Pictures/Dataset remove background_200/Preprocessing/Tidak Cacat/Resize/Tidakcacat76_resize.png')"
   ]
  },
  {
   "cell_type": "code",
   "execution_count": 80,
   "metadata": {},
   "outputs": [],
   "source": [
    "image = Image.open('C:/Users/Indriani T Sitorus/Pictures/Dataset remove background_200/Tidak Cacat/Tidakcacat77.png')\n",
    "# create new size of image (image resize process) 100 x 100 pixel\n",
    "new_image = image.resize((100, 100))\n",
    "#save resize output in directory\n",
    "new_image.save('C:/Users/Indriani T Sitorus/Pictures/Dataset remove background_200/Preprocessing/Tidak Cacat/Resize/Tidakcacat77_resize.png')"
   ]
  },
  {
   "cell_type": "code",
   "execution_count": 81,
   "metadata": {},
   "outputs": [],
   "source": [
    "image = Image.open('C:/Users/Indriani T Sitorus/Pictures/Dataset remove background_200/Tidak Cacat/Tidakcacat78.png')\n",
    "# create new size of image (image resize process) 100 x 100 pixel\n",
    "new_image = image.resize((100, 100))\n",
    "#save resize output in directory\n",
    "new_image.save('C:/Users/Indriani T Sitorus/Pictures/Dataset remove background_200/Preprocessing/Tidak Cacat/Resize/Tidakcacat78_resize.png')"
   ]
  },
  {
   "cell_type": "code",
   "execution_count": 82,
   "metadata": {},
   "outputs": [],
   "source": [
    "image = Image.open('C:/Users/Indriani T Sitorus/Pictures/Dataset remove background_200/Tidak Cacat/Tidakcacat79.png')\n",
    "# create new size of image (image resize process) 100 x 100 pixel\n",
    "new_image = image.resize((100, 100))\n",
    "#save resize output in directory\n",
    "new_image.save('C:/Users/Indriani T Sitorus/Pictures/Dataset remove background_200/Preprocessing/Tidak Cacat/Resize/Tidakcacat79_resize.png')"
   ]
  },
  {
   "cell_type": "code",
   "execution_count": 83,
   "metadata": {},
   "outputs": [],
   "source": [
    "image = Image.open('C:/Users/Indriani T Sitorus/Pictures/Dataset remove background_200/Tidak Cacat/Tidakcacat80.png')\n",
    "# create new size of image (image resize process) 100 x 100 pixel\n",
    "new_image = image.resize((100, 100))\n",
    "#save resize output in directory\n",
    "new_image.save('C:/Users/Indriani T Sitorus/Pictures/Dataset remove background_200/Preprocessing/Tidak Cacat/Resize/Tidakcacat80_resize.png')"
   ]
  },
  {
   "cell_type": "code",
   "execution_count": 84,
   "metadata": {},
   "outputs": [],
   "source": [
    "image = Image.open('C:/Users/Indriani T Sitorus/Pictures/Dataset remove background_200/Tidak Cacat/Tidakcacat81.png')\n",
    "# create new size of image (image resize process) 100 x 100 pixel\n",
    "new_image = image.resize((100, 100))\n",
    "#save resize output in directory\n",
    "new_image.save('C:/Users/Indriani T Sitorus/Pictures/Dataset remove background_200/Preprocessing/Tidak Cacat/Resize/Tidakcacat81_resize.png')"
   ]
  },
  {
   "cell_type": "code",
   "execution_count": 85,
   "metadata": {},
   "outputs": [],
   "source": [
    "image = Image.open('C:/Users/Indriani T Sitorus/Pictures/Dataset remove background_200/Tidak Cacat/Tidakcacat82.png')\n",
    "# create new size of image (image resize process) 100 x 100 pixel\n",
    "new_image = image.resize((100, 100))\n",
    "#save resize output in directory\n",
    "new_image.save('C:/Users/Indriani T Sitorus/Pictures/Dataset remove background_200/Preprocessing/Tidak Cacat/Resize/Tidakcacat82_resize.png')"
   ]
  },
  {
   "cell_type": "code",
   "execution_count": 86,
   "metadata": {},
   "outputs": [],
   "source": [
    "image = Image.open('C:/Users/Indriani T Sitorus/Pictures/Dataset remove background_200/Tidak Cacat/Tidakcacat83.png')\n",
    "# create new size of image (image resize process) 100 x 100 pixel\n",
    "new_image = image.resize((100, 100))\n",
    "#save resize output in directory\n",
    "new_image.save('C:/Users/Indriani T Sitorus/Pictures/Dataset remove background_200/Preprocessing/Tidak Cacat/Resize/Tidakcacat83_resize.png')"
   ]
  },
  {
   "cell_type": "code",
   "execution_count": 87,
   "metadata": {},
   "outputs": [],
   "source": [
    "image = Image.open('C:/Users/Indriani T Sitorus/Pictures/Dataset remove background_200/Tidak Cacat/Tidakcacat84.png')\n",
    "# create new size of image (image resize process) 100 x 100 pixel\n",
    "new_image = image.resize((100, 100))\n",
    "#save resize output in directory\n",
    "new_image.save('C:/Users/Indriani T Sitorus/Pictures/Dataset remove background_200/Preprocessing/Tidak Cacat/Resize/Tidakcacat84_resize.png')"
   ]
  },
  {
   "cell_type": "code",
   "execution_count": 88,
   "metadata": {},
   "outputs": [],
   "source": [
    "image = Image.open('C:/Users/Indriani T Sitorus/Pictures/Dataset remove background_200/Tidak Cacat/Tidakcacat85.png')\n",
    "# create new size of image (image resize process) 100 x 100 pixel\n",
    "new_image = image.resize((100, 100))\n",
    "#save resize output in directory\n",
    "new_image.save('C:/Users/Indriani T Sitorus/Pictures/Dataset remove background_200/Preprocessing/Tidak Cacat/Resize/Tidakcacat85_resize.png')"
   ]
  },
  {
   "cell_type": "code",
   "execution_count": 89,
   "metadata": {},
   "outputs": [],
   "source": [
    "image = Image.open('C:/Users/Indriani T Sitorus/Pictures/Dataset remove background_200/Tidak Cacat/Tidakcacat86.png')\n",
    "# create new size of image (image resize process) 100 x 100 pixel\n",
    "new_image = image.resize((100, 100))\n",
    "#save resize output in directory\n",
    "new_image.save('C:/Users/Indriani T Sitorus/Pictures/Dataset remove background_200/Preprocessing/Tidak Cacat/Resize/Tidakcacat86_resize.png')"
   ]
  },
  {
   "cell_type": "code",
   "execution_count": 90,
   "metadata": {},
   "outputs": [],
   "source": [
    "image = Image.open('C:/Users/Indriani T Sitorus/Pictures/Dataset remove background_200/Tidak Cacat/Tidakcacat87.png')\n",
    "# create new size of image (image resize process) 100 x 100 pixel\n",
    "new_image = image.resize((100, 100))\n",
    "#save resize output in directory\n",
    "new_image.save('C:/Users/Indriani T Sitorus/Pictures/Dataset remove background_200/Preprocessing/Tidak Cacat/Resize/Tidakcacat87_resize.png')"
   ]
  },
  {
   "cell_type": "code",
   "execution_count": 91,
   "metadata": {},
   "outputs": [],
   "source": [
    "image = Image.open('C:/Users/Indriani T Sitorus/Pictures/Dataset remove background_200/Tidak Cacat/Tidakcacat88.png')\n",
    "# create new size of image (image resize process) 100 x 100 pixel\n",
    "new_image = image.resize((100, 100))\n",
    "#save resize output in directory\n",
    "new_image.save('C:/Users/Indriani T Sitorus/Pictures/Dataset remove background_200/Preprocessing/Tidak Cacat/Resize/Tidakcacat88_resize.png')"
   ]
  },
  {
   "cell_type": "code",
   "execution_count": 92,
   "metadata": {},
   "outputs": [],
   "source": [
    "image = Image.open('C:/Users/Indriani T Sitorus/Pictures/Dataset remove background_200/Tidak Cacat/Tidakcacat89.png')\n",
    "# create new size of image (image resize process) 100 x 100 pixel\n",
    "new_image = image.resize((100, 100))\n",
    "#save resize output in directory\n",
    "new_image.save('C:/Users/Indriani T Sitorus/Pictures/Dataset remove background_200/Preprocessing/Tidak Cacat/Resize/Tidakcacat89_resize.png')"
   ]
  },
  {
   "cell_type": "code",
   "execution_count": 93,
   "metadata": {},
   "outputs": [],
   "source": [
    "image = Image.open('C:/Users/Indriani T Sitorus/Pictures/Dataset remove background_200/Tidak Cacat/Tidakcacat90.png')\n",
    "# create new size of image (image resize process) 100 x 100 pixel\n",
    "new_image = image.resize((100, 100))\n",
    "#save resize output in directory\n",
    "new_image.save('C:/Users/Indriani T Sitorus/Pictures/Dataset remove background_200/Preprocessing/Tidak Cacat/Resize/Tidakcacat90_resize.png')"
   ]
  },
  {
   "cell_type": "code",
   "execution_count": 94,
   "metadata": {},
   "outputs": [],
   "source": [
    "image = Image.open('C:/Users/Indriani T Sitorus/Pictures/Dataset remove background_200/Tidak Cacat/Tidakcacat91.png')\n",
    "# create new size of image (image resize process) 100 x 100 pixel\n",
    "new_image = image.resize((100, 100))\n",
    "#save resize output in directory\n",
    "new_image.save('C:/Users/Indriani T Sitorus/Pictures/Dataset remove background_200/Preprocessing/Tidak Cacat/Resize/Tidakcacat91_resize.png')"
   ]
  },
  {
   "cell_type": "code",
   "execution_count": 95,
   "metadata": {},
   "outputs": [],
   "source": [
    "image = Image.open('C:/Users/Indriani T Sitorus/Pictures/Dataset remove background_200/Tidak Cacat/Tidakcacat92.png')\n",
    "# create new size of image (image resize process) 100 x 100 pixel\n",
    "new_image = image.resize((100, 100))\n",
    "#save resize output in directory\n",
    "new_image.save('C:/Users/Indriani T Sitorus/Pictures/Dataset remove background_200/Preprocessing/Tidak Cacat/Resize/Tidakcacat92_resize.png')"
   ]
  },
  {
   "cell_type": "code",
   "execution_count": 96,
   "metadata": {},
   "outputs": [],
   "source": [
    "image = Image.open('C:/Users/Indriani T Sitorus/Pictures/Dataset remove background_200/Tidak Cacat/Tidakcacat93.png')\n",
    "# create new size of image (image resize process) 100 x 100 pixel\n",
    "new_image = image.resize((100, 100))\n",
    "#save resize output in directory\n",
    "new_image.save('C:/Users/Indriani T Sitorus/Pictures/Dataset remove background_200/Preprocessing/Tidak Cacat/Resize/Tidakcacat93_resize.png')"
   ]
  },
  {
   "cell_type": "code",
   "execution_count": 97,
   "metadata": {},
   "outputs": [],
   "source": [
    "image = Image.open('C:/Users/Indriani T Sitorus/Pictures/Dataset remove background_200/Tidak Cacat/Tidakcacat94.png')\n",
    "# create new size of image (image resize process) 100 x 100 pixel\n",
    "new_image = image.resize((100, 100))\n",
    "#save resize output in directory\n",
    "new_image.save('C:/Users/Indriani T Sitorus/Pictures/Dataset remove background_200/Preprocessing/Tidak Cacat/Resize/Tidakcacat94_resize.png')"
   ]
  },
  {
   "cell_type": "code",
   "execution_count": 98,
   "metadata": {},
   "outputs": [],
   "source": [
    "image = Image.open('C:/Users/Indriani T Sitorus/Pictures/Dataset remove background_200/Tidak Cacat/Tidakcacat95.png')\n",
    "# create new size of image (image resize process) 100 x 100 pixel\n",
    "new_image = image.resize((100, 100))\n",
    "#save resize output in directory\n",
    "new_image.save('C:/Users/Indriani T Sitorus/Pictures/Dataset remove background_200/Preprocessing/Tidak Cacat/Resize/Tidakcacat95_resize.png')"
   ]
  },
  {
   "cell_type": "code",
   "execution_count": 99,
   "metadata": {},
   "outputs": [],
   "source": [
    "image = Image.open('C:/Users/Indriani T Sitorus/Pictures/Dataset remove background_200/Tidak Cacat/Tidakcacat96.png')\n",
    "# create new size of image (image resize process) 100 x 100 pixel\n",
    "new_image = image.resize((100, 100))\n",
    "#save resize output in directory\n",
    "new_image.save('C:/Users/Indriani T Sitorus/Pictures/Dataset remove background_200/Preprocessing/Tidak Cacat/Resize/Tidakcacat96_resize.png')"
   ]
  },
  {
   "cell_type": "code",
   "execution_count": 100,
   "metadata": {},
   "outputs": [],
   "source": [
    "image = Image.open('C:/Users/Indriani T Sitorus/Pictures/Dataset remove background_200/Tidak Cacat/Tidakcacat97.png')\n",
    "# create new size of image (image resize process) 100 x 100 pixel\n",
    "new_image = image.resize((100, 100))\n",
    "#save resize output in directory\n",
    "new_image.save('C:/Users/Indriani T Sitorus/Pictures/Dataset remove background_200/Preprocessing/Tidak Cacat/Resize/Tidakcacat97_resize.png')"
   ]
  },
  {
   "cell_type": "code",
   "execution_count": 101,
   "metadata": {},
   "outputs": [],
   "source": [
    "image = Image.open('C:/Users/Indriani T Sitorus/Pictures/Dataset remove background_200/Tidak Cacat/Tidakcacat98.png')\n",
    "# create new size of image (image resize process) 100 x 100 pixel\n",
    "new_image = image.resize((100, 100))\n",
    "#save resize output in directory\n",
    "new_image.save('C:/Users/Indriani T Sitorus/Pictures/Dataset remove background_200/Preprocessing/Tidak Cacat/Resize/Tidakcacat98_resize.png')"
   ]
  },
  {
   "cell_type": "code",
   "execution_count": 102,
   "metadata": {},
   "outputs": [],
   "source": [
    "image = Image.open('C:/Users/Indriani T Sitorus/Pictures/Dataset remove background_200/Tidak Cacat/Tidakcacat99.png')\n",
    "# create new size of image (image resize process) 100 x 100 pixel\n",
    "new_image = image.resize((100, 100))\n",
    "#save resize output in directory\n",
    "new_image.save('C:/Users/Indriani T Sitorus/Pictures/Dataset remove background_200/Preprocessing/Tidak Cacat/Resize/Tidakcacat99_resize.png')"
   ]
  },
  {
   "cell_type": "code",
   "execution_count": 103,
   "metadata": {},
   "outputs": [],
   "source": [
    "image = Image.open('C:/Users/Indriani T Sitorus/Pictures/Dataset remove background_200/Tidak Cacat/Tidakcacat100.png')\n",
    "# create new size of image (image resize process) 100 x 100 pixel\n",
    "new_image = image.resize((100, 100))\n",
    "#save resize output in directory\n",
    "new_image.save('C:/Users/Indriani T Sitorus/Pictures/Dataset remove background_200/Preprocessing/Tidak Cacat/Resize/Tidakcacat100_resize.png')"
   ]
  },
  {
   "cell_type": "code",
   "execution_count": null,
   "metadata": {},
   "outputs": [],
   "source": [
    "\n"
   ]
  },
  {
   "cell_type": "code",
   "execution_count": null,
   "metadata": {},
   "outputs": [],
   "source": []
  }
 ],
 "metadata": {
  "kernelspec": {
   "display_name": "Python 3",
   "language": "python",
   "name": "python3"
  },
  "language_info": {
   "codemirror_mode": {
    "name": "ipython",
    "version": 3
   },
   "file_extension": ".py",
   "mimetype": "text/x-python",
   "name": "python",
   "nbconvert_exporter": "python",
   "pygments_lexer": "ipython3",
   "version": "3.7.6"
  }
 },
 "nbformat": 4,
 "nbformat_minor": 4
}
