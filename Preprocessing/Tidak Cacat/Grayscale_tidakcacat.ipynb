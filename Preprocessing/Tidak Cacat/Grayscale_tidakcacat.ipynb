{
 "cells": [
  {
   "cell_type": "markdown",
   "metadata": {},
   "source": [
    "# importing required libraries"
   ]
  },
  {
   "cell_type": "code",
   "execution_count": 1,
   "metadata": {},
   "outputs": [],
   "source": [
    "import cv2\n",
    "import glob\n",
    "import matplotlib.pyplot as plt\n",
    "import os,glob\n",
    "import os\n",
    "from os import listdir,makedirs\n",
    "from os.path import isfile,join\n",
    "import skimage\n",
    "from skimage import data\n",
    "import numpy as np\n",
    "import matplotlib.pyplot as plt\n",
    "%matplotlib inline\n",
    "from PIL import Image"
   ]
  },
  {
   "cell_type": "markdown",
   "metadata": {},
   "source": [
    "# load and implement grayscale to all image"
   ]
  },
  {
   "cell_type": "code",
   "execution_count": 2,
   "metadata": {},
   "outputs": [],
   "source": [
    "# convert image into grayscale\n",
    "image = Image.open('C:/Users/Indriani T Sitorus/Pictures/Dataset remove background_200/Tidak Cacat/Tidakcacat1.png')\n",
    "greyscale_image = image.convert('L')\n",
    "greyscale_image.save('C:/Users/Indriani T Sitorus/Pictures/Dataset remove background_200/Preprocessing/Tidak Cacat/Grayscale/Tidakcacat1_grayscale.jpg')"
   ]
  },
  {
   "cell_type": "code",
   "execution_count": 3,
   "metadata": {},
   "outputs": [],
   "source": [
    "# convert image into grayscale\n",
    "image = Image.open('C:/Users/Indriani T Sitorus/Pictures/Dataset remove background_200/Tidak Cacat/Tidakcacat2.png')\n",
    "greyscale_image = image.convert('L')\n",
    "greyscale_image.save('C:/Users/Indriani T Sitorus/Pictures/Dataset remove background_200/Preprocessing/Tidak Cacat/Grayscale/Tidakcacat2_grayscale.jpg')"
   ]
  },
  {
   "cell_type": "code",
   "execution_count": 4,
   "metadata": {},
   "outputs": [],
   "source": [
    "# convert image into grayscale\n",
    "image = Image.open('C:/Users/Indriani T Sitorus/Pictures/Dataset remove background_200/Tidak Cacat/Tidakcacat3.png')\n",
    "greyscale_image = image.convert('L')\n",
    "greyscale_image.save('C:/Users/Indriani T Sitorus/Pictures/Dataset remove background_200/Preprocessing/Tidak Cacat/Grayscale/Tidakcacat3_grayscale.jpg')"
   ]
  },
  {
   "cell_type": "code",
   "execution_count": 5,
   "metadata": {},
   "outputs": [],
   "source": [
    "# convert image into grayscale\n",
    "image = Image.open('C:/Users/Indriani T Sitorus/Pictures/Dataset remove background_200/Tidak Cacat/Tidakcacat4.png')\n",
    "greyscale_image = image.convert('L')\n",
    "greyscale_image.save('C:/Users/Indriani T Sitorus/Pictures/Dataset remove background_200/Preprocessing/Tidak Cacat/Grayscale/Tidakcacat4_grayscale.jpg')"
   ]
  },
  {
   "cell_type": "code",
   "execution_count": 6,
   "metadata": {},
   "outputs": [],
   "source": [
    "# convert image into grayscale\n",
    "image = Image.open('C:/Users/Indriani T Sitorus/Pictures/Dataset remove background_200/Tidak Cacat/Tidakcacat5.png')\n",
    "greyscale_image = image.convert('L')\n",
    "greyscale_image.save('C:/Users/Indriani T Sitorus/Pictures/Dataset remove background_200/Preprocessing/Tidak Cacat/Grayscale/Tidakcacat5_grayscale.jpg')"
   ]
  },
  {
   "cell_type": "code",
   "execution_count": 7,
   "metadata": {},
   "outputs": [],
   "source": [
    "# convert image into grayscale\n",
    "image = Image.open('C:/Users/Indriani T Sitorus/Pictures/Dataset remove background_200/Tidak Cacat/Tidakcacat6.png')\n",
    "greyscale_image = image.convert('L')\n",
    "greyscale_image.save('C:/Users/Indriani T Sitorus/Pictures/Dataset remove background_200/Preprocessing/Tidak Cacat/Grayscale/Tidakcacat6_grayscale.jpg')"
   ]
  },
  {
   "cell_type": "code",
   "execution_count": 10,
   "metadata": {},
   "outputs": [],
   "source": [
    "# convert image into grayscale\n",
    "image = Image.open('C:/Users/Indriani T Sitorus/Pictures/Dataset remove background_200/Tidak Cacat/Tidakcacat7.png')\n",
    "greyscale_image = image.convert('L')\n",
    "greyscale_image.save('C:/Users/Indriani T Sitorus/Pictures/Dataset remove background_200/Preprocessing/Tidak Cacat/Grayscale/Tidakcacat7_grayscale.jpg')"
   ]
  },
  {
   "cell_type": "code",
   "execution_count": 9,
   "metadata": {},
   "outputs": [],
   "source": [
    "# convert image into grayscale\n",
    "image = Image.open('C:/Users/Indriani T Sitorus/Pictures/Dataset remove background_200/Tidak Cacat/Tidakcacat8.png')\n",
    "greyscale_image = image.convert('L')\n",
    "greyscale_image.save('C:/Users/Indriani T Sitorus/Pictures/Dataset remove background_200/Preprocessing/Tidak Cacat/Grayscale/Tidakcacat8_grayscale.jpg')"
   ]
  },
  {
   "cell_type": "code",
   "execution_count": 11,
   "metadata": {},
   "outputs": [],
   "source": [
    "# convert image into grayscale\n",
    "image = Image.open('C:/Users/Indriani T Sitorus/Pictures/Dataset remove background_200/Tidak Cacat/Tidakcacat9.png')\n",
    "greyscale_image = image.convert('L')\n",
    "greyscale_image.save('C:/Users/Indriani T Sitorus/Pictures/Dataset remove background_200/Preprocessing/Tidak Cacat/Grayscale/Tidakcacat9_grayscale.jpg')"
   ]
  },
  {
   "cell_type": "code",
   "execution_count": 12,
   "metadata": {},
   "outputs": [],
   "source": [
    "# convert image into grayscale\n",
    "image = Image.open('C:/Users/Indriani T Sitorus/Pictures/Dataset remove background_200/Tidak Cacat/Tidakcacat10.png')\n",
    "greyscale_image = image.convert('L')\n",
    "greyscale_image.save('C:/Users/Indriani T Sitorus/Pictures/Dataset remove background_200/Preprocessing/Tidak Cacat/Grayscale/Tidakcacat10_grayscale.jpg')"
   ]
  },
  {
   "cell_type": "code",
   "execution_count": 13,
   "metadata": {},
   "outputs": [],
   "source": [
    "# convert image into grayscale\n",
    "image = Image.open('C:/Users/Indriani T Sitorus/Pictures/Dataset remove background_200/Tidak Cacat/Tidakcacat11.png')\n",
    "greyscale_image = image.convert('L')\n",
    "greyscale_image.save('C:/Users/Indriani T Sitorus/Pictures/Dataset remove background_200/Preprocessing/Tidak Cacat/Grayscale/Tidakcacat11_grayscale.jpg')"
   ]
  },
  {
   "cell_type": "code",
   "execution_count": 14,
   "metadata": {},
   "outputs": [],
   "source": [
    "# convert image into grayscale\n",
    "image = Image.open('C:/Users/Indriani T Sitorus/Pictures/Dataset remove background_200/Tidak Cacat/Tidakcacat12.png')\n",
    "greyscale_image = image.convert('L')\n",
    "greyscale_image.save('C:/Users/Indriani T Sitorus/Pictures/Dataset remove background_200/Preprocessing/Tidak Cacat/Grayscale/Tidakcacat12_grayscale.jpg')"
   ]
  },
  {
   "cell_type": "code",
   "execution_count": 15,
   "metadata": {},
   "outputs": [],
   "source": [
    "# convert image into grayscale\n",
    "image = Image.open('C:/Users/Indriani T Sitorus/Pictures/Dataset remove background_200/Tidak Cacat/Tidakcacat13.png')\n",
    "greyscale_image = image.convert('L')\n",
    "greyscale_image.save('C:/Users/Indriani T Sitorus/Pictures/Dataset remove background_200/Preprocessing/Tidak Cacat/Grayscale/Tidakcacat13_grayscale.jpg')"
   ]
  },
  {
   "cell_type": "code",
   "execution_count": 16,
   "metadata": {},
   "outputs": [],
   "source": [
    "# convert image into grayscale\n",
    "image = Image.open('C:/Users/Indriani T Sitorus/Pictures/Dataset remove background_200/Tidak Cacat/Tidakcacat14.png')\n",
    "greyscale_image = image.convert('L')\n",
    "greyscale_image.save('C:/Users/Indriani T Sitorus/Pictures/Dataset remove background_200/Preprocessing/Tidak Cacat/Grayscale/Tidakcacat14_grayscale.jpg')"
   ]
  },
  {
   "cell_type": "code",
   "execution_count": 17,
   "metadata": {},
   "outputs": [],
   "source": [
    "# convert image into grayscale\n",
    "image = Image.open('C:/Users/Indriani T Sitorus/Pictures/Dataset remove background_200/Tidak Cacat/Tidakcacat15.png')\n",
    "greyscale_image = image.convert('L')\n",
    "greyscale_image.save('C:/Users/Indriani T Sitorus/Pictures/Dataset remove background_200/Preprocessing/Tidak Cacat/Grayscale/Tidakcacat15_grayscale.jpg')"
   ]
  },
  {
   "cell_type": "code",
   "execution_count": 18,
   "metadata": {},
   "outputs": [],
   "source": [
    "# convert image into grayscale\n",
    "image = Image.open('C:/Users/Indriani T Sitorus/Pictures/Dataset remove background_200/Tidak Cacat/Tidakcacat16.png')\n",
    "greyscale_image = image.convert('L')\n",
    "greyscale_image.save('C:/Users/Indriani T Sitorus/Pictures/Dataset remove background_200/Preprocessing/Tidak Cacat/Grayscale/Tidakcacat16_grayscale.jpg')"
   ]
  },
  {
   "cell_type": "code",
   "execution_count": 19,
   "metadata": {},
   "outputs": [],
   "source": [
    "# convert image into grayscale\n",
    "image = Image.open('C:/Users/Indriani T Sitorus/Pictures/Dataset remove background_200/Tidak Cacat/Tidakcacat17.png')\n",
    "greyscale_image = image.convert('L')\n",
    "greyscale_image.save('C:/Users/Indriani T Sitorus/Pictures/Dataset remove background_200/Preprocessing/Tidak Cacat/Grayscale/Tidakcacat17_grayscale.jpg')"
   ]
  },
  {
   "cell_type": "code",
   "execution_count": 20,
   "metadata": {},
   "outputs": [],
   "source": [
    "# convert image into grayscale\n",
    "image = Image.open('C:/Users/Indriani T Sitorus/Pictures/Dataset remove background_200/Tidak Cacat/Tidakcacat18.png')\n",
    "greyscale_image = image.convert('L')\n",
    "greyscale_image.save('C:/Users/Indriani T Sitorus/Pictures/Dataset remove background_200/Preprocessing/Tidak Cacat/Grayscale/Tidakcacat18_grayscale.jpg')"
   ]
  },
  {
   "cell_type": "code",
   "execution_count": 21,
   "metadata": {},
   "outputs": [],
   "source": [
    "# convert image into grayscale\n",
    "image = Image.open('C:/Users/Indriani T Sitorus/Pictures/Dataset remove background_200/Tidak Cacat/Tidakcacat19.png')\n",
    "greyscale_image = image.convert('L')\n",
    "greyscale_image.save('C:/Users/Indriani T Sitorus/Pictures/Dataset remove background_200/Preprocessing/Tidak Cacat/Grayscale/Tidakcacat19_grayscale.jpg')"
   ]
  },
  {
   "cell_type": "code",
   "execution_count": 22,
   "metadata": {},
   "outputs": [],
   "source": [
    "# convert image into grayscale\n",
    "image = Image.open('C:/Users/Indriani T Sitorus/Pictures/Dataset remove background_200/Tidak Cacat/Tidakcacat20.png')\n",
    "greyscale_image = image.convert('L')\n",
    "greyscale_image.save('C:/Users/Indriani T Sitorus/Pictures/Dataset remove background_200/Preprocessing/Tidak Cacat/Grayscale/Tidakcacat20_grayscale.jpg')"
   ]
  },
  {
   "cell_type": "code",
   "execution_count": 23,
   "metadata": {},
   "outputs": [],
   "source": [
    "# convert image into grayscale\n",
    "image = Image.open('C:/Users/Indriani T Sitorus/Pictures/Dataset remove background_200/Tidak Cacat/Tidakcacat21.png')\n",
    "greyscale_image = image.convert('L')\n",
    "greyscale_image.save('C:/Users/Indriani T Sitorus/Pictures/Dataset remove background_200/Preprocessing/Tidak Cacat/Grayscale/Tidakcacat21_grayscale.jpg')"
   ]
  },
  {
   "cell_type": "code",
   "execution_count": 24,
   "metadata": {},
   "outputs": [],
   "source": [
    "# convert image into grayscale\n",
    "image = Image.open('C:/Users/Indriani T Sitorus/Pictures/Dataset remove background_200/Tidak Cacat/Tidakcacat22.png')\n",
    "greyscale_image = image.convert('L')\n",
    "greyscale_image.save('C:/Users/Indriani T Sitorus/Pictures/Dataset remove background_200/Preprocessing/Tidak Cacat/Grayscale/Tidakcacat22_grayscale.jpg')"
   ]
  },
  {
   "cell_type": "code",
   "execution_count": 25,
   "metadata": {},
   "outputs": [],
   "source": [
    "# convert image into grayscale\n",
    "image = Image.open('C:/Users/Indriani T Sitorus/Pictures/Dataset remove background_200/Tidak Cacat/Tidakcacat23.png')\n",
    "greyscale_image = image.convert('L')\n",
    "greyscale_image.save('C:/Users/Indriani T Sitorus/Pictures/Dataset remove background_200/Preprocessing/Tidak Cacat/Grayscale/Tidakcacat23_grayscale.jpg')"
   ]
  },
  {
   "cell_type": "code",
   "execution_count": 26,
   "metadata": {},
   "outputs": [],
   "source": [
    "# convert image into grayscale\n",
    "image = Image.open('C:/Users/Indriani T Sitorus/Pictures/Dataset remove background_200/Tidak Cacat/Tidakcacat24.png')\n",
    "greyscale_image = image.convert('L')\n",
    "greyscale_image.save('C:/Users/Indriani T Sitorus/Pictures/Dataset remove background_200/Preprocessing/Tidak Cacat/Grayscale/Tidakcacat24_grayscale.jpg')"
   ]
  },
  {
   "cell_type": "code",
   "execution_count": 27,
   "metadata": {},
   "outputs": [],
   "source": [
    "# convert image into grayscale\n",
    "image = Image.open('C:/Users/Indriani T Sitorus/Pictures/Dataset remove background_200/Tidak Cacat/Tidakcacat25.png')\n",
    "greyscale_image = image.convert('L')\n",
    "greyscale_image.save('C:/Users/Indriani T Sitorus/Pictures/Dataset remove background_200/Preprocessing/Tidak Cacat/Grayscale/Tidakcacat25_grayscale.jpg')"
   ]
  },
  {
   "cell_type": "code",
   "execution_count": 28,
   "metadata": {},
   "outputs": [],
   "source": [
    "# convert image into grayscale\n",
    "image = Image.open('C:/Users/Indriani T Sitorus/Pictures/Dataset remove background_200/Tidak Cacat/Tidakcacat26.png')\n",
    "greyscale_image = image.convert('L')\n",
    "greyscale_image.save('C:/Users/Indriani T Sitorus/Pictures/Dataset remove background_200/Preprocessing/Tidak Cacat/Grayscale/Tidakcacat26_grayscale.jpg')"
   ]
  },
  {
   "cell_type": "code",
   "execution_count": 29,
   "metadata": {},
   "outputs": [],
   "source": [
    "# convert image into grayscale\n",
    "image = Image.open('C:/Users/Indriani T Sitorus/Pictures/Dataset remove background_200/Tidak Cacat/Tidakcacat27.png')\n",
    "greyscale_image = image.convert('L')\n",
    "greyscale_image.save('C:/Users/Indriani T Sitorus/Pictures/Dataset remove background_200/Preprocessing/Tidak Cacat/Grayscale/Tidakcacat27_grayscale.jpg')"
   ]
  },
  {
   "cell_type": "code",
   "execution_count": 30,
   "metadata": {},
   "outputs": [],
   "source": [
    "# convert image into grayscale\n",
    "image = Image.open('C:/Users/Indriani T Sitorus/Pictures/Dataset remove background_200/Tidak Cacat/Tidakcacat28.png')\n",
    "greyscale_image = image.convert('L')\n",
    "greyscale_image.save('C:/Users/Indriani T Sitorus/Pictures/Dataset remove background_200/Preprocessing/Tidak Cacat/Grayscale/Tidakcacat28_grayscale.jpg')"
   ]
  },
  {
   "cell_type": "code",
   "execution_count": 31,
   "metadata": {},
   "outputs": [],
   "source": [
    "# convert image into grayscale\n",
    "image = Image.open('C:/Users/Indriani T Sitorus/Pictures/Dataset remove background_200/Tidak Cacat/Tidakcacat29.png')\n",
    "greyscale_image = image.convert('L')\n",
    "greyscale_image.save('C:/Users/Indriani T Sitorus/Pictures/Dataset remove background_200/Preprocessing/Tidak Cacat/Grayscale/Tidakcacat29_grayscale.jpg')"
   ]
  },
  {
   "cell_type": "code",
   "execution_count": 32,
   "metadata": {},
   "outputs": [],
   "source": [
    "# convert image into grayscale\n",
    "image = Image.open('C:/Users/Indriani T Sitorus/Pictures/Dataset remove background_200/Tidak Cacat/Tidakcacat30.png')\n",
    "greyscale_image = image.convert('L')\n",
    "greyscale_image.save('C:/Users/Indriani T Sitorus/Pictures/Dataset remove background_200/Preprocessing/Tidak Cacat/Grayscale/Tidakcacat30_grayscale.jpg')"
   ]
  },
  {
   "cell_type": "code",
   "execution_count": 33,
   "metadata": {},
   "outputs": [],
   "source": [
    "# convert image into grayscale\n",
    "image = Image.open('C:/Users/Indriani T Sitorus/Pictures/Dataset remove background_200/Tidak Cacat/Tidakcacat31.png')\n",
    "greyscale_image = image.convert('L')\n",
    "greyscale_image.save('C:/Users/Indriani T Sitorus/Pictures/Dataset remove background_200/Preprocessing/Tidak Cacat/Grayscale/Tidakcacat31_grayscale.jpg')"
   ]
  },
  {
   "cell_type": "code",
   "execution_count": 34,
   "metadata": {},
   "outputs": [],
   "source": [
    "# convert image into grayscale\n",
    "image = Image.open('C:/Users/Indriani T Sitorus/Pictures/Dataset remove background_200/Tidak Cacat/Tidakcacat32.png')\n",
    "greyscale_image = image.convert('L')\n",
    "greyscale_image.save('C:/Users/Indriani T Sitorus/Pictures/Dataset remove background_200/Preprocessing/Tidak Cacat/Grayscale/Tidakcacat32_grayscale.jpg')"
   ]
  },
  {
   "cell_type": "code",
   "execution_count": 35,
   "metadata": {},
   "outputs": [],
   "source": [
    "# convert image into grayscale\n",
    "image = Image.open('C:/Users/Indriani T Sitorus/Pictures/Dataset remove background_200/Tidak Cacat/Tidakcacat33.png')\n",
    "greyscale_image = image.convert('L')\n",
    "greyscale_image.save('C:/Users/Indriani T Sitorus/Pictures/Dataset remove background_200/Preprocessing/Tidak Cacat/Grayscale/Tidakcacat33_grayscale.jpg')"
   ]
  },
  {
   "cell_type": "code",
   "execution_count": 36,
   "metadata": {},
   "outputs": [],
   "source": [
    "# convert image into grayscale\n",
    "image = Image.open('C:/Users/Indriani T Sitorus/Pictures/Dataset remove background_200/Tidak Cacat/Tidakcacat34.png')\n",
    "greyscale_image = image.convert('L')\n",
    "greyscale_image.save('C:/Users/Indriani T Sitorus/Pictures/Dataset remove background_200/Preprocessing/Tidak Cacat/Grayscale/Tidakcacat34_grayscale.jpg')"
   ]
  },
  {
   "cell_type": "code",
   "execution_count": 37,
   "metadata": {},
   "outputs": [],
   "source": [
    "# convert image into grayscale\n",
    "image = Image.open('C:/Users/Indriani T Sitorus/Pictures/Dataset remove background_200/Tidak Cacat/Tidakcacat35.png')\n",
    "greyscale_image = image.convert('L')\n",
    "greyscale_image.save('C:/Users/Indriani T Sitorus/Pictures/Dataset remove background_200/Preprocessing/Tidak Cacat/Grayscale/Tidakcacat35_grayscale.jpg')"
   ]
  },
  {
   "cell_type": "code",
   "execution_count": 38,
   "metadata": {},
   "outputs": [],
   "source": [
    "# convert image into grayscale\n",
    "image = Image.open('C:/Users/Indriani T Sitorus/Pictures/Dataset remove background_200/Tidak Cacat/Tidakcacat36.png')\n",
    "greyscale_image = image.convert('L')\n",
    "greyscale_image.save('C:/Users/Indriani T Sitorus/Pictures/Dataset remove background_200/Preprocessing/Tidak Cacat/Grayscale/Tidakcacat36_grayscale.jpg')"
   ]
  },
  {
   "cell_type": "code",
   "execution_count": 39,
   "metadata": {},
   "outputs": [],
   "source": [
    "# convert image into grayscale\n",
    "image = Image.open('C:/Users/Indriani T Sitorus/Pictures/Dataset remove background_200/Tidak Cacat/Tidakcacat37.png')\n",
    "greyscale_image = image.convert('L')\n",
    "greyscale_image.save('C:/Users/Indriani T Sitorus/Pictures/Dataset remove background_200/Preprocessing/Tidak Cacat/Grayscale/Tidakcacat37_grayscale.jpg')"
   ]
  },
  {
   "cell_type": "code",
   "execution_count": 40,
   "metadata": {},
   "outputs": [],
   "source": [
    "# convert image into grayscale\n",
    "image = Image.open('C:/Users/Indriani T Sitorus/Pictures/Dataset remove background_200/Tidak Cacat/Tidakcacat38.png')\n",
    "greyscale_image = image.convert('L')\n",
    "greyscale_image.save('C:/Users/Indriani T Sitorus/Pictures/Dataset remove background_200/Preprocessing/Tidak Cacat/Grayscale/Tidakcacat38_grayscale.jpg')"
   ]
  },
  {
   "cell_type": "code",
   "execution_count": 41,
   "metadata": {},
   "outputs": [],
   "source": [
    "# convert image into grayscale\n",
    "image = Image.open('C:/Users/Indriani T Sitorus/Pictures/Dataset remove background_200/Tidak Cacat/Tidakcacat39.png')\n",
    "greyscale_image = image.convert('L')\n",
    "greyscale_image.save('C:/Users/Indriani T Sitorus/Pictures/Dataset remove background_200/Preprocessing/Tidak Cacat/Grayscale/Tidakcacat39_grayscale.jpg')"
   ]
  },
  {
   "cell_type": "code",
   "execution_count": 42,
   "metadata": {},
   "outputs": [],
   "source": [
    "# convert image into grayscale\n",
    "image = Image.open('C:/Users/Indriani T Sitorus/Pictures/Dataset remove background_200/Tidak Cacat/Tidakcacat40.png')\n",
    "greyscale_image = image.convert('L')\n",
    "greyscale_image.save('C:/Users/Indriani T Sitorus/Pictures/Dataset remove background_200/Preprocessing/Tidak Cacat/Grayscale/Tidakcacat40_grayscale.jpg')"
   ]
  },
  {
   "cell_type": "code",
   "execution_count": 43,
   "metadata": {},
   "outputs": [],
   "source": [
    "# convert image into grayscale\n",
    "image = Image.open('C:/Users/Indriani T Sitorus/Pictures/Dataset remove background_200/Tidak Cacat/Tidakcacat41.png')\n",
    "greyscale_image = image.convert('L')\n",
    "greyscale_image.save('C:/Users/Indriani T Sitorus/Pictures/Dataset remove background_200/Preprocessing/Tidak Cacat/Grayscale/Tidakcacat41_grayscale.jpg')"
   ]
  },
  {
   "cell_type": "code",
   "execution_count": 44,
   "metadata": {},
   "outputs": [],
   "source": [
    "# convert image into grayscale\n",
    "image = Image.open('C:/Users/Indriani T Sitorus/Pictures/Dataset remove background_200/Tidak Cacat/Tidakcacat42.png')\n",
    "greyscale_image = image.convert('L')\n",
    "greyscale_image.save('C:/Users/Indriani T Sitorus/Pictures/Dataset remove background_200/Preprocessing/Tidak Cacat/Grayscale/Tidakcacat42_grayscale.jpg')"
   ]
  },
  {
   "cell_type": "code",
   "execution_count": 45,
   "metadata": {},
   "outputs": [],
   "source": [
    "# convert image into grayscale\n",
    "image = Image.open('C:/Users/Indriani T Sitorus/Pictures/Dataset remove background_200/Tidak Cacat/Tidakcacat43.png')\n",
    "greyscale_image = image.convert('L')\n",
    "greyscale_image.save('C:/Users/Indriani T Sitorus/Pictures/Dataset remove background_200/Preprocessing/Tidak Cacat/Grayscale/Tidakcacat43_grayscale.jpg')"
   ]
  },
  {
   "cell_type": "code",
   "execution_count": 46,
   "metadata": {},
   "outputs": [],
   "source": [
    "# convert image into grayscale\n",
    "image = Image.open('C:/Users/Indriani T Sitorus/Pictures/Dataset remove background_200/Tidak Cacat/Tidakcacat44.png')\n",
    "greyscale_image = image.convert('L')\n",
    "greyscale_image.save('C:/Users/Indriani T Sitorus/Pictures/Dataset remove background_200/Preprocessing/Tidak Cacat/Grayscale/Tidakcacat44_grayscale.jpg')"
   ]
  },
  {
   "cell_type": "code",
   "execution_count": 47,
   "metadata": {},
   "outputs": [],
   "source": [
    "# convert image into grayscale\n",
    "image = Image.open('C:/Users/Indriani T Sitorus/Pictures/Dataset remove background_200/Tidak Cacat/Tidakcacat45.png')\n",
    "greyscale_image = image.convert('L')\n",
    "greyscale_image.save('C:/Users/Indriani T Sitorus/Pictures/Dataset remove background_200/Preprocessing/Tidak Cacat/Grayscale/Tidakcacat45_grayscale.jpg')"
   ]
  },
  {
   "cell_type": "code",
   "execution_count": 48,
   "metadata": {},
   "outputs": [],
   "source": [
    "# convert image into grayscale\n",
    "image = Image.open('C:/Users/Indriani T Sitorus/Pictures/Dataset remove background_200/Tidak Cacat/Tidakcacat46.png')\n",
    "greyscale_image = image.convert('L')\n",
    "greyscale_image.save('C:/Users/Indriani T Sitorus/Pictures/Dataset remove background_200/Preprocessing/Tidak Cacat/Grayscale/Tidakcacat46_grayscale.jpg')"
   ]
  },
  {
   "cell_type": "code",
   "execution_count": 49,
   "metadata": {},
   "outputs": [],
   "source": [
    "# convert image into grayscale\n",
    "image = Image.open('C:/Users/Indriani T Sitorus/Pictures/Dataset remove background_200/Tidak Cacat/Tidakcacat47.png')\n",
    "greyscale_image = image.convert('L')\n",
    "greyscale_image.save('C:/Users/Indriani T Sitorus/Pictures/Dataset remove background_200/Preprocessing/Tidak Cacat/Grayscale/Tidakcacat47_grayscale.jpg')"
   ]
  },
  {
   "cell_type": "code",
   "execution_count": 50,
   "metadata": {},
   "outputs": [],
   "source": [
    "# convert image into grayscale\n",
    "image = Image.open('C:/Users/Indriani T Sitorus/Pictures/Dataset remove background_200/Tidak Cacat/Tidakcacat48.png')\n",
    "greyscale_image = image.convert('L')\n",
    "greyscale_image.save('C:/Users/Indriani T Sitorus/Pictures/Dataset remove background_200/Preprocessing/Tidak Cacat/Grayscale/Tidakcacat48_grayscale.jpg')"
   ]
  },
  {
   "cell_type": "code",
   "execution_count": 51,
   "metadata": {},
   "outputs": [],
   "source": [
    "# convert image into grayscale\n",
    "image = Image.open('C:/Users/Indriani T Sitorus/Pictures/Dataset remove background_200/Tidak Cacat/Tidakcacat49.png')\n",
    "greyscale_image = image.convert('L')\n",
    "greyscale_image.save('C:/Users/Indriani T Sitorus/Pictures/Dataset remove background_200/Preprocessing/Tidak Cacat/Grayscale/Tidakcacat49_grayscale.jpg')"
   ]
  },
  {
   "cell_type": "code",
   "execution_count": 52,
   "metadata": {},
   "outputs": [],
   "source": [
    "# convert image into grayscale\n",
    "image = Image.open('C:/Users/Indriani T Sitorus/Pictures/Dataset remove background_200/Tidak Cacat/Tidakcacat50.png')\n",
    "greyscale_image = image.convert('L')\n",
    "greyscale_image.save('C:/Users/Indriani T Sitorus/Pictures/Dataset remove background_200/Preprocessing/Tidak Cacat/Grayscale/Tidakcacat50_grayscale.jpg')"
   ]
  },
  {
   "cell_type": "code",
   "execution_count": 53,
   "metadata": {},
   "outputs": [],
   "source": [
    "# convert image into grayscale\n",
    "image = Image.open('C:/Users/Indriani T Sitorus/Pictures/Dataset remove background_200/Tidak Cacat/Tidakcacat51.png')\n",
    "greyscale_image = image.convert('L')\n",
    "greyscale_image.save('C:/Users/Indriani T Sitorus/Pictures/Dataset remove background_200/Preprocessing/Tidak Cacat/Grayscale/Tidakcacat51_grayscale.jpg')"
   ]
  },
  {
   "cell_type": "code",
   "execution_count": 54,
   "metadata": {},
   "outputs": [],
   "source": [
    "# convert image into grayscale\n",
    "image = Image.open('C:/Users/Indriani T Sitorus/Pictures/Dataset remove background_200/Tidak Cacat/Tidakcacat52.png')\n",
    "greyscale_image = image.convert('L')\n",
    "greyscale_image.save('C:/Users/Indriani T Sitorus/Pictures/Dataset remove background_200/Preprocessing/Tidak Cacat/Grayscale/Tidakcacat52_grayscale.jpg')"
   ]
  },
  {
   "cell_type": "code",
   "execution_count": 55,
   "metadata": {},
   "outputs": [],
   "source": [
    "# convert image into grayscale\n",
    "image = Image.open('C:/Users/Indriani T Sitorus/Pictures/Dataset remove background_200/Tidak Cacat/Tidakcacat53.png')\n",
    "greyscale_image = image.convert('L')\n",
    "greyscale_image.save('C:/Users/Indriani T Sitorus/Pictures/Dataset remove background_200/Preprocessing/Tidak Cacat/Grayscale/Tidakcacat53_grayscale.jpg')"
   ]
  },
  {
   "cell_type": "code",
   "execution_count": 56,
   "metadata": {},
   "outputs": [],
   "source": [
    "# convert image into grayscale\n",
    "image = Image.open('C:/Users/Indriani T Sitorus/Pictures/Dataset remove background_200/Tidak Cacat/Tidakcacat54.png')\n",
    "greyscale_image = image.convert('L')\n",
    "greyscale_image.save('C:/Users/Indriani T Sitorus/Pictures/Dataset remove background_200/Preprocessing/Tidak Cacat/Grayscale/Tidakcacat54_grayscale.jpg')"
   ]
  },
  {
   "cell_type": "code",
   "execution_count": 57,
   "metadata": {},
   "outputs": [],
   "source": [
    "# convert image into grayscale\n",
    "image = Image.open('C:/Users/Indriani T Sitorus/Pictures/Dataset remove background_200/Tidak Cacat/Tidakcacat55.png')\n",
    "greyscale_image = image.convert('L')\n",
    "greyscale_image.save('C:/Users/Indriani T Sitorus/Pictures/Dataset remove background_200/Preprocessing/Tidak Cacat/Grayscale/Tidakcacat55_grayscale.jpg')"
   ]
  },
  {
   "cell_type": "code",
   "execution_count": 58,
   "metadata": {},
   "outputs": [],
   "source": [
    "# convert image into grayscale\n",
    "image = Image.open('C:/Users/Indriani T Sitorus/Pictures/Dataset remove background_200/Tidak Cacat/Tidakcacat56.png')\n",
    "greyscale_image = image.convert('L')\n",
    "greyscale_image.save('C:/Users/Indriani T Sitorus/Pictures/Dataset remove background_200/Preprocessing/Tidak Cacat/Grayscale/Tidakcacat56_grayscale.jpg')"
   ]
  },
  {
   "cell_type": "code",
   "execution_count": 59,
   "metadata": {},
   "outputs": [],
   "source": [
    "# convert image into grayscale\n",
    "image = Image.open('C:/Users/Indriani T Sitorus/Pictures/Dataset remove background_200/Tidak Cacat/Tidakcacat57.png')\n",
    "greyscale_image = image.convert('L')\n",
    "greyscale_image.save('C:/Users/Indriani T Sitorus/Pictures/Dataset remove background_200/Preprocessing/Tidak Cacat/Grayscale/Tidakcacat57_grayscale.jpg')"
   ]
  },
  {
   "cell_type": "code",
   "execution_count": 60,
   "metadata": {},
   "outputs": [],
   "source": [
    "# convert image into grayscale\n",
    "image = Image.open('C:/Users/Indriani T Sitorus/Pictures/Dataset remove background_200/Tidak Cacat/Tidakcacat58.png')\n",
    "greyscale_image = image.convert('L')\n",
    "greyscale_image.save('C:/Users/Indriani T Sitorus/Pictures/Dataset remove background_200/Preprocessing/Tidak Cacat/Grayscale/Tidakcacat58_grayscale.jpg')"
   ]
  },
  {
   "cell_type": "code",
   "execution_count": 61,
   "metadata": {},
   "outputs": [],
   "source": [
    "# convert image into grayscale\n",
    "image = Image.open('C:/Users/Indriani T Sitorus/Pictures/Dataset remove background_200/Tidak Cacat/Tidakcacat59.png')\n",
    "greyscale_image = image.convert('L')\n",
    "greyscale_image.save('C:/Users/Indriani T Sitorus/Pictures/Dataset remove background_200/Preprocessing/Tidak Cacat/Grayscale/Tidakcacat59_grayscale.jpg')"
   ]
  },
  {
   "cell_type": "code",
   "execution_count": 62,
   "metadata": {},
   "outputs": [],
   "source": [
    "# convert image into grayscale\n",
    "image = Image.open('C:/Users/Indriani T Sitorus/Pictures/Dataset remove background_200/Tidak Cacat/Tidakcacat60.png')\n",
    "greyscale_image = image.convert('L')\n",
    "greyscale_image.save('C:/Users/Indriani T Sitorus/Pictures/Dataset remove background_200/Preprocessing/Tidak Cacat/Grayscale/Tidakcacat60_grayscale.jpg')"
   ]
  },
  {
   "cell_type": "code",
   "execution_count": 63,
   "metadata": {},
   "outputs": [],
   "source": [
    "# convert image into grayscale\n",
    "image = Image.open('C:/Users/Indriani T Sitorus/Pictures/Dataset remove background_200/Tidak Cacat/Tidakcacat61.png')\n",
    "greyscale_image = image.convert('L')\n",
    "greyscale_image.save('C:/Users/Indriani T Sitorus/Pictures/Dataset remove background_200/Preprocessing/Tidak Cacat/Grayscale/Tidakcacat61_grayscale.jpg')"
   ]
  },
  {
   "cell_type": "code",
   "execution_count": 64,
   "metadata": {},
   "outputs": [],
   "source": [
    "# convert image into grayscale\n",
    "image = Image.open('C:/Users/Indriani T Sitorus/Pictures/Dataset remove background_200/Tidak Cacat/Tidakcacat62.png')\n",
    "greyscale_image = image.convert('L')\n",
    "greyscale_image.save('C:/Users/Indriani T Sitorus/Pictures/Dataset remove background_200/Preprocessing/Tidak Cacat/Grayscale/Tidakcacat62_grayscale.jpg')"
   ]
  },
  {
   "cell_type": "code",
   "execution_count": 65,
   "metadata": {},
   "outputs": [],
   "source": [
    "# convert image into grayscale\n",
    "image = Image.open('C:/Users/Indriani T Sitorus/Pictures/Dataset remove background_200/Tidak Cacat/Tidakcacat63.png')\n",
    "greyscale_image = image.convert('L')\n",
    "greyscale_image.save('C:/Users/Indriani T Sitorus/Pictures/Dataset remove background_200/Preprocessing/Tidak Cacat/Grayscale/Tidakcacat63_grayscale.jpg')"
   ]
  },
  {
   "cell_type": "code",
   "execution_count": 66,
   "metadata": {},
   "outputs": [],
   "source": [
    "# convert image into grayscale\n",
    "image = Image.open('C:/Users/Indriani T Sitorus/Pictures/Dataset remove background_200/Tidak Cacat/Tidakcacat64.png')\n",
    "greyscale_image = image.convert('L')\n",
    "greyscale_image.save('C:/Users/Indriani T Sitorus/Pictures/Dataset remove background_200/Preprocessing/Tidak Cacat/Grayscale/Tidakcacat64_grayscale.jpg')"
   ]
  },
  {
   "cell_type": "code",
   "execution_count": 67,
   "metadata": {},
   "outputs": [],
   "source": [
    "# convert image into grayscale\n",
    "image = Image.open('C:/Users/Indriani T Sitorus/Pictures/Dataset remove background_200/Tidak Cacat/Tidakcacat65.png')\n",
    "greyscale_image = image.convert('L')\n",
    "greyscale_image.save('C:/Users/Indriani T Sitorus/Pictures/Dataset remove background_200/Preprocessing/Tidak Cacat/Grayscale/Tidakcacat65_grayscale.jpg')"
   ]
  },
  {
   "cell_type": "code",
   "execution_count": 68,
   "metadata": {},
   "outputs": [],
   "source": [
    "# convert image into grayscale\n",
    "image = Image.open('C:/Users/Indriani T Sitorus/Pictures/Dataset remove background_200/Tidak Cacat/Tidakcacat66.png')\n",
    "greyscale_image = image.convert('L')\n",
    "greyscale_image.save('C:/Users/Indriani T Sitorus/Pictures/Dataset remove background_200/Preprocessing/Tidak Cacat/Grayscale/Tidakcacat66_grayscale.jpg')"
   ]
  },
  {
   "cell_type": "code",
   "execution_count": 69,
   "metadata": {},
   "outputs": [],
   "source": [
    "# convert image into grayscale\n",
    "image = Image.open('C:/Users/Indriani T Sitorus/Pictures/Dataset remove background_200/Tidak Cacat/Tidakcacat67.png')\n",
    "greyscale_image = image.convert('L')\n",
    "greyscale_image.save('C:/Users/Indriani T Sitorus/Pictures/Dataset remove background_200/Preprocessing/Tidak Cacat/Grayscale/Tidakcacat67_grayscale.jpg')"
   ]
  },
  {
   "cell_type": "code",
   "execution_count": 70,
   "metadata": {},
   "outputs": [],
   "source": [
    "# convert image into grayscale\n",
    "image = Image.open('C:/Users/Indriani T Sitorus/Pictures/Dataset remove background_200/Tidak Cacat/Tidakcacat68.png')\n",
    "greyscale_image = image.convert('L')\n",
    "greyscale_image.save('C:/Users/Indriani T Sitorus/Pictures/Dataset remove background_200/Preprocessing/Tidak Cacat/Grayscale/Tidakcacat68_grayscale.jpg')"
   ]
  },
  {
   "cell_type": "code",
   "execution_count": 71,
   "metadata": {},
   "outputs": [],
   "source": [
    "# convert image into grayscale\n",
    "image = Image.open('C:/Users/Indriani T Sitorus/Pictures/Dataset remove background_200/Tidak Cacat/Tidakcacat69.png')\n",
    "greyscale_image = image.convert('L')\n",
    "greyscale_image.save('C:/Users/Indriani T Sitorus/Pictures/Dataset remove background_200/Preprocessing/Tidak Cacat/Grayscale/Tidakcacat69_grayscale.jpg')"
   ]
  },
  {
   "cell_type": "code",
   "execution_count": 72,
   "metadata": {},
   "outputs": [],
   "source": [
    "# convert image into grayscale\n",
    "image = Image.open('C:/Users/Indriani T Sitorus/Pictures/Dataset remove background_200/Tidak Cacat/Tidakcacat70.png')\n",
    "greyscale_image = image.convert('L')\n",
    "greyscale_image.save('C:/Users/Indriani T Sitorus/Pictures/Dataset remove background_200/Preprocessing/Tidak Cacat/Grayscale/Tidakcacat70_grayscale.jpg')"
   ]
  },
  {
   "cell_type": "code",
   "execution_count": 73,
   "metadata": {},
   "outputs": [],
   "source": [
    "# convert image into grayscale\n",
    "image = Image.open('C:/Users/Indriani T Sitorus/Pictures/Dataset remove background_200/Tidak Cacat/Tidakcacat71.png')\n",
    "greyscale_image = image.convert('L')\n",
    "greyscale_image.save('C:/Users/Indriani T Sitorus/Pictures/Dataset remove background_200/Preprocessing/Tidak Cacat/Grayscale/Tidakcacat71_grayscale.jpg')"
   ]
  },
  {
   "cell_type": "code",
   "execution_count": 74,
   "metadata": {},
   "outputs": [],
   "source": [
    "# convert image into grayscale\n",
    "image = Image.open('C:/Users/Indriani T Sitorus/Pictures/Dataset remove background_200/Tidak Cacat/Tidakcacat72.png')\n",
    "greyscale_image = image.convert('L')\n",
    "greyscale_image.save('C:/Users/Indriani T Sitorus/Pictures/Dataset remove background_200/Preprocessing/Tidak Cacat/Grayscale/Tidakcacat72_grayscale.jpg')"
   ]
  },
  {
   "cell_type": "code",
   "execution_count": 75,
   "metadata": {},
   "outputs": [],
   "source": [
    "# convert image into grayscale\n",
    "image = Image.open('C:/Users/Indriani T Sitorus/Pictures/Dataset remove background_200/Tidak Cacat/Tidakcacat73.png')\n",
    "greyscale_image = image.convert('L')\n",
    "greyscale_image.save('C:/Users/Indriani T Sitorus/Pictures/Dataset remove background_200/Preprocessing/Tidak Cacat/Grayscale/Tidakcacat73_grayscale.jpg')"
   ]
  },
  {
   "cell_type": "code",
   "execution_count": 76,
   "metadata": {},
   "outputs": [],
   "source": [
    "# convert image into grayscale\n",
    "image = Image.open('C:/Users/Indriani T Sitorus/Pictures/Dataset remove background_200/Tidak Cacat/Tidakcacat74.png')\n",
    "greyscale_image = image.convert('L')\n",
    "greyscale_image.save('C:/Users/Indriani T Sitorus/Pictures/Dataset remove background_200/Preprocessing/Tidak Cacat/Grayscale/Tidakcacat74_grayscale.jpg')"
   ]
  },
  {
   "cell_type": "code",
   "execution_count": 77,
   "metadata": {},
   "outputs": [],
   "source": [
    "# convert image into grayscale\n",
    "image = Image.open('C:/Users/Indriani T Sitorus/Pictures/Dataset remove background_200/Tidak Cacat/Tidakcacat75.png')\n",
    "greyscale_image = image.convert('L')\n",
    "greyscale_image.save('C:/Users/Indriani T Sitorus/Pictures/Dataset remove background_200/Preprocessing/Tidak Cacat/Grayscale/Tidakcacat75_grayscale.jpg')"
   ]
  },
  {
   "cell_type": "code",
   "execution_count": 78,
   "metadata": {},
   "outputs": [],
   "source": [
    "# convert image into grayscale\n",
    "image = Image.open('C:/Users/Indriani T Sitorus/Pictures/Dataset remove background_200/Tidak Cacat/Tidakcacat76.png')\n",
    "greyscale_image = image.convert('L')\n",
    "greyscale_image.save('C:/Users/Indriani T Sitorus/Pictures/Dataset remove background_200/Preprocessing/Tidak Cacat/Grayscale/Tidakcacat76_grayscale.jpg')"
   ]
  },
  {
   "cell_type": "code",
   "execution_count": 79,
   "metadata": {},
   "outputs": [],
   "source": [
    "# convert image into grayscale\n",
    "image = Image.open('C:/Users/Indriani T Sitorus/Pictures/Dataset remove background_200/Tidak Cacat/Tidakcacat77.png')\n",
    "greyscale_image = image.convert('L')\n",
    "greyscale_image.save('C:/Users/Indriani T Sitorus/Pictures/Dataset remove background_200/Preprocessing/Tidak Cacat/Grayscale/Tidakcacat77_grayscale.jpg')"
   ]
  },
  {
   "cell_type": "code",
   "execution_count": 80,
   "metadata": {},
   "outputs": [],
   "source": [
    "# convert image into grayscale\n",
    "image = Image.open('C:/Users/Indriani T Sitorus/Pictures/Dataset remove background_200/Tidak Cacat/Tidakcacat78.png')\n",
    "greyscale_image = image.convert('L')\n",
    "greyscale_image.save('C:/Users/Indriani T Sitorus/Pictures/Dataset remove background_200/Preprocessing/Tidak Cacat/Grayscale/Tidakcacat78_grayscale.jpg')"
   ]
  },
  {
   "cell_type": "code",
   "execution_count": 81,
   "metadata": {},
   "outputs": [],
   "source": [
    "# convert image into grayscale\n",
    "image = Image.open('C:/Users/Indriani T Sitorus/Pictures/Dataset remove background_200/Tidak Cacat/Tidakcacat79.png')\n",
    "greyscale_image = image.convert('L')\n",
    "greyscale_image.save('C:/Users/Indriani T Sitorus/Pictures/Dataset remove background_200/Preprocessing/Tidak Cacat/Grayscale/Tidakcacat79_grayscale.jpg')"
   ]
  },
  {
   "cell_type": "code",
   "execution_count": 82,
   "metadata": {},
   "outputs": [],
   "source": [
    "# convert image into grayscale\n",
    "image = Image.open('C:/Users/Indriani T Sitorus/Pictures/Dataset remove background_200/Tidak Cacat/Tidakcacat80.png')\n",
    "greyscale_image = image.convert('L')\n",
    "greyscale_image.save('C:/Users/Indriani T Sitorus/Pictures/Dataset remove background_200/Preprocessing/Tidak Cacat/Grayscale/Tidakcacat80_grayscale.jpg')"
   ]
  },
  {
   "cell_type": "code",
   "execution_count": 83,
   "metadata": {},
   "outputs": [],
   "source": [
    "# convert image into grayscale\n",
    "image = Image.open('C:/Users/Indriani T Sitorus/Pictures/Dataset remove background_200/Tidak Cacat/Tidakcacat81.png')\n",
    "greyscale_image = image.convert('L')\n",
    "greyscale_image.save('C:/Users/Indriani T Sitorus/Pictures/Dataset remove background_200/Preprocessing/Tidak Cacat/Grayscale/Tidakcacat81_grayscale.jpg')"
   ]
  },
  {
   "cell_type": "code",
   "execution_count": 84,
   "metadata": {},
   "outputs": [],
   "source": [
    "# convert image into grayscale\n",
    "image = Image.open('C:/Users/Indriani T Sitorus/Pictures/Dataset remove background_200/Tidak Cacat/Tidakcacat82.png')\n",
    "greyscale_image = image.convert('L')\n",
    "greyscale_image.save('C:/Users/Indriani T Sitorus/Pictures/Dataset remove background_200/Preprocessing/Tidak Cacat/Grayscale/Tidakcacat82_grayscale.jpg')"
   ]
  },
  {
   "cell_type": "code",
   "execution_count": 85,
   "metadata": {},
   "outputs": [],
   "source": [
    "# convert image into grayscale\n",
    "image = Image.open('C:/Users/Indriani T Sitorus/Pictures/Dataset remove background_200/Tidak Cacat/Tidakcacat83.png')\n",
    "greyscale_image = image.convert('L')\n",
    "greyscale_image.save('C:/Users/Indriani T Sitorus/Pictures/Dataset remove background_200/Preprocessing/Tidak Cacat/Grayscale/Tidakcacat83_grayscale.jpg')"
   ]
  },
  {
   "cell_type": "code",
   "execution_count": 86,
   "metadata": {},
   "outputs": [],
   "source": [
    "# convert image into grayscale\n",
    "image = Image.open('C:/Users/Indriani T Sitorus/Pictures/Dataset remove background_200/Tidak Cacat/Tidakcacat84.png')\n",
    "greyscale_image = image.convert('L')\n",
    "greyscale_image.save('C:/Users/Indriani T Sitorus/Pictures/Dataset remove background_200/Preprocessing/Tidak Cacat/Grayscale/Tidakcacat84_grayscale.jpg')"
   ]
  },
  {
   "cell_type": "code",
   "execution_count": 87,
   "metadata": {},
   "outputs": [],
   "source": [
    "# convert image into grayscale\n",
    "image = Image.open('C:/Users/Indriani T Sitorus/Pictures/Dataset remove background_200/Tidak Cacat/Tidakcacat85.png')\n",
    "greyscale_image = image.convert('L')\n",
    "greyscale_image.save('C:/Users/Indriani T Sitorus/Pictures/Dataset remove background_200/Preprocessing/Tidak Cacat/Grayscale/Tidakcacat85_grayscale.jpg')"
   ]
  },
  {
   "cell_type": "code",
   "execution_count": 88,
   "metadata": {},
   "outputs": [],
   "source": [
    "# convert image into grayscale\n",
    "image = Image.open('C:/Users/Indriani T Sitorus/Pictures/Dataset remove background_200/Tidak Cacat/Tidakcacat86.png')\n",
    "greyscale_image = image.convert('L')\n",
    "greyscale_image.save('C:/Users/Indriani T Sitorus/Pictures/Dataset remove background_200/Preprocessing/Tidak Cacat/Grayscale/Tidakcacat86_grayscale.jpg')"
   ]
  },
  {
   "cell_type": "code",
   "execution_count": 89,
   "metadata": {},
   "outputs": [],
   "source": [
    "# convert image into grayscale\n",
    "image = Image.open('C:/Users/Indriani T Sitorus/Pictures/Dataset remove background_200/Tidak Cacat/Tidakcacat87.png'\n",
    "greyscale_image = image.convert('L')\n",
    "greyscale_image.save('C:/Users/Indriani T Sitorus/Pictures/Dataset remove background_200/Preprocessing/Tidak Cacat/Grayscale/Tidakcacat87_grayscale.jpg')"
   ]
  },
  {
   "cell_type": "code",
   "execution_count": 90,
   "metadata": {},
   "outputs": [],
   "source": [
    "# convert image into grayscale\n",
    "image = Image.open('C:/Users/Indriani T Sitorus/Pictures/Dataset remove background_200/Tidak Cacat/Tidakcacat88.png')\n",
    "greyscale_image = image.convert('L')\n",
    "greyscale_image.save('C:/Users/Indriani T Sitorus/Pictures/Dataset remove background_200/Preprocessing/Tidak Cacat/Grayscale/Tidakcacat88_grayscale.jpg')"
   ]
  },
  {
   "cell_type": "code",
   "execution_count": 91,
   "metadata": {},
   "outputs": [],
   "source": [
    "# convert image into grayscale\n",
    "image = Image.open('C:/Users/Indriani T Sitorus/Pictures/Dataset remove background_200/Tidak Cacat/Tidakcacat89.png')\n",
    "greyscale_image = image.convert('L')\n",
    "greyscale_image.save('C:/Users/Indriani T Sitorus/Pictures/Dataset remove background_200/Preprocessing/Tidak Cacat/Grayscale/Tidakcacat89_grayscale.jpg')"
   ]
  },
  {
   "cell_type": "code",
   "execution_count": 92,
   "metadata": {},
   "outputs": [],
   "source": [
    "# convert image into grayscale\n",
    "image = Image.open('C:/Users/Indriani T Sitorus/Pictures/Dataset remove background_200/Tidak Cacat/Tidakcacat90.png')\n",
    "greyscale_image = image.convert('L')\n",
    "greyscale_image.save('C:/Users/Indriani T Sitorus/Pictures/Dataset remove background_200/Preprocessing/Tidak Cacat/Grayscale/Tidakcacat90_grayscale.jpg')"
   ]
  },
  {
   "cell_type": "code",
   "execution_count": 93,
   "metadata": {},
   "outputs": [],
   "source": [
    "# convert image into grayscale\n",
    "image = Image.open('C:/Users/Indriani T Sitorus/Pictures/Dataset remove background_200/Tidak Cacat/Tidakcacat91.png')\n",
    "greyscale_image = image.convert('L')\n",
    "greyscale_image.save('C:/Users/Indriani T Sitorus/Pictures/Dataset remove background_200/Preprocessing/Tidak Cacat/Grayscale/Tidakcacat91_grayscale.jpg')"
   ]
  },
  {
   "cell_type": "code",
   "execution_count": 94,
   "metadata": {},
   "outputs": [],
   "source": [
    "# convert image into grayscale\n",
    "image = Image.open('C:/Users/Indriani T Sitorus/Pictures/Dataset remove background_200/Tidak Cacat/Tidakcacat92.png')\n",
    "greyscale_image = image.convert('L')\n",
    "greyscale_image.save('C:/Users/Indriani T Sitorus/Pictures/Dataset remove background_200/Preprocessing/Tidak Cacat/Grayscale/Tidakcacat92_grayscale.jpg')"
   ]
  },
  {
   "cell_type": "code",
   "execution_count": 95,
   "metadata": {},
   "outputs": [],
   "source": [
    "# convert image into grayscale\n",
    "image = Image.open('C:/Users/Indriani T Sitorus/Pictures/Dataset remove background_200/Tidak Cacat/Tidakcacat93.png')\n",
    "greyscale_image = image.convert('L')\n",
    "greyscale_image.save('C:/Users/Indriani T Sitorus/Pictures/Dataset remove background_200/Preprocessing/Tidak Cacat/Grayscale/Tidakcacat93_grayscale.jpg')"
   ]
  },
  {
   "cell_type": "code",
   "execution_count": 96,
   "metadata": {},
   "outputs": [],
   "source": [
    "# convert image into grayscale\n",
    "image = Image.open('C:/Users/Indriani T Sitorus/Pictures/Dataset remove background_200/Tidak Cacat/Tidakcacat94.png')\n",
    "greyscale_image = image.convert('L')\n",
    "greyscale_image.save('C:/Users/Indriani T Sitorus/Pictures/Dataset remove background_200/Preprocessing/Tidak Cacat/Grayscale/Tidakcacat94_grayscale.jpg')"
   ]
  },
  {
   "cell_type": "code",
   "execution_count": 97,
   "metadata": {},
   "outputs": [],
   "source": [
    "# convert image into grayscale\n",
    "image = Image.open('C:/Users/Indriani T Sitorus/Pictures/Dataset remove background_200/Tidak Cacat/Tidakcacat95.png')\n",
    "greyscale_image = image.convert('L')\n",
    "greyscale_image.save('C:/Users/Indriani T Sitorus/Pictures/Dataset remove background_200/Preprocessing/Tidak Cacat/Grayscale/Tidakcacat95_grayscale.jpg')"
   ]
  },
  {
   "cell_type": "code",
   "execution_count": 98,
   "metadata": {},
   "outputs": [],
   "source": [
    "# convert image into grayscale\n",
    "image = Image.open('C:/Users/Indriani T Sitorus/Pictures/Dataset remove background_200/Tidak Cacat/Tidakcacat96.png')\n",
    "greyscale_image = image.convert('L')\n",
    "greyscale_image.save('C:/Users/Indriani T Sitorus/Pictures/Dataset remove background_200/Preprocessing/Tidak Cacat/Grayscale/Tidakcacat96_grayscale.jpg')"
   ]
  },
  {
   "cell_type": "code",
   "execution_count": 99,
   "metadata": {},
   "outputs": [],
   "source": [
    "# convert image into grayscale\n",
    "image = Image.open('C:/Users/Indriani T Sitorus/Pictures/Dataset remove background_200/Tidak Cacat/Tidakcacat97.png')\n",
    "greyscale_image = image.convert('L')\n",
    "greyscale_image.save('C:/Users/Indriani T Sitorus/Pictures/Dataset remove background_200/Preprocessing/Tidak Cacat/Grayscale/Tidakcacat97_grayscale.jpg')"
   ]
  },
  {
   "cell_type": "code",
   "execution_count": 100,
   "metadata": {},
   "outputs": [],
   "source": [
    "# convert image into grayscale\n",
    "image = Image.open('C:/Users/Indriani T Sitorus/Pictures/Dataset remove background_200/Tidak Cacat/Tidakcacat98.png')\n",
    "greyscale_image = image.convert('L')\n",
    "greyscale_image.save('C:/Users/Indriani T Sitorus/Pictures/Dataset remove background_200/Preprocessing/Tidak Cacat/Grayscale/Tidakcacat98_grayscale.jpg')"
   ]
  },
  {
   "cell_type": "code",
   "execution_count": 101,
   "metadata": {},
   "outputs": [],
   "source": [
    "# convert image into grayscale\n",
    "image = Image.open('C:/Users/Indriani T Sitorus/Pictures/Dataset remove background_200/Tidak Cacat/Tidakcacat99.png')\n",
    "greyscale_image = image.convert('L')\n",
    "greyscale_image.save('C:/Users/Indriani T Sitorus/Pictures/Dataset remove background_200/Preprocessing/Tidak Cacat/Grayscale/Tidakcacat99_grayscale.jpg')"
   ]
  },
  {
   "cell_type": "code",
   "execution_count": 102,
   "metadata": {},
   "outputs": [],
   "source": [
    "# convert image into grayscale\n",
    "image = Image.open('C:/Users/Indriani T Sitorus/Pictures/Dataset remove background_200/Tidak Cacat/Tidakcacat100.png')\n",
    "greyscale_image = image.convert('L')\n",
    "greyscale_image.save('C:/Users/Indriani T Sitorus/Pictures/Dataset remove background_200/Preprocessing/Tidak Cacat/Grayscale/Tidakcacat100_grayscale.jpg')"
   ]
  },
  {
   "cell_type": "code",
   "execution_count": null,
   "metadata": {},
   "outputs": [],
   "source": []
  }
 ],
 "metadata": {
  "kernelspec": {
   "display_name": "Python 3",
   "language": "python",
   "name": "python3"
  },
  "language_info": {
   "codemirror_mode": {
    "name": "ipython",
    "version": 3
   },
   "file_extension": ".py",
   "mimetype": "text/x-python",
   "name": "python",
   "nbconvert_exporter": "python",
   "pygments_lexer": "ipython3",
   "version": "3.7.6"
  }
 },
 "nbformat": 4,
 "nbformat_minor": 4
}
