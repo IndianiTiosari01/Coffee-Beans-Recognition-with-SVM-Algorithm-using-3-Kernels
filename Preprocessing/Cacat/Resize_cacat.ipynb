{
 "cells": [
  {
   "cell_type": "markdown",
   "metadata": {},
   "source": [
    "# Importing required libraries"
   ]
  },
  {
   "cell_type": "code",
   "execution_count": 1,
   "metadata": {},
   "outputs": [],
   "source": [
    "import cv2\n",
    "import glob\n",
    "import matplotlib.pyplot as plt\n",
    "import os,glob\n",
    "import os\n",
    "from os import listdir,makedirs\n",
    "from os.path import isfile,join\n",
    "import skimage\n",
    "from skimage import data\n",
    "import numpy as np\n",
    "import matplotlib.pyplot as plt\n",
    "%matplotlib inline\n",
    "from PIL import Image"
   ]
  },
  {
   "cell_type": "markdown",
   "metadata": {},
   "source": [
    "# load and resize 100 images of defective coffee beans"
   ]
  },
  {
   "cell_type": "code",
   "execution_count": 2,
   "metadata": {},
   "outputs": [],
   "source": [
    "# load image Cacat1.jpg from directory\n",
    "image = Image.open('C:/Users/Indriani T Sitorus/Pictures/Dataset remove background_200/Cacat/Cacat1.png')\n",
    "# create new size of image (image resize process) 100 x 100 pixel\n",
    "new_image = image.resize((100, 100))\n",
    "#save resize output in directory\n",
    "new_image.save('C:/Users/Indriani T Sitorus/Pictures/Dataset remove background_200/Preprocessing/Cacat/Resize/Cacat1_resize.png')"
   ]
  },
  {
   "cell_type": "code",
   "execution_count": 5,
   "metadata": {},
   "outputs": [],
   "source": [
    "image = Image.open('C:/Users/Indriani T Sitorus/Pictures/Dataset remove background_200/Cacat/Cacat2.png')\n",
    "# create new size of image (image resize process) 100 x 100 pixel\n",
    "new_image = image.resize((100, 100))\n",
    "#save resize output in directory\n",
    "new_image.save('C:/Users/Indriani T Sitorus/Pictures/Dataset remove background_200/Preprocessing/Cacat/Resize/Cacat2_resize.png')"
   ]
  },
  {
   "cell_type": "code",
   "execution_count": 6,
   "metadata": {},
   "outputs": [],
   "source": [
    "image = Image.open('C:/Users/Indriani T Sitorus/Pictures/Dataset remove background_200/Cacat/Cacat3.png')\n",
    "# create new size of image (image resize process) 100 x 100 pixel\n",
    "new_image = image.resize((100, 100))\n",
    "#save resize output in directory\n",
    "new_image.save('C:/Users/Indriani T Sitorus/Pictures/Dataset remove background_200/Preprocessing/Cacat/Resize/Cacat3_resize.png')"
   ]
  },
  {
   "cell_type": "code",
   "execution_count": 106,
   "metadata": {},
   "outputs": [],
   "source": [
    "image = Image.open('C:/Users/Indriani T Sitorus/Pictures/Dataset remove background_200/Cacat/Cacat4.png')\n",
    "# create new size of image (image resize process) 100 x 100 pixel\n",
    "new_image = image.resize((100, 100))\n",
    "#save resize output in directory\n",
    "new_image.save('C:/Users/Indriani T Sitorus/Pictures/Dataset remove background_200/Preprocessing/Cacat/Resize/Cacat4_resize.png')"
   ]
  },
  {
   "cell_type": "code",
   "execution_count": 8,
   "metadata": {},
   "outputs": [],
   "source": [
    "image = Image.open('C:/Users/Indriani T Sitorus/Pictures/Dataset remove background_200/Cacat/Cacat5.png')\n",
    "# create new size of image (image resize process) 100 x 100 pixel\n",
    "new_image = image.resize((100, 100))\n",
    "#save resize output in directory\n",
    "new_image.save('C:/Users/Indriani T Sitorus/Pictures/Dataset remove background_200/Preprocessing/Cacat/Resize/Cacat5_resize.png')"
   ]
  },
  {
   "cell_type": "code",
   "execution_count": 9,
   "metadata": {},
   "outputs": [],
   "source": [
    "image = Image.open('C:/Users/Indriani T Sitorus/Pictures/Dataset remove background_200/Cacat/Cacat6.png')\n",
    "# create new size of image (image resize process) 100 x 100 pixel\n",
    "new_image = image.resize((100, 100))\n",
    "#save resize output in directory\n",
    "new_image.save('C:/Users/Indriani T Sitorus/Pictures/Dataset remove background_200/Preprocessing/Cacat/Resize/Cacat6_resize.png')"
   ]
  },
  {
   "cell_type": "code",
   "execution_count": 10,
   "metadata": {},
   "outputs": [],
   "source": [
    "image = Image.open('C:/Users/Indriani T Sitorus/Pictures/Dataset remove background_200/Cacat/Cacat7.png')\n",
    "# create new size of image (image resize process) 100 x 100 pixel\n",
    "new_image = image.resize((100, 100))\n",
    "#save resize output in directory\n",
    "new_image.save('C:/Users/Indriani T Sitorus/Pictures/Dataset remove background_200/Preprocessing/Cacat/Resize/Cacat7_resize.png')"
   ]
  },
  {
   "cell_type": "code",
   "execution_count": 11,
   "metadata": {},
   "outputs": [],
   "source": [
    "image = Image.open('C:/Users/Indriani T Sitorus/Pictures/Dataset remove background_200/Cacat/Cacat8.png')\n",
    "# create new size of image (image resize process) 100 x 100 pixel\n",
    "new_image = image.resize((100, 100))\n",
    "#save resize output in directory\n",
    "new_image.save('C:/Users/Indriani T Sitorus/Pictures/Dataset remove background_200/Preprocessing/Cacat/Resize/Cacat8_resize.png')"
   ]
  },
  {
   "cell_type": "code",
   "execution_count": 12,
   "metadata": {},
   "outputs": [],
   "source": [
    "image = Image.open('C:/Users/Indriani T Sitorus/Pictures/Dataset remove background_200/Cacat/Cacat9.png')\n",
    "# create new size of image (image resize process) 100 x 100 pixel\n",
    "new_image = image.resize((100, 100))\n",
    "#save resize output in directory\n",
    "new_image.save('C:/Users/Indriani T Sitorus/Pictures/Dataset remove background_200/Preprocessing/Cacat/Resize/Cacat9_resize.png')"
   ]
  },
  {
   "cell_type": "code",
   "execution_count": 13,
   "metadata": {},
   "outputs": [],
   "source": [
    "image = Image.open('C:/Users/Indriani T Sitorus/Pictures/Dataset remove background_200/Cacat/Cacat10.png')\n",
    "# create new size of image (image resize process) 100 x 100 pixel\n",
    "new_image = image.resize((100, 100))\n",
    "#save resize output in directory\n",
    "new_image.save('C:/Users/Indriani T Sitorus/Pictures/Dataset remove background_200/Preprocessing/Cacat/Resize/Cacat10_resize.png')"
   ]
  },
  {
   "cell_type": "code",
   "execution_count": 14,
   "metadata": {},
   "outputs": [],
   "source": [
    "image = Image.open('C:/Users/Indriani T Sitorus/Pictures/Dataset remove background_200/Cacat/Cacat11.png')\n",
    "# create new size of image (image resize process) 100 x 100 pixel\n",
    "new_image = image.resize((100, 100))\n",
    "#save resize output in directory\n",
    "new_image.save('C:/Users/Indriani T Sitorus/Pictures/Dataset remove background_200/Preprocessing/Cacat/Resize/Cacat11_resize.png')"
   ]
  },
  {
   "cell_type": "code",
   "execution_count": 15,
   "metadata": {},
   "outputs": [],
   "source": [
    "image = Image.open('C:/Users/Indriani T Sitorus/Pictures/Dataset remove background_200/Cacat/Cacat12.png')\n",
    "# create new size of image (image resize process) 100 x 100 pixel\n",
    "new_image = image.resize((100, 100))\n",
    "#save resize output in directory\n",
    "new_image.save('C:/Users/Indriani T Sitorus/Pictures/Dataset remove background_200/Preprocessing/Cacat/Resize/Cacat12_resize.png')"
   ]
  },
  {
   "cell_type": "code",
   "execution_count": 16,
   "metadata": {},
   "outputs": [],
   "source": [
    "image = Image.open('C:/Users/Indriani T Sitorus/Pictures/Dataset remove background_200/Cacat/Cacat13.png')\n",
    "# create new size of image (image resize process) 100 x 100 pixel\n",
    "new_image = image.resize((100, 100))\n",
    "#save resize output in directory\n",
    "new_image.save('C:/Users/Indriani T Sitorus/Pictures/Dataset remove background_200/Preprocessing/Cacat/Resize/Cacat13_resize.png')"
   ]
  },
  {
   "cell_type": "code",
   "execution_count": 17,
   "metadata": {},
   "outputs": [],
   "source": [
    "image = Image.open('C:/Users/Indriani T Sitorus/Pictures/Dataset remove background_200/Cacat/Cacat14.png')\n",
    "# create new size of image (image resize process) 100 x 100 pixel\n",
    "new_image = image.resize((100, 100))\n",
    "#save resize output in directory\n",
    "new_image.save('C:/Users/Indriani T Sitorus/Pictures/Dataset remove background_200/Preprocessing/Cacat/Resize/Cacat14_resize.png')"
   ]
  },
  {
   "cell_type": "code",
   "execution_count": 18,
   "metadata": {},
   "outputs": [],
   "source": [
    "image = Image.open('C:/Users/Indriani T Sitorus/Pictures/Dataset remove background_200/Cacat/Cacat15.png')\n",
    "# create new size of image (image resize process) 100 x 100 pixel\n",
    "new_image = image.resize((100, 100))\n",
    "#save resize output in directory\n",
    "new_image.save('C:/Users/Indriani T Sitorus/Pictures/Dataset remove background_200/Preprocessing/Cacat/Resize/Cacat15_resize.png')"
   ]
  },
  {
   "cell_type": "code",
   "execution_count": 19,
   "metadata": {},
   "outputs": [],
   "source": [
    "image = Image.open('C:/Users/Indriani T Sitorus/Pictures/Dataset remove background_200/Cacat/Cacat16.png')\n",
    "# create new size of image (image resize process) 100 x 100 pixel\n",
    "new_image = image.resize((100, 100))\n",
    "#save resize output in directory\n",
    "new_image.save('C:/Users/Indriani T Sitorus/Pictures/Dataset remove background_200/Preprocessing/Cacat/Resize/Cacat16_resize.png')"
   ]
  },
  {
   "cell_type": "code",
   "execution_count": 20,
   "metadata": {},
   "outputs": [],
   "source": [
    "image = Image.open('C:/Users/Indriani T Sitorus/Pictures/Dataset remove background_200/Cacat/Cacat17.png')\n",
    "# create new size of image (image resize process) 100 x 100 pixel\n",
    "new_image = image.resize((100, 100))\n",
    "#save resize output in directory\n",
    "new_image.save('C:/Users/Indriani T Sitorus/Pictures/Dataset remove background_200/Preprocessing/Cacat/Resize/Cacat17_resize.png')"
   ]
  },
  {
   "cell_type": "code",
   "execution_count": 21,
   "metadata": {},
   "outputs": [],
   "source": [
    "image = Image.open('C:/Users/Indriani T Sitorus/Pictures/Dataset remove background_200/Cacat/Cacat18.png')\n",
    "# create new size of image (image resize process) 100 x 100 pixel\n",
    "new_image = image.resize((100, 100))\n",
    "#save resize output in directory\n",
    "new_image.save('C:/Users/Indriani T Sitorus/Pictures/Dataset remove background_200/Preprocessing/Cacat/Resize/Cacat18_resize.png')"
   ]
  },
  {
   "cell_type": "code",
   "execution_count": 22,
   "metadata": {},
   "outputs": [],
   "source": [
    "image = Image.open('C:/Users/Indriani T Sitorus/Pictures/Dataset remove background_200/Cacat/Cacat19.png')\n",
    "# create new size of image (image resize process) 100 x 100 pixel\n",
    "new_image = image.resize((100, 100))\n",
    "#save resize output in directory\n",
    "new_image.save('C:/Users/Indriani T Sitorus/Pictures/Dataset remove background_200/Preprocessing/Cacat/Resize/Cacat19_resize.png')"
   ]
  },
  {
   "cell_type": "code",
   "execution_count": 23,
   "metadata": {},
   "outputs": [],
   "source": [
    "image = Image.open('C:/Users/Indriani T Sitorus/Pictures/Dataset remove background_200/Cacat/Cacat20.png')\n",
    "# create new size of image (image resize process) 100 x 100 pixel\n",
    "new_image = image.resize((100, 100))\n",
    "#save resize output in directory\n",
    "new_image.save('C:/Users/Indriani T Sitorus/Pictures/Dataset remove background_200/Preprocessing/Cacat/Resize/Cacat20_resize.png')"
   ]
  },
  {
   "cell_type": "code",
   "execution_count": 24,
   "metadata": {},
   "outputs": [],
   "source": [
    "image = Image.open('C:/Users/Indriani T Sitorus/Pictures/Dataset remove background_200/Cacat/Cacat21.png')\n",
    "# create new size of image (image resize process) 100 x 100 pixel\n",
    "new_image = image.resize((100, 100))\n",
    "#save resize output in directory\n",
    "new_image.save('C:/Users/Indriani T Sitorus/Pictures/Dataset remove background_200/Preprocessing/Cacat/Resize/Cacat21_resize.png')"
   ]
  },
  {
   "cell_type": "code",
   "execution_count": 25,
   "metadata": {},
   "outputs": [],
   "source": [
    "image = Image.open('C:/Users/Indriani T Sitorus/Pictures/Dataset remove background_200/Cacat/Cacat22.png')\n",
    "# create new size of image (image resize process) 100 x 100 pixel\n",
    "new_image = image.resize((100, 100))\n",
    "#save resize output in directory\n",
    "new_image.save('C:/Users/Indriani T Sitorus/Pictures/Dataset remove background_200/Preprocessing/Cacat/Resize/Cacat22_resize.png')"
   ]
  },
  {
   "cell_type": "code",
   "execution_count": 26,
   "metadata": {},
   "outputs": [],
   "source": [
    "image = Image.open('C:/Users/Indriani T Sitorus/Pictures/Dataset remove background_200/Cacat/Cacat23.png')\n",
    "# create new size of image (image resize process) 100 x 100 pixel\n",
    "new_image = image.resize((100, 100))\n",
    "#save resize output in directory\n",
    "new_image.save('C:/Users/Indriani T Sitorus/Pictures/Dataset remove background_200/Preprocessing/Cacat/Resize/Cacat23_resize.png')"
   ]
  },
  {
   "cell_type": "code",
   "execution_count": 27,
   "metadata": {},
   "outputs": [],
   "source": [
    "image = Image.open('C:/Users/Indriani T Sitorus/Pictures/Dataset remove background_200/Cacat/Cacat24.png')\n",
    "# create new size of image (image resize process) 100 x 100 pixel\n",
    "new_image = image.resize((100, 100))\n",
    "#save resize output in directory\n",
    "new_image.save('C:/Users/Indriani T Sitorus/Pictures/Dataset remove background_200/Preprocessing/Cacat/Resize/Cacat24_resize.png')"
   ]
  },
  {
   "cell_type": "code",
   "execution_count": 28,
   "metadata": {},
   "outputs": [],
   "source": [
    "image = Image.open('C:/Users/Indriani T Sitorus/Pictures/Dataset remove background_200/Cacat/Cacat25.png')\n",
    "# create new size of image (image resize process) 100 x 100 pixel\n",
    "new_image = image.resize((100, 100))\n",
    "#save resize output in directory\n",
    "new_image.save('C:/Users/Indriani T Sitorus/Pictures/Dataset remove background_200/Preprocessing/Cacat/Resize/Cacat25_resize.png')"
   ]
  },
  {
   "cell_type": "code",
   "execution_count": 29,
   "metadata": {},
   "outputs": [],
   "source": [
    "image = Image.open('C:/Users/Indriani T Sitorus/Pictures/Dataset remove background_200/Cacat/Cacat26.png')\n",
    "# create new size of image (image resize process) 100 x 100 pixel\n",
    "new_image = image.resize((100, 100))\n",
    "#save resize output in directory\n",
    "new_image.save('C:/Users/Indriani T Sitorus/Pictures/Dataset remove background_200/Preprocessing/Cacat/Resize/Cacat26_resize.png')"
   ]
  },
  {
   "cell_type": "code",
   "execution_count": 30,
   "metadata": {},
   "outputs": [],
   "source": [
    "image = Image.open('C:/Users/Indriani T Sitorus/Pictures/Dataset remove background_200/Cacat/Cacat27.png')\n",
    "# create new size of image (image resize process) 100 x 100 pixel\n",
    "new_image = image.resize((100, 100))\n",
    "#save resize output in directory\n",
    "new_image.save('C:/Users/Indriani T Sitorus/Pictures/Dataset remove background_200/Preprocessing/Cacat/Resize/Cacat27_resize.png')"
   ]
  },
  {
   "cell_type": "code",
   "execution_count": 31,
   "metadata": {},
   "outputs": [],
   "source": [
    "image = Image.open('C:/Users/Indriani T Sitorus/Pictures/Dataset remove background_200/Cacat/Cacat28.png')\n",
    "# create new size of image (image resize process) 100 x 100 pixel\n",
    "new_image = image.resize((100, 100))\n",
    "#save resize output in directory\n",
    "new_image.save('C:/Users/Indriani T Sitorus/Pictures/Dataset remove background_200/Preprocessing/Cacat/Resize/Cacat28_resize.png')"
   ]
  },
  {
   "cell_type": "code",
   "execution_count": 32,
   "metadata": {},
   "outputs": [],
   "source": [
    "image = Image.open('C:/Users/Indriani T Sitorus/Pictures/Dataset remove background_200/Cacat/Cacat29.png')\n",
    "# create new size of image (image resize process) 100 x 100 pixel\n",
    "new_image = image.resize((100, 100))\n",
    "#save resize output in directory\n",
    "new_image.save('C:/Users/Indriani T Sitorus/Pictures/Dataset remove background_200/Preprocessing/Cacat/Resize/Cacat29_resize.png')"
   ]
  },
  {
   "cell_type": "code",
   "execution_count": 33,
   "metadata": {},
   "outputs": [],
   "source": [
    "image = Image.open('C:/Users/Indriani T Sitorus/Pictures/Dataset remove background_200/Cacat/Cacat30.png')\n",
    "# create new size of image (image resize process) 100 x 100 pixel\n",
    "new_image = image.resize((100, 100))\n",
    "#save resize output in directory\n",
    "new_image.save('C:/Users/Indriani T Sitorus/Pictures/Dataset remove background_200/Preprocessing/Cacat/Resize/Cacat30_resize.png')"
   ]
  },
  {
   "cell_type": "code",
   "execution_count": 34,
   "metadata": {},
   "outputs": [],
   "source": [
    "image = Image.open('C:/Users/Indriani T Sitorus/Pictures/Dataset remove background_200/Cacat/Cacat31.png')\n",
    "# create new size of image (image resize process) 100 x 100 pixel\n",
    "new_image = image.resize((100, 100))\n",
    "#save resize output in directory\n",
    "new_image.save('C:/Users/Indriani T Sitorus/Pictures/Dataset remove background_200/Preprocessing/Cacat/Resize/Cacat31_resize.png')"
   ]
  },
  {
   "cell_type": "code",
   "execution_count": 35,
   "metadata": {},
   "outputs": [],
   "source": [
    "image = Image.open('C:/Users/Indriani T Sitorus/Pictures/Dataset remove background_200/Cacat/Cacat32.png')\n",
    "# create new size of image (image resize process) 100 x 100 pixel\n",
    "new_image = image.resize((100, 100))\n",
    "#save resize output in directory\n",
    "new_image.save('C:/Users/Indriani T Sitorus/Pictures/Dataset remove background_200/Preprocessing/Cacat/Resize/Cacat32_resize.png')"
   ]
  },
  {
   "cell_type": "code",
   "execution_count": 36,
   "metadata": {},
   "outputs": [],
   "source": [
    "image = Image.open('C:/Users/Indriani T Sitorus/Pictures/Dataset remove background_200/Cacat/Cacat33.png')\n",
    "# create new size of image (image resize process) 100 x 100 pixel\n",
    "new_image = image.resize((100, 100))\n",
    "#save resize output in directory\n",
    "new_image.save('C:/Users/Indriani T Sitorus/Pictures/Dataset remove background_200/Preprocessing/Cacat/Resize/Cacat33_resize.png')"
   ]
  },
  {
   "cell_type": "code",
   "execution_count": 37,
   "metadata": {},
   "outputs": [],
   "source": [
    "image = Image.open('C:/Users/Indriani T Sitorus/Pictures/Dataset remove background_200/Cacat/Cacat34.png')\n",
    "# create new size of image (image resize process) 100 x 100 pixel\n",
    "new_image = image.resize((100, 100))\n",
    "#save resize output in directory\n",
    "new_image.save('C:/Users/Indriani T Sitorus/Pictures/Dataset remove background_200/Preprocessing/Cacat/Resize/Cacat34_resize.png')"
   ]
  },
  {
   "cell_type": "code",
   "execution_count": 38,
   "metadata": {},
   "outputs": [],
   "source": [
    "image = Image.open('C:/Users/Indriani T Sitorus/Pictures/Dataset remove background_200/Cacat/Cacat35.png')\n",
    "# create new size of image (image resize process) 100 x 100 pixel\n",
    "new_image = image.resize((100, 100))\n",
    "#save resize output in directory\n",
    "new_image.save('C:/Users/Indriani T Sitorus/Pictures/Dataset remove background_200/Preprocessing/Cacat/Resize/Cacat35_resize.png')"
   ]
  },
  {
   "cell_type": "code",
   "execution_count": 39,
   "metadata": {},
   "outputs": [],
   "source": [
    "image = Image.open('C:/Users/Indriani T Sitorus/Pictures/Dataset remove background_200/Cacat/Cacat36.png')\n",
    "# create new size of image (image resize process) 100 x 100 pixel\n",
    "new_image = image.resize((100, 100))\n",
    "#save resize output in directory\n",
    "new_image.save('C:/Users/Indriani T Sitorus/Pictures/Dataset remove background_200/Preprocessing/Cacat/Resize/Cacat36_resize.png')"
   ]
  },
  {
   "cell_type": "code",
   "execution_count": 40,
   "metadata": {},
   "outputs": [],
   "source": [
    "image = Image.open('C:/Users/Indriani T Sitorus/Pictures/Dataset remove background_200/Cacat/Cacat37.png')\n",
    "# create new size of image (image resize process) 100 x 100 pixel\n",
    "new_image = image.resize((100, 100))\n",
    "#save resize output in directory\n",
    "new_image.save('C:/Users/Indriani T Sitorus/Pictures/Dataset remove background_200/Preprocessing/Cacat/Resize/Cacat37_resize.png')"
   ]
  },
  {
   "cell_type": "code",
   "execution_count": 41,
   "metadata": {},
   "outputs": [],
   "source": [
    "image = Image.open('C:/Users/Indriani T Sitorus/Pictures/Dataset remove background_200/Cacat/Cacat38.png')\n",
    "# create new size of image (image resize process) 100 x 100 pixel\n",
    "new_image = image.resize((100, 100))\n",
    "#save resize output in directory\n",
    "new_image.save('C:/Users/Indriani T Sitorus/Pictures/Dataset remove background_200/Preprocessing/Cacat/Resize/Cacat38_resize.png')"
   ]
  },
  {
   "cell_type": "code",
   "execution_count": 42,
   "metadata": {},
   "outputs": [],
   "source": [
    "image = Image.open('C:/Users/Indriani T Sitorus/Pictures/Dataset remove background_200/Cacat/Cacat39.png')\n",
    "# create new size of image (image resize process) 100 x 100 pixel\n",
    "new_image = image.resize((100, 100))\n",
    "#save resize output in directory\n",
    "new_image.save('C:/Users/Indriani T Sitorus/Pictures/Dataset remove background_200/Preprocessing/Cacat/Resize/Cacat39_resize.png')"
   ]
  },
  {
   "cell_type": "code",
   "execution_count": 43,
   "metadata": {},
   "outputs": [],
   "source": [
    "image = Image.open('C:/Users/Indriani T Sitorus/Pictures/Dataset remove background_200/Cacat/Cacat40.png')\n",
    "# create new size of image (image resize process) 100 x 100 pixel\n",
    "new_image = image.resize((100, 100))\n",
    "#save resize output in directory\n",
    "new_image.save('C:/Users/Indriani T Sitorus/Pictures/Dataset remove background_200/Preprocessing/Cacat/Resize/Cacat40_resize.png')"
   ]
  },
  {
   "cell_type": "code",
   "execution_count": 105,
   "metadata": {},
   "outputs": [],
   "source": [
    "image = Image.open('C:/Users/Indriani T Sitorus/Pictures/Dataset remove background_200/Cacat/Cacat41.png')\n",
    "# create new size of image (image resize process) 100 x 100 pixel\n",
    "new_image = image.resize((100, 100))\n",
    "#save resize output in directory\n",
    "new_image.save('C:/Users/Indriani T Sitorus/Pictures/Dataset remove background_200/Preprocessing/Cacat/Resize/Cacat41_resize.png')"
   ]
  },
  {
   "cell_type": "code",
   "execution_count": 45,
   "metadata": {},
   "outputs": [],
   "source": [
    "image = Image.open('C:/Users/Indriani T Sitorus/Pictures/Dataset remove background_200/Cacat/Cacat42.png')\n",
    "# create new size of image (image resize process) 100 x 100 pixel\n",
    "new_image = image.resize((100, 100))\n",
    "#save resize output in directory\n",
    "new_image.save('C:/Users/Indriani T Sitorus/Pictures/Dataset remove background_200/Preprocessing/Cacat/Resize/Cacat42_resize.png')"
   ]
  },
  {
   "cell_type": "code",
   "execution_count": 46,
   "metadata": {},
   "outputs": [],
   "source": [
    "image = Image.open('C:/Users/Indriani T Sitorus/Pictures/Dataset remove background_200/Cacat/Cacat43.png')\n",
    "# create new size of image (image resize process) 100 x 100 pixel\n",
    "new_image = image.resize((100, 100))\n",
    "#save resize output in directory\n",
    "new_image.save('C:/Users/Indriani T Sitorus/Pictures/Dataset remove background_200/Preprocessing/Cacat/Resize/Cacat43_resize.png')"
   ]
  },
  {
   "cell_type": "code",
   "execution_count": 47,
   "metadata": {},
   "outputs": [],
   "source": [
    "image = Image.open('C:/Users/Indriani T Sitorus/Pictures/Dataset remove background_200/Cacat/Cacat44.png')\n",
    "# create new size of image (image resize process) 100 x 100 pixel\n",
    "new_image = image.resize((100, 100))\n",
    "#save resize output in directory\n",
    "new_image.save('C:/Users/Indriani T Sitorus/Pictures/Dataset remove background_200/Preprocessing/Cacat/Resize/Cacat44_resize.png')"
   ]
  },
  {
   "cell_type": "code",
   "execution_count": 48,
   "metadata": {},
   "outputs": [],
   "source": [
    "image = Image.open('C:/Users/Indriani T Sitorus/Pictures/Dataset remove background_200/Cacat/Cacat45.png')\n",
    "# create new size of image (image resize process) 100 x 100 pixel\n",
    "new_image = image.resize((100, 100))\n",
    "#save resize output in directory\n",
    "new_image.save('C:/Users/Indriani T Sitorus/Pictures/Dataset remove background_200/Preprocessing/Cacat/Resize/Cacat45_resize.png')"
   ]
  },
  {
   "cell_type": "code",
   "execution_count": 49,
   "metadata": {},
   "outputs": [],
   "source": [
    "image = Image.open('C:/Users/Indriani T Sitorus/Pictures/Dataset remove background_200/Cacat/Cacat46.png')\n",
    "# create new size of image (image resize process) 100 x 100 pixel\n",
    "new_image = image.resize((100, 100))\n",
    "#save resize output in directory\n",
    "new_image.save('C:/Users/Indriani T Sitorus/Pictures/Dataset remove background_200/Preprocessing/Cacat/Resize/Cacat46_resize.png')"
   ]
  },
  {
   "cell_type": "code",
   "execution_count": 50,
   "metadata": {},
   "outputs": [],
   "source": [
    "image = Image.open('C:/Users/Indriani T Sitorus/Pictures/Dataset remove background_200/Cacat/Cacat47.png')\n",
    "# create new size of image (image resize process) 100 x 100 pixel\n",
    "new_image = image.resize((100, 100))\n",
    "#save resize output in directory\n",
    "new_image.save('C:/Users/Indriani T Sitorus/Pictures/Dataset remove background_200/Preprocessing/Cacat/Resize/Cacat47_resize.png')"
   ]
  },
  {
   "cell_type": "code",
   "execution_count": 51,
   "metadata": {},
   "outputs": [],
   "source": [
    "image = Image.open('C:/Users/Indriani T Sitorus/Pictures/Dataset remove background_200/Cacat/Cacat48.png')\n",
    "# create new size of image (image resize process) 100 x 100 pixel\n",
    "new_image = image.resize((100, 100))\n",
    "#save resize output in directory\n",
    "new_image.save('C:/Users/Indriani T Sitorus/Pictures/Dataset remove background_200/Preprocessing/Cacat/Resize/Cacat48_resize.png')"
   ]
  },
  {
   "cell_type": "code",
   "execution_count": 52,
   "metadata": {},
   "outputs": [],
   "source": [
    "image = Image.open('C:/Users/Indriani T Sitorus/Pictures/Dataset remove background_200/Cacat/Cacat49.png')\n",
    "# create new size of image (image resize process) 100 x 100 pixel\n",
    "new_image = image.resize((100, 100))\n",
    "#save resize output in directory\n",
    "new_image.save('C:/Users/Indriani T Sitorus/Pictures/Dataset remove background_200/Preprocessing/Cacat/Resize/Cacat49_resize.png')"
   ]
  },
  {
   "cell_type": "code",
   "execution_count": 53,
   "metadata": {},
   "outputs": [],
   "source": [
    "image = Image.open('C:/Users/Indriani T Sitorus/Pictures/Dataset remove background_200/Cacat/Cacat50.png')\n",
    "# create new size of image (image resize process) 100 x 100 pixel\n",
    "new_image = image.resize((100, 100))\n",
    "#save resize output in directory\n",
    "new_image.save('C:/Users/Indriani T Sitorus/Pictures/Dataset remove background_200/Preprocessing/Cacat/Resize/Cacat50_resize.png')"
   ]
  },
  {
   "cell_type": "code",
   "execution_count": 54,
   "metadata": {},
   "outputs": [],
   "source": [
    "image = Image.open('C:/Users/Indriani T Sitorus/Pictures/Dataset remove background_200/Cacat/Cacat51.png')\n",
    "# create new size of image (image resize process) 100 x 100 pixel\n",
    "new_image = image.resize((100, 100))\n",
    "#save resize output in directory\n",
    "new_image.save('C:/Users/Indriani T Sitorus/Pictures/Dataset remove background_200/Preprocessing/Cacat/Resize/Cacat51_resize.png')"
   ]
  },
  {
   "cell_type": "code",
   "execution_count": 55,
   "metadata": {},
   "outputs": [],
   "source": [
    "image = Image.open('C:/Users/Indriani T Sitorus/Pictures/Dataset remove background_200/Cacat/Cacat52.png')\n",
    "# create new size of image (image resize process) 100 x 100 pixel\n",
    "new_image = image.resize((100, 100))\n",
    "#save resize output in directory\n",
    "new_image.save('C:/Users/Indriani T Sitorus/Pictures/Dataset remove background_200/Preprocessing/Cacat/Resize/Cacat52_resize.png')"
   ]
  },
  {
   "cell_type": "code",
   "execution_count": 56,
   "metadata": {},
   "outputs": [],
   "source": [
    "image = Image.open('C:/Users/Indriani T Sitorus/Pictures/Dataset remove background_200/Cacat/Cacat53.png')\n",
    "# create new size of image (image resize process) 100 x 100 pixel\n",
    "new_image = image.resize((100, 100))\n",
    "#save resize output in directory\n",
    "new_image.save('C:/Users/Indriani T Sitorus/Pictures/Dataset remove background_200/Preprocessing/Cacat/Resize/Cacat53_resize.png')"
   ]
  },
  {
   "cell_type": "code",
   "execution_count": 57,
   "metadata": {},
   "outputs": [],
   "source": [
    "image = Image.open('C:/Users/Indriani T Sitorus/Pictures/Dataset remove background_200/Cacat/Cacat54.png')\n",
    "# create new size of image (image resize process) 100 x 100 pixel\n",
    "new_image = image.resize((100, 100))\n",
    "#save resize output in directory\n",
    "new_image.save('C:/Users/Indriani T Sitorus/Pictures/Dataset remove background_200/Preprocessing/Cacat/Resize/Cacat54_resize.png')"
   ]
  },
  {
   "cell_type": "code",
   "execution_count": 58,
   "metadata": {},
   "outputs": [],
   "source": [
    "image = Image.open('C:/Users/Indriani T Sitorus/Pictures/Dataset remove background_200/Cacat/Cacat55.png')\n",
    "# create new size of image (image resize process) 100 x 100 pixel\n",
    "new_image = image.resize((100, 100))\n",
    "#save resize output in directory\n",
    "new_image.save('C:/Users/Indriani T Sitorus/Pictures/Dataset remove background_200/Preprocessing/Cacat/Resize/Cacat55_resize.png')"
   ]
  },
  {
   "cell_type": "code",
   "execution_count": 59,
   "metadata": {},
   "outputs": [],
   "source": [
    "image = Image.open('C:/Users/Indriani T Sitorus/Pictures/Dataset remove background_200/Cacat/Cacat56.png')\n",
    "# create new size of image (image resize process) 100 x 100 pixel\n",
    "new_image = image.resize((100, 100))\n",
    "#save resize output in directory\n",
    "new_image.save('C:/Users/Indriani T Sitorus/Pictures/Dataset remove background_200/Preprocessing/Cacat/Resize/Cacat56_resize.png')"
   ]
  },
  {
   "cell_type": "code",
   "execution_count": 60,
   "metadata": {},
   "outputs": [],
   "source": [
    "image = Image.open('C:/Users/Indriani T Sitorus/Pictures/Dataset remove background_200/Cacat/Cacat57.png')\n",
    "# create new size of image (image resize process) 100 x 100 pixel\n",
    "new_image = image.resize((100, 100))\n",
    "#save resize output in directory\n",
    "new_image.save('C:/Users/Indriani T Sitorus/Pictures/Dataset remove background_200/Preprocessing/Cacat/Resize/Cacat57_resize.png')"
   ]
  },
  {
   "cell_type": "code",
   "execution_count": 61,
   "metadata": {},
   "outputs": [],
   "source": [
    "image = Image.open('C:/Users/Indriani T Sitorus/Pictures/Dataset remove background_200/Cacat/Cacat58.png')\n",
    "# create new size of image (image resize process) 100 x 100 pixel\n",
    "new_image = image.resize((100, 100))\n",
    "#save resize output in directory\n",
    "new_image.save('C:/Users/Indriani T Sitorus/Pictures/Dataset remove background_200/Preprocessing/Cacat/Resize/Cacat58_resize.png')"
   ]
  },
  {
   "cell_type": "code",
   "execution_count": 62,
   "metadata": {},
   "outputs": [],
   "source": [
    "image = Image.open('C:/Users/Indriani T Sitorus/Pictures/Dataset remove background_200/Cacat/Cacat59.png')\n",
    "# create new size of image (image resize process) 100 x 100 pixel\n",
    "new_image = image.resize((100, 100))\n",
    "#save resize output in directory\n",
    "new_image.save('C:/Users/Indriani T Sitorus/Pictures/Dataset remove background_200/Preprocessing/Cacat/Resize/Cacat59_resize.png')"
   ]
  },
  {
   "cell_type": "code",
   "execution_count": 63,
   "metadata": {},
   "outputs": [],
   "source": [
    "image = Image.open('C:/Users/Indriani T Sitorus/Pictures/Dataset remove background_200/Cacat/Cacat60.png')\n",
    "# create new size of image (image resize process) 100 x 100 pixel\n",
    "new_image = image.resize((100, 100))\n",
    "#save resize output in directory\n",
    "new_image.save('C:/Users/Indriani T Sitorus/Pictures/Dataset remove background_200/Preprocessing/Cacat/Resize/Cacat60_resize.png')"
   ]
  },
  {
   "cell_type": "code",
   "execution_count": 64,
   "metadata": {},
   "outputs": [],
   "source": [
    "image = Image.open('C:/Users/Indriani T Sitorus/Pictures/Dataset remove background_200/Cacat/Cacat61.png')\n",
    "# create new size of image (image resize process) 100 x 100 pixel\n",
    "new_image = image.resize((100, 100))\n",
    "#save resize output in directory\n",
    "new_image.save('C:/Users/Indriani T Sitorus/Pictures/Dataset remove background_200/Preprocessing/Cacat/Resize/Cacat61_resize.png')"
   ]
  },
  {
   "cell_type": "code",
   "execution_count": 65,
   "metadata": {},
   "outputs": [],
   "source": [
    "image = Image.open('C:/Users/Indriani T Sitorus/Pictures/Dataset remove background_200/Cacat/Cacat62.png')\n",
    "# create new size of image (image resize process) 100 x 100 pixel\n",
    "new_image = image.resize((100, 100))\n",
    "#save resize output in directory\n",
    "new_image.save('C:/Users/Indriani T Sitorus/Pictures/Dataset remove background_200/Preprocessing/Cacat/Resize/Cacat62_resize.png')"
   ]
  },
  {
   "cell_type": "code",
   "execution_count": 66,
   "metadata": {},
   "outputs": [],
   "source": [
    "image = Image.open('C:/Users/Indriani T Sitorus/Pictures/Dataset remove background_200/Cacat/Cacat63.png')\n",
    "# create new size of image (image resize process) 100 x 100 pixel\n",
    "new_image = image.resize((100, 100))\n",
    "#save resize output in directory\n",
    "new_image.save('C:/Users/Indriani T Sitorus/Pictures/Dataset remove background_200/Preprocessing/Cacat/Resize/Cacat63_resize.png')"
   ]
  },
  {
   "cell_type": "code",
   "execution_count": 67,
   "metadata": {},
   "outputs": [],
   "source": [
    "image = Image.open('C:/Users/Indriani T Sitorus/Pictures/Dataset remove background_200/Cacat/Cacat64.png')\n",
    "# create new size of image (image resize process) 100 x 100 pixel\n",
    "new_image = image.resize((100, 100))\n",
    "#save resize output in directory\n",
    "new_image.save('C:/Users/Indriani T Sitorus/Pictures/Dataset remove background_200/Preprocessing/Cacat/Resize/Cacat64_resize.png')"
   ]
  },
  {
   "cell_type": "code",
   "execution_count": 68,
   "metadata": {},
   "outputs": [],
   "source": [
    "image = Image.open('C:/Users/Indriani T Sitorus/Pictures/Dataset remove background_200/Cacat/Cacat65.png')\n",
    "# create new size of image (image resize process) 100 x 100 pixel\n",
    "new_image = image.resize((100, 100))\n",
    "#save resize output in directory\n",
    "new_image.save('C:/Users/Indriani T Sitorus/Pictures/Dataset remove background_200/Preprocessing/Cacat/Resize/Cacat65_resize.png')"
   ]
  },
  {
   "cell_type": "code",
   "execution_count": 69,
   "metadata": {},
   "outputs": [],
   "source": [
    "image = Image.open('C:/Users/Indriani T Sitorus/Pictures/Dataset remove background_200/Cacat/Cacat66.png')\n",
    "# create new size of image (image resize process) 100 x 100 pixel\n",
    "new_image = image.resize((100, 100))\n",
    "#save resize output in directory\n",
    "new_image.save('C:/Users/Indriani T Sitorus/Pictures/Dataset remove background_200/Preprocessing/Cacat/Resize/Cacat66_resize.png')"
   ]
  },
  {
   "cell_type": "code",
   "execution_count": 70,
   "metadata": {},
   "outputs": [],
   "source": [
    "image = Image.open('C:/Users/Indriani T Sitorus/Pictures/Dataset remove background_200/Cacat/Cacat67.png')\n",
    "# create new size of image (image resize process) 100 x 100 pixel\n",
    "new_image = image.resize((100, 100))\n",
    "#save resize output in directory\n",
    "new_image.save('C:/Users/Indriani T Sitorus/Pictures/Dataset remove background_200/Preprocessing/Cacat/Resize/Cacat67_resize.png')"
   ]
  },
  {
   "cell_type": "code",
   "execution_count": 71,
   "metadata": {},
   "outputs": [],
   "source": [
    "image = Image.open('C:/Users/Indriani T Sitorus/Pictures/Dataset remove background_200/Cacat/Cacat68.png')\n",
    "# create new size of image (image resize process) 100 x 100 pixel\n",
    "new_image = image.resize((100, 100))\n",
    "#save resize output in directory\n",
    "new_image.save('C:/Users/Indriani T Sitorus/Pictures/Dataset remove background_200/Preprocessing/Cacat/Resize/Cacat68_resize.png')"
   ]
  },
  {
   "cell_type": "code",
   "execution_count": 72,
   "metadata": {},
   "outputs": [],
   "source": [
    "image = Image.open('C:/Users/Indriani T Sitorus/Pictures/Dataset remove background_200/Cacat/Cacat69.png')\n",
    "# create new size of image (image resize process) 100 x 100 pixel\n",
    "new_image = image.resize((100, 100))\n",
    "#save resize output in directory\n",
    "new_image.save('C:/Users/Indriani T Sitorus/Pictures/Dataset remove background_200/Preprocessing/Cacat/Resize/Cacat69_resize.png')"
   ]
  },
  {
   "cell_type": "code",
   "execution_count": 73,
   "metadata": {},
   "outputs": [],
   "source": [
    "image = Image.open('C:/Users/Indriani T Sitorus/Pictures/Dataset remove background_200/Cacat/Cacat70.png')\n",
    "# create new size of image (image resize process) 100 x 100 pixel\n",
    "new_image = image.resize((100, 100))\n",
    "#save resize output in directory\n",
    "new_image.save('C:/Users/Indriani T Sitorus/Pictures/Dataset remove background_200/Preprocessing/Cacat/Resize/Cacat70_resize.png')"
   ]
  },
  {
   "cell_type": "code",
   "execution_count": 74,
   "metadata": {},
   "outputs": [],
   "source": [
    "image = Image.open('C:/Users/Indriani T Sitorus/Pictures/Dataset remove background_200/Cacat/Cacat71.png')\n",
    "# create new size of image (image resize process) 100 x 100 pixel\n",
    "new_image = image.resize((100, 100))\n",
    "#save resize output in directory\n",
    "new_image.save('C:/Users/Indriani T Sitorus/Pictures/Dataset remove background_200/Preprocessing/Cacat/Resize/Cacat71_resize.png')"
   ]
  },
  {
   "cell_type": "code",
   "execution_count": 75,
   "metadata": {},
   "outputs": [],
   "source": [
    "image = Image.open('C:/Users/Indriani T Sitorus/Pictures/Dataset remove background_200/Cacat/Cacat72.png')\n",
    "# create new size of image (image resize process) 100 x 100 pixel\n",
    "new_image = image.resize((100, 100))\n",
    "#save resize output in directory\n",
    "new_image.save('C:/Users/Indriani T Sitorus/Pictures/Dataset remove background_200/Preprocessing/Cacat/Resize/Cacat72_resize.png')"
   ]
  },
  {
   "cell_type": "code",
   "execution_count": 76,
   "metadata": {},
   "outputs": [],
   "source": [
    "image = Image.open('C:/Users/Indriani T Sitorus/Pictures/Dataset remove background_200/Cacat/Cacat73.png')\n",
    "# create new size of image (image resize process) 100 x 100 pixel\n",
    "new_image = image.resize((100, 100))\n",
    "#save resize output in directory\n",
    "new_image.save('C:/Users/Indriani T Sitorus/Pictures/Dataset remove background_200/Preprocessing/Cacat/Resize/Cacat73_resize.png')"
   ]
  },
  {
   "cell_type": "code",
   "execution_count": 77,
   "metadata": {},
   "outputs": [],
   "source": [
    "image = Image.open('C:/Users/Indriani T Sitorus/Pictures/Dataset remove background_200/Cacat/Cacat74.png')\n",
    "# create new size of image (image resize process) 100 x 100 pixel\n",
    "new_image = image.resize((100, 100))\n",
    "#save resize output in directory\n",
    "new_image.save('C:/Users/Indriani T Sitorus/Pictures/Dataset remove background_200/Preprocessing/Cacat/Resize/Cacat74_resize.png')"
   ]
  },
  {
   "cell_type": "code",
   "execution_count": 78,
   "metadata": {},
   "outputs": [],
   "source": [
    "image = Image.open('C:/Users/Indriani T Sitorus/Pictures/Dataset remove background_200/Cacat/Cacat75.png')\n",
    "# create new size of image (image resize process) 100 x 100 pixel\n",
    "new_image = image.resize((100, 100))\n",
    "#save resize output in directory\n",
    "new_image.save('C:/Users/Indriani T Sitorus/Pictures/Dataset remove background_200/Preprocessing/Cacat/Resize/Cacat75_resize.png')"
   ]
  },
  {
   "cell_type": "code",
   "execution_count": 79,
   "metadata": {},
   "outputs": [],
   "source": [
    "image = Image.open('C:/Users/Indriani T Sitorus/Pictures/Dataset remove background_200/Cacat/Cacat76.png')\n",
    "# create new size of image (image resize process) 100 x 100 pixel\n",
    "new_image = image.resize((100, 100))\n",
    "#save resize output in directory\n",
    "new_image.save('C:/Users/Indriani T Sitorus/Pictures/Dataset remove background_200/Preprocessing/Cacat/Resize/Cacat76_resize.png')"
   ]
  },
  {
   "cell_type": "code",
   "execution_count": 80,
   "metadata": {},
   "outputs": [],
   "source": [
    "image = Image.open('C:/Users/Indriani T Sitorus/Pictures/Dataset remove background_200/Cacat/Cacat77.png')\n",
    "# create new size of image (image resize process) 100 x 100 pixel\n",
    "new_image = image.resize((100, 100))\n",
    "#save resize output in directory\n",
    "new_image.save('C:/Users/Indriani T Sitorus/Pictures/Dataset remove background_200/Preprocessing/Cacat/Resize/Cacat77_resize.png')"
   ]
  },
  {
   "cell_type": "code",
   "execution_count": 81,
   "metadata": {},
   "outputs": [],
   "source": [
    "image = Image.open('C:/Users/Indriani T Sitorus/Pictures/Dataset remove background_200/Cacat/Cacat78.png')\n",
    "# create new size of image (image resize process) 100 x 100 pixel\n",
    "new_image = image.resize((100, 100))\n",
    "#save resize output in directory\n",
    "new_image.save('C:/Users/Indriani T Sitorus/Pictures/Dataset remove background_200/Preprocessing/Cacat/Resize/Cacat78_resize.png')"
   ]
  },
  {
   "cell_type": "code",
   "execution_count": 82,
   "metadata": {},
   "outputs": [],
   "source": [
    "image = Image.open('C:/Users/Indriani T Sitorus/Pictures/Dataset remove background_200/Cacat/Cacat79.png')\n",
    "# create new size of image (image resize process) 100 x 100 pixel\n",
    "new_image = image.resize((100, 100))\n",
    "#save resize output in directory\n",
    "new_image.save('C:/Users/Indriani T Sitorus/Pictures/Dataset remove background_200/Preprocessing/Cacat/Resize/Cacat79_resize.png')"
   ]
  },
  {
   "cell_type": "code",
   "execution_count": 83,
   "metadata": {},
   "outputs": [],
   "source": [
    "image = Image.open('C:/Users/Indriani T Sitorus/Pictures/Dataset remove background_200/Cacat/Cacat80.png')\n",
    "# create new size of image (image resize process) 100 x 100 pixel\n",
    "new_image = image.resize((100, 100))\n",
    "#save resize output in directory\n",
    "new_image.save('C:/Users/Indriani T Sitorus/Pictures/Dataset remove background_200/Preprocessing/Cacat/Resize/Cacat80_resize.png')"
   ]
  },
  {
   "cell_type": "code",
   "execution_count": 84,
   "metadata": {},
   "outputs": [],
   "source": [
    "image = Image.open('C:/Users/Indriani T Sitorus/Pictures/Dataset remove background_200/Cacat/Cacat81.png')\n",
    "# create new size of image (image resize process) 100 x 100 pixel\n",
    "new_image = image.resize((100, 100))\n",
    "#save resize output in directory\n",
    "new_image.save('C:/Users/Indriani T Sitorus/Pictures/Dataset remove background_200/Preprocessing/Cacat/Resize/Cacat81_resize.png')"
   ]
  },
  {
   "cell_type": "code",
   "execution_count": 85,
   "metadata": {},
   "outputs": [],
   "source": [
    "image = Image.open('C:/Users/Indriani T Sitorus/Pictures/Dataset remove background_200/Cacat/Cacat82.png')\n",
    "# create new size of image (image resize process) 100 x 100 pixel\n",
    "new_image = image.resize((100, 100))\n",
    "#save resize output in directory\n",
    "new_image.save('C:/Users/Indriani T Sitorus/Pictures/Dataset remove background_200/Preprocessing/Cacat/Resize/Cacat82_resize.png')"
   ]
  },
  {
   "cell_type": "code",
   "execution_count": 86,
   "metadata": {},
   "outputs": [],
   "source": [
    "image = Image.open('C:/Users/Indriani T Sitorus/Pictures/Dataset remove background_200/Cacat/Cacat83.png')\n",
    "# create new size of image (image resize process) 100 x 100 pixel\n",
    "new_image = image.resize((100, 100))\n",
    "#save resize output in directory\n",
    "new_image.save('C:/Users/Indriani T Sitorus/Pictures/Dataset remove background_200/Preprocessing/Cacat/Resize/Cacat83_resize.png')"
   ]
  },
  {
   "cell_type": "code",
   "execution_count": 87,
   "metadata": {},
   "outputs": [],
   "source": [
    "image = Image.open('C:/Users/Indriani T Sitorus/Pictures/Dataset remove background_200/Cacat/Cacat84.png')\n",
    "# create new size of image (image resize process) 100 x 100 pixel\n",
    "new_image = image.resize((100, 100))\n",
    "#save resize output in directory\n",
    "new_image.save('C:/Users/Indriani T Sitorus/Pictures/Dataset remove background_200/Preprocessing/Cacat/Resize/Cacat84_resize.png')"
   ]
  },
  {
   "cell_type": "code",
   "execution_count": 88,
   "metadata": {},
   "outputs": [],
   "source": [
    "image = Image.open('C:/Users/Indriani T Sitorus/Pictures/Dataset remove background_200/Cacat/Cacat85.png')\n",
    "# create new size of image (image resize process) 100 x 100 pixel\n",
    "new_image = image.resize((100, 100))\n",
    "#save resize output in directory\n",
    "new_image.save('C:/Users/Indriani T Sitorus/Pictures/Dataset remove background_200/Preprocessing/Cacat/Resize/Cacat85_resize.png')"
   ]
  },
  {
   "cell_type": "code",
   "execution_count": 89,
   "metadata": {},
   "outputs": [],
   "source": [
    "image = Image.open('C:/Users/Indriani T Sitorus/Pictures/Dataset remove background_200/Cacat/Cacat86.png')\n",
    "# create new size of image (image resize process) 100 x 100 pixel\n",
    "new_image = image.resize((100, 100))\n",
    "#save resize output in directory\n",
    "new_image.save('C:/Users/Indriani T Sitorus/Pictures/Dataset remove background_200/Preprocessing/Cacat/Resize/Cacat86_resize.png')"
   ]
  },
  {
   "cell_type": "code",
   "execution_count": 90,
   "metadata": {},
   "outputs": [],
   "source": [
    "image = Image.open('C:/Users/Indriani T Sitorus/Pictures/Dataset remove background_200/Cacat/Cacat87.png')\n",
    "# create new size of image (image resize process) 100 x 100 pixel\n",
    "new_image = image.resize((100, 100))\n",
    "#save resize output in directory\n",
    "new_image.save('C:/Users/Indriani T Sitorus/Pictures/Dataset remove background_200/Preprocessing/Cacat/Resize/Cacat87_resize.png')"
   ]
  },
  {
   "cell_type": "code",
   "execution_count": 91,
   "metadata": {},
   "outputs": [],
   "source": [
    "image = Image.open('C:/Users/Indriani T Sitorus/Pictures/Dataset remove background_200/Cacat/Cacat88.png')\n",
    "# create new size of image (image resize process) 100 x 100 pixel\n",
    "new_image = image.resize((100, 100))\n",
    "#save resize output in directory\n",
    "new_image.save('C:/Users/Indriani T Sitorus/Pictures/Dataset remove background_200/Preprocessing/Cacat/Resize/Cacat88_resize.png')"
   ]
  },
  {
   "cell_type": "code",
   "execution_count": 92,
   "metadata": {},
   "outputs": [],
   "source": [
    "image = Image.open('C:/Users/Indriani T Sitorus/Pictures/Dataset remove background_200/Cacat/Cacat89.png')\n",
    "# create new size of image (image resize process) 100 x 100 pixel\n",
    "new_image = image.resize((100, 100))\n",
    "#save resize output in directory\n",
    "new_image.save('C:/Users/Indriani T Sitorus/Pictures/Dataset remove background_200/Preprocessing/Cacat/Resize/Cacat89_resize.png')"
   ]
  },
  {
   "cell_type": "code",
   "execution_count": 93,
   "metadata": {},
   "outputs": [],
   "source": [
    "image = Image.open('C:/Users/Indriani T Sitorus/Pictures/Dataset remove background_200/Cacat/Cacat90.png')\n",
    "# create new size of image (image resize process) 100 x 100 pixel\n",
    "new_image = image.resize((100, 100))\n",
    "#save resize output in directory\n",
    "new_image.save('C:/Users/Indriani T Sitorus/Pictures/Dataset remove background_200/Preprocessing/Cacat/Resize/Cacat90_resize.png')"
   ]
  },
  {
   "cell_type": "code",
   "execution_count": 94,
   "metadata": {},
   "outputs": [],
   "source": [
    "image = Image.open('C:/Users/Indriani T Sitorus/Pictures/Dataset remove background_200/Cacat/Cacat91.png')\n",
    "# create new size of image (image resize process) 100 x 100 pixel\n",
    "new_image = image.resize((100, 100))\n",
    "#save resize output in directory\n",
    "new_image.save('C:/Users/Indriani T Sitorus/Pictures/Dataset remove background_200/Preprocessing/Cacat/Resize/Cacat91_resize.png')"
   ]
  },
  {
   "cell_type": "code",
   "execution_count": 95,
   "metadata": {},
   "outputs": [],
   "source": [
    "image = Image.open('C:/Users/Indriani T Sitorus/Pictures/Dataset remove background_200/Cacat/Cacat92.png')\n",
    "# create new size of image (image resize process) 100 x 100 pixel\n",
    "new_image = image.resize((100, 100))\n",
    "#save resize output in directory\n",
    "new_image.save('C:/Users/Indriani T Sitorus/Pictures/Dataset remove background_200/Preprocessing/Cacat/Resize/Cacat92_resize.png')"
   ]
  },
  {
   "cell_type": "code",
   "execution_count": 96,
   "metadata": {},
   "outputs": [],
   "source": [
    "image = Image.open('C:/Users/Indriani T Sitorus/Pictures/Dataset remove background_200/Cacat/Cacat93.png')\n",
    "# create new size of image (image resize process) 100 x 100 pixel\n",
    "new_image = image.resize((100, 100))\n",
    "#save resize output in directory\n",
    "new_image.save('C:/Users/Indriani T Sitorus/Pictures/Dataset remove background_200/Preprocessing/Cacat/Resize/Cacat93_resize.png')"
   ]
  },
  {
   "cell_type": "code",
   "execution_count": 97,
   "metadata": {},
   "outputs": [],
   "source": [
    "image = Image.open('C:/Users/Indriani T Sitorus/Pictures/Dataset remove background_200/Cacat/Cacat94.png')\n",
    "# create new size of image (image resize process) 100 x 100 pixel\n",
    "new_image = image.resize((100, 100))\n",
    "#save resize output in directory\n",
    "new_image.save('C:/Users/Indriani T Sitorus/Pictures/Dataset remove background_200/Preprocessing/Cacat/Resize/Cacat94_resize.png')"
   ]
  },
  {
   "cell_type": "code",
   "execution_count": 98,
   "metadata": {},
   "outputs": [],
   "source": [
    "image = Image.open('C:/Users/Indriani T Sitorus/Pictures/Dataset remove background_200/Cacat/Cacat95.png')\n",
    "# create new size of image (image resize process) 100 x 100 pixel\n",
    "new_image = image.resize((100, 100))\n",
    "#save resize output in directory\n",
    "new_image.save('C:/Users/Indriani T Sitorus/Pictures/Dataset remove background_200/Preprocessing/Cacat/Resize/Cacat95_resize.png')"
   ]
  },
  {
   "cell_type": "code",
   "execution_count": 99,
   "metadata": {},
   "outputs": [],
   "source": [
    "image = Image.open('C:/Users/Indriani T Sitorus/Pictures/Dataset remove background_200/Cacat/Cacat96.png')\n",
    "# create new size of image (image resize process) 100 x 100 pixel\n",
    "new_image = image.resize((100, 100))\n",
    "#save resize output in directory\n",
    "new_image.save('C:/Users/Indriani T Sitorus/Pictures/Dataset remove background_200/Preprocessing/Cacat/Resize/Cacat96_resize.png')"
   ]
  },
  {
   "cell_type": "code",
   "execution_count": 100,
   "metadata": {},
   "outputs": [],
   "source": [
    "image = Image.open('C:/Users/Indriani T Sitorus/Pictures/Dataset remove background_200/Cacat/Cacat97.png')\n",
    "# create new size of image (image resize process) 100 x 100 pixel\n",
    "new_image = image.resize((100, 100))\n",
    "#save resize output in directory\n",
    "new_image.save('C:/Users/Indriani T Sitorus/Pictures/Dataset remove background_200/Preprocessing/Cacat/Resize/Cacat97_resize.png')"
   ]
  },
  {
   "cell_type": "code",
   "execution_count": 101,
   "metadata": {},
   "outputs": [],
   "source": [
    "image = Image.open('C:/Users/Indriani T Sitorus/Pictures/Dataset remove background_200/Cacat/Cacat98.png')\n",
    "# create new size of image (image resize process) 100 x 100 pixel\n",
    "new_image = image.resize((100, 100))\n",
    "#save resize output in directory\n",
    "new_image.save('C:/Users/Indriani T Sitorus/Pictures/Dataset remove background_200/Preprocessing/Cacat/Resize/Cacat98_resize.png')"
   ]
  },
  {
   "cell_type": "code",
   "execution_count": 102,
   "metadata": {},
   "outputs": [],
   "source": [
    "image = Image.open('C:/Users/Indriani T Sitorus/Pictures/Dataset remove background_200/Cacat/Cacat99.png')\n",
    "# create new size of image (image resize process) 100 x 100 pixel\n",
    "new_image = image.resize((100, 100))\n",
    "#save resize output in directory\n",
    "new_image.save('C:/Users/Indriani T Sitorus/Pictures/Dataset remove background_200/Preprocessing/Cacat/Resize/Cacat99_resize.png')"
   ]
  },
  {
   "cell_type": "code",
   "execution_count": 103,
   "metadata": {},
   "outputs": [],
   "source": [
    "image = Image.open('C:/Users/Indriani T Sitorus/Pictures/Dataset remove background_200/Cacat/Cacat100.png')\n",
    "# create new size of image (image resize process) 100 x 100 pixel\n",
    "new_image = image.resize((100, 100))\n",
    "#save resize output in directory\n",
    "new_image.save('C:/Users/Indriani T Sitorus/Pictures/Dataset remove background_200/Preprocessing/Cacat/Resize/Cacat100_resize.png')"
   ]
  },
  {
   "cell_type": "code",
   "execution_count": null,
   "metadata": {},
   "outputs": [],
   "source": []
  }
 ],
 "metadata": {
  "kernelspec": {
   "display_name": "Python 3",
   "language": "python",
   "name": "python3"
  },
  "language_info": {
   "codemirror_mode": {
    "name": "ipython",
    "version": 3
   },
   "file_extension": ".py",
   "mimetype": "text/x-python",
   "name": "python",
   "nbconvert_exporter": "python",
   "pygments_lexer": "ipython3",
   "version": "3.7.6"
  }
 },
 "nbformat": 4,
 "nbformat_minor": 4
}
