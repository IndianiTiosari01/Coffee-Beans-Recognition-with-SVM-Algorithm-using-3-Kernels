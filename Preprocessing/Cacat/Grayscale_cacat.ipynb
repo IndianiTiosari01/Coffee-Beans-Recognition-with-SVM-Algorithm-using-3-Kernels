{
 "cells": [
  {
   "cell_type": "markdown",
   "metadata": {},
   "source": [
    "# Importing required libraries"
   ]
  },
  {
   "cell_type": "code",
   "execution_count": 1,
   "metadata": {},
   "outputs": [],
   "source": [
    "import cv2\n",
    "import glob\n",
    "import matplotlib.pyplot as plt\n",
    "import os,glob\n",
    "import os\n",
    "from os import listdir,makedirs\n",
    "from os.path import isfile,join\n",
    "import skimage\n",
    "from skimage import data\n",
    "import numpy as np\n",
    "import matplotlib.pyplot as plt\n",
    "%matplotlib inline\n",
    "from PIL import Image"
   ]
  },
  {
   "cell_type": "markdown",
   "metadata": {},
   "source": [
    "# Load the image"
   ]
  },
  {
   "cell_type": "code",
   "execution_count": 2,
   "metadata": {},
   "outputs": [],
   "source": [
    "# convert image into grayscale\n",
    "image = Image.open('C:/Users/Indriani T Sitorus/Pictures/Dataset remove background_200/Cacat/Cacat1.png')\n",
    "greyscale_image = image.convert('L')\n",
    "greyscale_image.save('C:/Users/Indriani T Sitorus/Pictures/Dataset remove background_200/Preprocessing/Cacat/Grayscale/Cacat1_grayscale.jpg')"
   ]
  },
  {
   "cell_type": "code",
   "execution_count": 3,
   "metadata": {},
   "outputs": [],
   "source": [
    "# convert image into grayscale\n",
    "image = Image.open('C:/Users/Indriani T Sitorus/Pictures/Dataset remove background_200/Cacat/Cacat2.png')\n",
    "greyscale_image = image.convert('L')\n",
    "greyscale_image.save('C:/Users/Indriani T Sitorus/Pictures/Dataset remove background_200/Preprocessing/Cacat/Grayscale/Cacat2_grayscale.jpg')"
   ]
  },
  {
   "cell_type": "code",
   "execution_count": 4,
   "metadata": {},
   "outputs": [],
   "source": [
    "# convert image into grayscale\n",
    "image = Image.open('C:/Users/Indriani T Sitorus/Pictures/Dataset remove background_200/Cacat/Cacat3.png')\n",
    "greyscale_image = image.convert('L')\n",
    "greyscale_image.save('C:/Users/Indriani T Sitorus/Pictures/Dataset remove background_200/Preprocessing/Cacat/Grayscale/Cacat3_grayscale.jpg')"
   ]
  },
  {
   "cell_type": "code",
   "execution_count": 5,
   "metadata": {},
   "outputs": [],
   "source": [
    "# convert image into grayscale\n",
    "image = Image.open('C:/Users/Indriani T Sitorus/Pictures/Dataset remove background_200/Cacat/Cacat4.png')\n",
    "greyscale_image = image.convert('L')\n",
    "greyscale_image.save('C:/Users/Indriani T Sitorus/Pictures/Dataset remove background_200/Preprocessing/Cacat/Grayscale/Cacat4_grayscale.jpg')"
   ]
  },
  {
   "cell_type": "code",
   "execution_count": 6,
   "metadata": {},
   "outputs": [],
   "source": [
    "# convert image into grayscale\n",
    "image = Image.open('C:/Users/Indriani T Sitorus/Pictures/Dataset remove background_200/Cacat/Cacat5.png')\n",
    "greyscale_image = image.convert('L')\n",
    "greyscale_image.save('C:/Users/Indriani T Sitorus/Pictures/Dataset remove background_200/Preprocessing/Cacat/Grayscale/Cacat5_grayscale.jpg')"
   ]
  },
  {
   "cell_type": "code",
   "execution_count": 7,
   "metadata": {},
   "outputs": [],
   "source": [
    "# convert image into grayscale\n",
    "image = Image.open('C:/Users/Indriani T Sitorus/Pictures/Dataset remove background_200/Cacat/Cacat6.png')\n",
    "greyscale_image = image.convert('L')\n",
    "greyscale_image.save('C:/Users/Indriani T Sitorus/Pictures/Dataset remove background_200/Preprocessing/Cacat/Grayscale/Cacat6_grayscale.jpg')"
   ]
  },
  {
   "cell_type": "code",
   "execution_count": 8,
   "metadata": {},
   "outputs": [],
   "source": [
    "# convert image into grayscale\n",
    "image = Image.open('C:/Users/Indriani T Sitorus/Pictures/Dataset remove background_200/Cacat/Cacat7.png')\n",
    "greyscale_image = image.convert('L')\n",
    "greyscale_image.save('C:/Users/Indriani T Sitorus/Pictures/Dataset remove background_200/Preprocessing/Cacat/Grayscale/Cacat7_grayscale.jpg')"
   ]
  },
  {
   "cell_type": "code",
   "execution_count": 9,
   "metadata": {},
   "outputs": [],
   "source": [
    "# convert image into grayscale\n",
    "image = Image.open('C:/Users/Indriani T Sitorus/Pictures/Dataset remove background_200/Cacat/Cacat8.png')\n",
    "greyscale_image = image.convert('L')\n",
    "greyscale_image.save('C:/Users/Indriani T Sitorus/Pictures/Dataset remove background_200/Preprocessing/Cacat/Grayscale/Cacat8_grayscale.jpg')"
   ]
  },
  {
   "cell_type": "code",
   "execution_count": 10,
   "metadata": {},
   "outputs": [],
   "source": [
    "# convert image into grayscale\n",
    "image = Image.open('C:/Users/Indriani T Sitorus/Pictures/Dataset remove background_200/Cacat/Cacat9.png')\n",
    "greyscale_image = image.convert('L')\n",
    "greyscale_image.save('C:/Users/Indriani T Sitorus/Pictures/Dataset remove background_200/Preprocessing/Cacat/Grayscale/Cacat9_grayscale.jpg')"
   ]
  },
  {
   "cell_type": "code",
   "execution_count": 11,
   "metadata": {},
   "outputs": [],
   "source": [
    "# convert image into grayscale\n",
    "image = Image.open('C:/Users/Indriani T Sitorus/Pictures/Dataset remove background_200/Cacat/Cacat10.png')\n",
    "greyscale_image = image.convert('L')\n",
    "greyscale_image.save('C:/Users/Indriani T Sitorus/Pictures/Dataset remove background_200/Preprocessing/Cacat/Grayscale/Cacat10_grayscale.jpg')"
   ]
  },
  {
   "cell_type": "code",
   "execution_count": 12,
   "metadata": {},
   "outputs": [],
   "source": [
    "# convert image into grayscale\n",
    "image = Image.open('C:/Users/Indriani T Sitorus/Pictures/Dataset remove background_200/Cacat/Cacat11.png')\n",
    "greyscale_image = image.convert('L')\n",
    "greyscale_image.save('C:/Users/Indriani T Sitorus/Pictures/Dataset remove background_200/Preprocessing/Cacat/Grayscale/Cacat11_grayscale.jpg')"
   ]
  },
  {
   "cell_type": "code",
   "execution_count": 13,
   "metadata": {},
   "outputs": [],
   "source": [
    "# convert image into grayscale\n",
    "image = Image.open('C:/Users/Indriani T Sitorus/Pictures/Dataset remove background_200/Cacat/Cacat12.png')\n",
    "greyscale_image = image.convert('L')\n",
    "greyscale_image.save('C:/Users/Indriani T Sitorus/Pictures/Dataset remove background_200/Preprocessing/Cacat/Grayscale/Cacat12_grayscale.jpg')"
   ]
  },
  {
   "cell_type": "code",
   "execution_count": 14,
   "metadata": {},
   "outputs": [],
   "source": [
    "# convert image into grayscale\n",
    "image = Image.open('C:/Users/Indriani T Sitorus/Pictures/Dataset remove background_200/Cacat/Cacat13.png')\n",
    "greyscale_image = image.convert('L')\n",
    "greyscale_image.save('C:/Users/Indriani T Sitorus/Pictures/Dataset remove background_200/Preprocessing/Cacat/Grayscale/Cacat13_grayscale.jpg')"
   ]
  },
  {
   "cell_type": "code",
   "execution_count": 15,
   "metadata": {},
   "outputs": [],
   "source": [
    "# convert image into grayscale\n",
    "image = Image.open('C:/Users/Indriani T Sitorus/Pictures/Dataset remove background_200/Cacat/Cacat14.png')\n",
    "greyscale_image = image.convert('L')\n",
    "greyscale_image.save('C:/Users/Indriani T Sitorus/Pictures/Dataset remove background_200/Preprocessing/Cacat/Grayscale/Cacat14_grayscale.jpg')"
   ]
  },
  {
   "cell_type": "code",
   "execution_count": 16,
   "metadata": {},
   "outputs": [],
   "source": [
    "# convert image into grayscale\n",
    "image = Image.open('C:/Users/Indriani T Sitorus/Pictures/Dataset remove background_200/Cacat/Cacat15.png')\n",
    "greyscale_image = image.convert('L')\n",
    "greyscale_image.save('C:/Users/Indriani T Sitorus/Pictures/Dataset remove background_200/Preprocessing/Cacat/Grayscale/Cacat15_grayscale.jpg')"
   ]
  },
  {
   "cell_type": "code",
   "execution_count": 17,
   "metadata": {},
   "outputs": [],
   "source": [
    "# convert image into grayscale\n",
    "image = Image.open('C:/Users/Indriani T Sitorus/Pictures/Dataset remove background_200/Cacat/Cacat16.png')\n",
    "greyscale_image = image.convert('L')\n",
    "greyscale_image.save('C:/Users/Indriani T Sitorus/Pictures/Dataset remove background_200/Preprocessing/Cacat/Grayscale/Cacat16_grayscale.jpg')"
   ]
  },
  {
   "cell_type": "code",
   "execution_count": 18,
   "metadata": {},
   "outputs": [],
   "source": [
    "# convert image into grayscale\n",
    "image = Image.open('C:/Users/Indriani T Sitorus/Pictures/Dataset remove background_200/Cacat/Cacat17.png')\n",
    "greyscale_image = image.convert('L')\n",
    "greyscale_image.save('C:/Users/Indriani T Sitorus/Pictures/Dataset remove background_200/Preprocessing/Cacat/Grayscale/Cacat17_grayscale.jpg')"
   ]
  },
  {
   "cell_type": "code",
   "execution_count": 19,
   "metadata": {},
   "outputs": [],
   "source": [
    "# convert image into grayscale\n",
    "image = Image.open('C:/Users/Indriani T Sitorus/Pictures/Dataset remove background_200/Cacat/Cacat18.png')\n",
    "greyscale_image = image.convert('L')\n",
    "greyscale_image.save('C:/Users/Indriani T Sitorus/Pictures/Dataset remove background_200/Preprocessing/Cacat/Grayscale/Cacat18_grayscale.jpg')"
   ]
  },
  {
   "cell_type": "code",
   "execution_count": 20,
   "metadata": {},
   "outputs": [],
   "source": [
    "# convert image into grayscale\n",
    "image = Image.open('C:/Users/Indriani T Sitorus/Pictures/Dataset remove background_200/Cacat/Cacat19.png')\n",
    "greyscale_image = image.convert('L')\n",
    "greyscale_image.save('C:/Users/Indriani T Sitorus/Pictures/Dataset remove background_200/Preprocessing/Cacat/Grayscale/Cacat19_grayscale.jpg')"
   ]
  },
  {
   "cell_type": "code",
   "execution_count": 21,
   "metadata": {},
   "outputs": [],
   "source": [
    "# convert image into grayscale\n",
    "image = Image.open('C:/Users/Indriani T Sitorus/Pictures/Dataset remove background_200/Cacat/Cacat20.png')\n",
    "greyscale_image = image.convert('L')\n",
    "greyscale_image.save('C:/Users/Indriani T Sitorus/Pictures/Dataset remove background_200/Preprocessing/Cacat/Grayscale/Cacat20_grayscale.jpg')"
   ]
  },
  {
   "cell_type": "code",
   "execution_count": 22,
   "metadata": {},
   "outputs": [],
   "source": [
    "# convert image into grayscale\n",
    "image = Image.open('C:/Users/Indriani T Sitorus/Pictures/Dataset remove background_200/Cacat/Cacat21.png')\n",
    "greyscale_image = image.convert('L')\n",
    "greyscale_image.save('C:/Users/Indriani T Sitorus/Pictures/Dataset remove background_200/Preprocessing/Cacat/Grayscale/Cacat21_grayscale.jpg')"
   ]
  },
  {
   "cell_type": "code",
   "execution_count": 23,
   "metadata": {},
   "outputs": [],
   "source": [
    "# convert image into grayscale\n",
    "image = Image.open('C:/Users/Indriani T Sitorus/Pictures/Dataset remove background_200/Cacat/Cacat22.png')\n",
    "greyscale_image = image.convert('L')\n",
    "greyscale_image.save('C:/Users/Indriani T Sitorus/Pictures/Dataset remove background_200/Preprocessing/Cacat/Grayscale/Cacat22_grayscale.jpg')"
   ]
  },
  {
   "cell_type": "code",
   "execution_count": 24,
   "metadata": {},
   "outputs": [],
   "source": [
    "# convert image into grayscale\n",
    "image = Image.open('C:/Users/Indriani T Sitorus/Pictures/Dataset remove background_200/Cacat/Cacat23.png')\n",
    "greyscale_image = image.convert('L')\n",
    "greyscale_image.save('C:/Users/Indriani T Sitorus/Pictures/Dataset remove background_200/Preprocessing/Cacat/Grayscale/Cacat23_grayscale.jpg')"
   ]
  },
  {
   "cell_type": "code",
   "execution_count": 25,
   "metadata": {},
   "outputs": [],
   "source": [
    "# convert image into grayscale\n",
    "image = Image.open('C:/Users/Indriani T Sitorus/Pictures/Dataset remove background_200/Cacat/Cacat24.png')\n",
    "greyscale_image = image.convert('L')\n",
    "greyscale_image.save('C:/Users/Indriani T Sitorus/Pictures/Dataset remove background_200/Preprocessing/Cacat/Grayscale/Cacat24_grayscale.jpg')"
   ]
  },
  {
   "cell_type": "code",
   "execution_count": 26,
   "metadata": {},
   "outputs": [],
   "source": [
    "# convert image into grayscale\n",
    "image = Image.open('C:/Users/Indriani T Sitorus/Pictures/Dataset remove background_200/Cacat/Cacat25.png')\n",
    "greyscale_image = image.convert('L')\n",
    "greyscale_image.save('C:/Users/Indriani T Sitorus/Pictures/Dataset remove background_200/Preprocessing/Cacat/Grayscale/Cacat25_grayscale.jpg')"
   ]
  },
  {
   "cell_type": "code",
   "execution_count": 27,
   "metadata": {},
   "outputs": [],
   "source": [
    "# convert image into grayscale\n",
    "image = Image.open('C:/Users/Indriani T Sitorus/Pictures/Dataset remove background_200/Cacat/Cacat26.png')\n",
    "greyscale_image = image.convert('L')\n",
    "greyscale_image.save('C:/Users/Indriani T Sitorus/Pictures/Dataset remove background_200/Preprocessing/Cacat/Grayscale/Cacat26_grayscale.jpg')"
   ]
  },
  {
   "cell_type": "code",
   "execution_count": 28,
   "metadata": {},
   "outputs": [],
   "source": [
    "# convert image into grayscale\n",
    "image = Image.open('C:/Users/Indriani T Sitorus/Pictures/Dataset remove background_200/Cacat/Cacat27.png')\n",
    "greyscale_image = image.convert('L')\n",
    "greyscale_image.save('C:/Users/Indriani T Sitorus/Pictures/Dataset remove background_200/Preprocessing/Cacat/Grayscale/Cacat27_grayscale.jpg')"
   ]
  },
  {
   "cell_type": "code",
   "execution_count": 29,
   "metadata": {},
   "outputs": [],
   "source": [
    "# convert image into grayscale\n",
    "image = Image.open('C:/Users/Indriani T Sitorus/Pictures/Dataset remove background_200/Cacat/Cacat28.png')\n",
    "greyscale_image = image.convert('L')\n",
    "greyscale_image.save('C:/Users/Indriani T Sitorus/Pictures/Dataset remove background_200/Preprocessing/Cacat/Grayscale/Cacat28_grayscale.jpg')"
   ]
  },
  {
   "cell_type": "code",
   "execution_count": 30,
   "metadata": {},
   "outputs": [],
   "source": [
    "# convert image into grayscale\n",
    "image = Image.open('C:/Users/Indriani T Sitorus/Pictures/Dataset remove background_200/Cacat/Cacat29.png')\n",
    "greyscale_image = image.convert('L')\n",
    "greyscale_image.save('C:/Users/Indriani T Sitorus/Pictures/Dataset remove background_200/Preprocessing/Cacat/Grayscale/Cacat29_grayscale.jpg')"
   ]
  },
  {
   "cell_type": "code",
   "execution_count": 31,
   "metadata": {},
   "outputs": [],
   "source": [
    "# convert image into grayscale\n",
    "image = Image.open('C:/Users/Indriani T Sitorus/Pictures/Dataset remove background_200/Cacat/Cacat30.png')\n",
    "greyscale_image = image.convert('L')\n",
    "greyscale_image.save('C:/Users/Indriani T Sitorus/Pictures/Dataset remove background_200/Preprocessing/Cacat/Grayscale/Cacat30_grayscale.jpg')"
   ]
  },
  {
   "cell_type": "code",
   "execution_count": 32,
   "metadata": {},
   "outputs": [],
   "source": [
    "# convert image into grayscale\n",
    "image = Image.open('C:/Users/Indriani T Sitorus/Pictures/Dataset remove background_200/Cacat/Cacat31.png')\n",
    "greyscale_image = image.convert('L')\n",
    "greyscale_image.save('C:/Users/Indriani T Sitorus/Pictures/Dataset remove background_200/Preprocessing/Cacat/Grayscale/Cacat31_grayscale.jpg')"
   ]
  },
  {
   "cell_type": "code",
   "execution_count": 33,
   "metadata": {},
   "outputs": [],
   "source": [
    "# convert image into grayscale\n",
    "image = Image.open('C:/Users/Indriani T Sitorus/Pictures/Dataset remove background_200/Cacat/Cacat32.png')\n",
    "greyscale_image = image.convert('L')\n",
    "greyscale_image.save('C:/Users/Indriani T Sitorus/Pictures/Dataset remove background_200/Preprocessing/Cacat/Grayscale/Cacat32_grayscale.jpg')"
   ]
  },
  {
   "cell_type": "code",
   "execution_count": 34,
   "metadata": {},
   "outputs": [],
   "source": [
    "# convert image into grayscale\n",
    "image = Image.open('C:/Users/Indriani T Sitorus/Pictures/Dataset remove background_200/Cacat/Cacat33.png')\n",
    "greyscale_image = image.convert('L')\n",
    "greyscale_image.save('C:/Users/Indriani T Sitorus/Pictures/Dataset remove background_200/Preprocessing/Cacat/Grayscale/Cacat33_grayscale.jpg')"
   ]
  },
  {
   "cell_type": "code",
   "execution_count": 35,
   "metadata": {},
   "outputs": [],
   "source": [
    "# convert image into grayscale\n",
    "image = Image.open('C:/Users/Indriani T Sitorus/Pictures/Dataset remove background_200/Cacat/Cacat34.png')\n",
    "greyscale_image = image.convert('L')\n",
    "greyscale_image.save('C:/Users/Indriani T Sitorus/Pictures/Dataset remove background_200/Preprocessing/Cacat/Grayscale/Cacat34_grayscale.jpg')"
   ]
  },
  {
   "cell_type": "code",
   "execution_count": 36,
   "metadata": {},
   "outputs": [],
   "source": [
    "# convert image into grayscale\n",
    "image = Image.open('C:/Users/Indriani T Sitorus/Pictures/Dataset remove background_200/Cacat/Cacat35.png')\n",
    "greyscale_image = image.convert('L')\n",
    "greyscale_image.save('C:/Users/Indriani T Sitorus/Pictures/Dataset remove background_200/Preprocessing/Cacat/Grayscale/Cacat35_grayscale.jpg')"
   ]
  },
  {
   "cell_type": "code",
   "execution_count": 37,
   "metadata": {},
   "outputs": [],
   "source": [
    "# convert image into grayscale\n",
    "image = Image.open('C:/Users/Indriani T Sitorus/Pictures/Dataset remove background_200/Cacat/Cacat36.png')\n",
    "greyscale_image = image.convert('L')\n",
    "greyscale_image.save('C:/Users/Indriani T Sitorus/Pictures/Dataset remove background_200/Preprocessing/Cacat/Grayscale/Cacat36_grayscale.jpg')"
   ]
  },
  {
   "cell_type": "code",
   "execution_count": 38,
   "metadata": {},
   "outputs": [],
   "source": [
    "# convert image into grayscale\n",
    "image = Image.open('C:/Users/Indriani T Sitorus/Pictures/Dataset remove background_200/Cacat/Cacat37.png')\n",
    "greyscale_image = image.convert('L')\n",
    "greyscale_image.save('C:/Users/Indriani T Sitorus/Pictures/Dataset remove background_200/Preprocessing/Cacat/Grayscale/Cacat37_grayscale.jpg')"
   ]
  },
  {
   "cell_type": "code",
   "execution_count": 39,
   "metadata": {},
   "outputs": [
    {
     "ename": "SyntaxError",
     "evalue": "invalid syntax (<ipython-input-39-2d832960b415>, line 3)",
     "output_type": "error",
     "traceback": [
      "\u001b[1;36m  File \u001b[1;32m\"<ipython-input-39-2d832960b415>\"\u001b[1;36m, line \u001b[1;32m3\u001b[0m\n\u001b[1;33m    greyscale_image = image.convert('L')\u001b[0m\n\u001b[1;37m                  ^\u001b[0m\n\u001b[1;31mSyntaxError\u001b[0m\u001b[1;31m:\u001b[0m invalid syntax\n"
     ]
    }
   ],
   "source": [
    "# convert image into grayscale\n",
    "image = Image.open('C:/Users/Indriani T Sitorus/Pictures/Dataset remove background_200/Cacat/Cacat38.png'\n",
    "greyscale_image = image.convert('L')\n",
    "greyscale_image.save('C:/Users/Indriani T Sitorus/Pictures/Dataset remove background_200/Preprocessing/Cacat/Grayscale/Cacat38_grayscale.jpg')"
   ]
  },
  {
   "cell_type": "code",
   "execution_count": null,
   "metadata": {},
   "outputs": [],
   "source": [
    "# convert image into grayscale\n",
    "image = Image.open('C:/Users/Indriani T Sitorus/Pictures/Dataset remove background_200/Cacat/Cacat39.png')\n",
    "greyscale_image = image.convert('L')\n",
    "greyscale_image.save('C:/Users/Indriani T Sitorus/Pictures/Dataset remove background_200/Preprocessing/Cacat/Grayscale/Cacat39_grayscale.jpg')"
   ]
  },
  {
   "cell_type": "code",
   "execution_count": null,
   "metadata": {},
   "outputs": [],
   "source": [
    "# convert image into grayscale\n",
    "image = Image.open('C:/Users/Indriani T Sitorus/Pictures/Dataset remove background_200/Cacat/Cacat40.png')\n",
    "greyscale_image = image.convert('L')\n",
    "greyscale_image.save('C:/Users/Indriani T Sitorus/Pictures/Dataset remove background_200/Preprocessing/Cacat/Grayscale/Cacat40_grayscale.jpg')"
   ]
  },
  {
   "cell_type": "code",
   "execution_count": null,
   "metadata": {},
   "outputs": [],
   "source": [
    "# convert image into grayscale\n",
    "image = Image.open('C:/Users/Indriani T Sitorus/Pictures/Dataset remove background_200/Cacat/Cacat41.png')\n",
    "greyscale_image = image.convert('L')\n",
    "greyscale_image.save('C:/Users/Indriani T Sitorus/Pictures/Dataset remove background_200/Preprocessing/Cacat/Grayscale/Cacat41_grayscale.jpg')"
   ]
  },
  {
   "cell_type": "code",
   "execution_count": null,
   "metadata": {},
   "outputs": [],
   "source": [
    "# convert image into grayscale\n",
    "image = Image.open('C:/Users/Indriani T Sitorus/Pictures/Dataset remove background_200/Cacat/Cacat42.png')\n",
    "greyscale_image = image.convert('L')\n",
    "greyscale_image.save('C:/Users/Indriani T Sitorus/Pictures/Dataset remove background_200/Preprocessing/Cacat/Grayscale/Cacat42_grayscale.jpg')"
   ]
  },
  {
   "cell_type": "code",
   "execution_count": null,
   "metadata": {},
   "outputs": [],
   "source": [
    "# convert image into grayscale\n",
    "image = Image.open('C:/Users/Indriani T Sitorus/Pictures/Dataset remove background_200/Cacat/Cacat43.png')\n",
    "greyscale_image = image.convert('L')\n",
    "greyscale_image.save('C:/Users/Indriani T Sitorus/Pictures/Dataset remove background_200/Preprocessing/Cacat/Grayscale/Cacat43_grayscale.jpg')"
   ]
  },
  {
   "cell_type": "code",
   "execution_count": null,
   "metadata": {},
   "outputs": [],
   "source": [
    "# convert image into grayscale\n",
    "image = Image.open('C:/Users/Indriani T Sitorus/Pictures/Dataset remove background_200/Cacat/Cacat44.png')\n",
    "greyscale_image = image.convert('L')\n",
    "greyscale_image.save('C:/Users/Indriani T Sitorus/Pictures/Dataset remove background_200/Preprocessing/Cacat/Grayscale/Cacat44_grayscale.jpg')"
   ]
  },
  {
   "cell_type": "code",
   "execution_count": null,
   "metadata": {},
   "outputs": [],
   "source": [
    "# convert image into grayscale\n",
    "image = Image.open('C:/Users/Indriani T Sitorus/Pictures/Dataset remove background_200/Cacat/Cacat45.png')\n",
    "greyscale_image = image.convert('L')\n",
    "greyscale_image.save('C:/Users/Indriani T Sitorus/Pictures/Dataset remove background_200/Preprocessing/Cacat/Grayscale/Cacat45_grayscale.jpg')"
   ]
  },
  {
   "cell_type": "code",
   "execution_count": null,
   "metadata": {},
   "outputs": [],
   "source": [
    "# convert image into grayscale\n",
    "image = Image.open('C:/Users/Indriani T Sitorus/Pictures/Dataset remove background_200/Cacat/Cacat46.png')\n",
    "greyscale_image = image.convert('L')\n",
    "greyscale_image.save('C:/Users/Indriani T Sitorus/Pictures/Dataset remove background_200/Preprocessing/Cacat/Grayscale/Cacat46_grayscale.jpg')"
   ]
  },
  {
   "cell_type": "code",
   "execution_count": null,
   "metadata": {},
   "outputs": [],
   "source": [
    "# convert image into grayscale\n",
    "image = Image.open('C:/Users/Indriani T Sitorus/Pictures/Dataset remove background_200/Cacat/Cacat47.png')\n",
    "greyscale_image = image.convert('L')\n",
    "greyscale_image.save('C:/Users/Indriani T Sitorus/Pictures/Dataset remove background_200/Preprocessing/Cacat/Grayscale/Cacat47_grayscale.jpg')"
   ]
  },
  {
   "cell_type": "code",
   "execution_count": null,
   "metadata": {},
   "outputs": [],
   "source": [
    "# convert image into grayscale\n",
    "image = Image.open('C:/Users/Indriani T Sitorus/Pictures/Dataset remove background_200/Cacat/Cacat48.png')\n",
    "greyscale_image = image.convert('L')\n",
    "greyscale_image.save('C:/Users/Indriani T Sitorus/Pictures/Dataset remove background_200/Preprocessing/Cacat/Grayscale/Cacat48_grayscale.jpg')"
   ]
  },
  {
   "cell_type": "code",
   "execution_count": null,
   "metadata": {},
   "outputs": [],
   "source": [
    "# convert image into grayscale\n",
    "image = Image.open('C:/Users/Indriani T Sitorus/Pictures/Dataset remove background_200/Cacat/Cacat49.png')\n",
    "greyscale_image = image.convert('L')\n",
    "greyscale_image.save('C:/Users/Indriani T Sitorus/Pictures/Dataset remove background_200/Preprocessing/Cacat/Grayscale/Cacat49_grayscale.jpg')"
   ]
  },
  {
   "cell_type": "code",
   "execution_count": null,
   "metadata": {},
   "outputs": [],
   "source": [
    "# convert image into grayscale\n",
    "image = Image.open('C:/Users/Indriani T Sitorus/Pictures/Dataset remove background_200/Cacat/Cacat50.png')\n",
    "greyscale_image = image.convert('L')\n",
    "greyscale_image.save('C:/Users/Indriani T Sitorus/Pictures/Dataset remove background_200/Preprocessing/Cacat/Grayscale/Cacat50_grayscale.jpg')"
   ]
  },
  {
   "cell_type": "code",
   "execution_count": null,
   "metadata": {},
   "outputs": [],
   "source": [
    "# convert image into grayscale\n",
    "image = Image.open('C:/Users/Indriani T Sitorus/Pictures/Dataset remove background_200/Cacat/Cacat51.png')\n",
    "greyscale_image = image.convert('L')\n",
    "greyscale_image.save('C:/Users/Indriani T Sitorus/Pictures/Dataset remove background_200/Preprocessing/Cacat/Grayscale/Cacat51_grayscale.jpg')"
   ]
  },
  {
   "cell_type": "code",
   "execution_count": null,
   "metadata": {},
   "outputs": [],
   "source": [
    "# convert image into grayscale\n",
    "image = Image.open('C:/Users/Indriani T Sitorus/Pictures/Dataset remove background_200/Cacat/Cacat52.png')\n",
    "greyscale_image = image.convert('L')\n",
    "greyscale_image.save('C:/Users/Indriani T Sitorus/Pictures/Dataset remove background_200/Preprocessing/Cacat/Grayscale/Cacat52_grayscale.jpg')"
   ]
  },
  {
   "cell_type": "code",
   "execution_count": null,
   "metadata": {},
   "outputs": [],
   "source": [
    "# convert image into grayscale\n",
    "image = Image.open('C:/Users/Indriani T Sitorus/Pictures/Dataset remove background_200/Cacat/Cacat53.png')\n",
    "greyscale_image = image.convert('L')\n",
    "greyscale_image.save('C:/Users/Indriani T Sitorus/Pictures/Dataset remove background_200/Preprocessing/Cacat/Grayscale/Cacat53_grayscale.jpg')"
   ]
  },
  {
   "cell_type": "code",
   "execution_count": null,
   "metadata": {},
   "outputs": [],
   "source": [
    "# convert image into grayscale\n",
    "image = Image.open('C:/Users/Indriani T Sitorus/Pictures/Dataset remove background_200/Cacat/Cacat54.png')\n",
    "greyscale_image = image.convert('L')\n",
    "greyscale_image.save('C:/Users/Indriani T Sitorus/Pictures/Dataset remove background_200/Preprocessing/Cacat/Grayscale/Cacat54_grayscale.jpg')"
   ]
  },
  {
   "cell_type": "code",
   "execution_count": null,
   "metadata": {},
   "outputs": [],
   "source": [
    "# convert image into grayscale\n",
    "image = Image.open('C:/Users/Indriani T Sitorus/Pictures/Dataset remove background_200/Cacat/Cacat55.png')\n",
    "greyscale_image = image.convert('L')\n",
    "greyscale_image.save('C:/Users/Indriani T Sitorus/Pictures/Dataset remove background_200/Preprocessing/Cacat/Grayscale/Cacat55_grayscale.jpg')"
   ]
  },
  {
   "cell_type": "code",
   "execution_count": null,
   "metadata": {},
   "outputs": [],
   "source": [
    "# convert image into grayscale\n",
    "image = Image.open('C:/Users/Indriani T Sitorus/Pictures/Dataset remove background_200/Cacat/Cacat56.png')\n",
    "greyscale_image = image.convert('L')\n",
    "greyscale_image.save('C:/Users/Indriani T Sitorus/Pictures/Dataset remove background_200/Preprocessing/Cacat/Grayscale/Cacat56_grayscale.jpg')"
   ]
  },
  {
   "cell_type": "code",
   "execution_count": null,
   "metadata": {},
   "outputs": [],
   "source": [
    "# convert image into grayscale\n",
    "image = Image.open('C:/Users/Indriani T Sitorus/Pictures/Dataset remove background_200/Cacat/Cacat57.png')\n",
    "greyscale_image = image.convert('L')\n",
    "greyscale_image.save('C:/Users/Indriani T Sitorus/Pictures/Dataset remove background_200/Preprocessing/Cacat/Grayscale/Cacat57_grayscale.jpg')"
   ]
  },
  {
   "cell_type": "code",
   "execution_count": null,
   "metadata": {},
   "outputs": [],
   "source": [
    "# convert image into grayscale\n",
    "image = Image.open('C:/Users/Indriani T Sitorus/Pictures/Dataset remove background_200/Cacat/Cacat58.png')\n",
    "greyscale_image = image.convert('L')\n",
    "greyscale_image.save('C:/Users/Indriani T Sitorus/Pictures/Dataset remove background_200/Preprocessing/Cacat/Grayscale/Cacat58_grayscale.jpg')"
   ]
  },
  {
   "cell_type": "code",
   "execution_count": null,
   "metadata": {},
   "outputs": [],
   "source": [
    "# convert image into grayscale\n",
    "image = Image.open('C:/Users/Indriani T Sitorus/Pictures/Dataset remove background_200/Cacat/Cacat59.png')\n",
    "greyscale_image = image.convert('L')\n",
    "greyscale_image.save('C:/Users/Indriani T Sitorus/Pictures/Dataset remove background_200/Preprocessing/Cacat/Grayscale/Cacat59_grayscale.jpg')"
   ]
  },
  {
   "cell_type": "code",
   "execution_count": null,
   "metadata": {},
   "outputs": [],
   "source": [
    "# convert image into grayscale\n",
    "image = Image.open('C:/Users/Indriani T Sitorus/Pictures/Dataset remove background_200/Cacat/Cacat60.png')\n",
    "greyscale_image = image.convert('L')\n",
    "greyscale_image.save('C:/Users/Indriani T Sitorus/Pictures/Dataset remove background_200/Preprocessing/Cacat/Grayscale/Cacat60_grayscale.jpg')"
   ]
  },
  {
   "cell_type": "code",
   "execution_count": null,
   "metadata": {},
   "outputs": [],
   "source": [
    "# convert image into grayscale\n",
    "image = Image.open('C:/Users/Indriani T Sitorus/Pictures/Dataset remove background_200/Cacat/Cacat61.png')\n",
    "greyscale_image = image.convert('L')\n",
    "greyscale_image.save('C:/Users/Indriani T Sitorus/Pictures/Dataset remove background_200/Preprocessing/Cacat/Grayscale/Cacat61_grayscale.jpg')"
   ]
  },
  {
   "cell_type": "code",
   "execution_count": null,
   "metadata": {},
   "outputs": [],
   "source": [
    "# convert image into grayscale\n",
    "image = Image.open('C:/Users/Indriani T Sitorus/Pictures/Dataset remove background_200/Cacat/Cacat62.png')\n",
    "greyscale_image = image.convert('L')\n",
    "greyscale_image.save('C:/Users/Indriani T Sitorus/Pictures/Dataset remove background_200/Preprocessing/Cacat/Grayscale/Cacat62_grayscale.jpg')"
   ]
  },
  {
   "cell_type": "code",
   "execution_count": null,
   "metadata": {},
   "outputs": [],
   "source": [
    "# convert image into grayscale\n",
    "image = Image.open('C:/Users/Indriani T Sitorus/Pictures/Dataset remove background_200/Cacat/Cacat63.png')\n",
    "greyscale_image = image.convert('L')\n",
    "greyscale_image.save('C:/Users/Indriani T Sitorus/Pictures/Dataset remove background_200/Preprocessing/Cacat/Grayscale/Cacat63_grayscale.jpg')"
   ]
  },
  {
   "cell_type": "code",
   "execution_count": null,
   "metadata": {},
   "outputs": [],
   "source": [
    "# convert image into grayscale\n",
    "image = Image.open('C:/Users/Indriani T Sitorus/Pictures/Dataset remove background_200/Cacat/Cacat64.png')\n",
    "greyscale_image = image.convert('L')\n",
    "greyscale_image.save('C:/Users/Indriani T Sitorus/Pictures/Dataset remove background_200/Preprocessing/Cacat/Grayscale/Cacat64_grayscale.jpg')"
   ]
  },
  {
   "cell_type": "code",
   "execution_count": null,
   "metadata": {},
   "outputs": [],
   "source": [
    "# convert image into grayscale\n",
    "image = Image.open('C:/Users/Indriani T Sitorus/Pictures/Dataset remove background_200/Cacat/Cacat65.png')\n",
    "greyscale_image = image.convert('L')\n",
    "greyscale_image.save('C:/Users/Indriani T Sitorus/Pictures/Dataset remove background_200/Preprocessing/Cacat/Grayscale/Cacat65_grayscale.jpg')"
   ]
  },
  {
   "cell_type": "code",
   "execution_count": null,
   "metadata": {},
   "outputs": [],
   "source": [
    "# convert image into grayscale\n",
    "image = Image.open('C:/Users/Indriani T Sitorus/Pictures/Dataset remove background_200/Cacat/Cacat66.png')\n",
    "greyscale_image = image.convert('L')\n",
    "greyscale_image.save('C:/Users/Indriani T Sitorus/Pictures/Dataset remove background_200/Preprocessing/Cacat/Grayscale/Cacat66_grayscale.jpg')"
   ]
  },
  {
   "cell_type": "code",
   "execution_count": null,
   "metadata": {},
   "outputs": [],
   "source": [
    "# convert image into grayscale\n",
    "image = Image.open('C:/Users/Indriani T Sitorus/Pictures/Dataset remove background_200/Cacat/Cacat67.png')\n",
    "greyscale_image = image.convert('L')\n",
    "greyscale_image.save('C:/Users/Indriani T Sitorus/Pictures/Dataset remove background_200/Preprocessing/Cacat/Grayscale/Cacat67_grayscale.jpg')"
   ]
  },
  {
   "cell_type": "code",
   "execution_count": null,
   "metadata": {},
   "outputs": [],
   "source": [
    "# convert image into grayscale\n",
    "image = Image.open('C:/Users/Indriani T Sitorus/Pictures/Dataset remove background_200/Cacat/Cacat68.png')\n",
    "greyscale_image = image.convert('L')\n",
    "greyscale_image.save('C:/Users/Indriani T Sitorus/Pictures/Dataset remove background_200/Preprocessing/Cacat/Grayscale/Cacat68_grayscale.jpg')"
   ]
  },
  {
   "cell_type": "code",
   "execution_count": null,
   "metadata": {},
   "outputs": [],
   "source": [
    "# convert image into grayscale\n",
    "image = Image.open('C:/Users/Indriani T Sitorus/Pictures/Dataset remove background_200/Cacat/Cacat69.png')\n",
    "greyscale_image = image.convert('L')\n",
    "greyscale_image.save('C:/Users/Indriani T Sitorus/Pictures/Dataset remove background_200/Preprocessing/Cacat/Grayscale/Cacat69_grayscale.jpg')"
   ]
  },
  {
   "cell_type": "code",
   "execution_count": null,
   "metadata": {},
   "outputs": [],
   "source": [
    "# convert image into grayscale\n",
    "image = Image.open('C:/Users/Indriani T Sitorus/Pictures/Dataset remove background_200/Cacat/Cacat70.png')\n",
    "greyscale_image = image.convert('L')\n",
    "greyscale_image.save('C:/Users/Indriani T Sitorus/Pictures/Dataset remove background_200/Preprocessing/Cacat/Grayscale/Cacat70_grayscale.jpg')"
   ]
  },
  {
   "cell_type": "code",
   "execution_count": null,
   "metadata": {},
   "outputs": [],
   "source": [
    "# convert image into grayscale\n",
    "image = Image.open('C:/Users/Indriani T Sitorus/Pictures/Dataset remove background_200/Cacat/Cacat71.png')\n",
    "greyscale_image = image.convert('L')\n",
    "greyscale_image.save('C:/Users/Indriani T Sitorus/Pictures/Dataset remove background_200/Preprocessing/Cacat/Grayscale/Cacat71_grayscale.jpg')"
   ]
  },
  {
   "cell_type": "code",
   "execution_count": null,
   "metadata": {},
   "outputs": [],
   "source": [
    "# convert image into grayscale\n",
    "image = Image.open('C:/Users/Indriani T Sitorus/Pictures/Dataset remove background_200/Cacat/Cacat72.png')\n",
    "greyscale_image = image.convert('L')\n",
    "greyscale_image.save('C:/Users/Indriani T Sitorus/Pictures/Dataset remove background_200/Preprocessing/Cacat/Grayscale/Cacat72_grayscale.jpg')"
   ]
  },
  {
   "cell_type": "code",
   "execution_count": null,
   "metadata": {},
   "outputs": [],
   "source": [
    "# convert image into grayscale\n",
    "image = Image.open('C:/Users/Indriani T Sitorus/Pictures/Dataset remove background_200/Cacat/Cacat73.png')\n",
    "greyscale_image = image.convert('L')\n",
    "greyscale_image.save('C:/Users/Indriani T Sitorus/Pictures/Dataset remove background_200/Preprocessing/Cacat/Grayscale/Cacat73_grayscale.jpg')"
   ]
  },
  {
   "cell_type": "code",
   "execution_count": null,
   "metadata": {},
   "outputs": [],
   "source": [
    "# convert image into grayscale\n",
    "image = Image.open('C:/Users/Indriani T Sitorus/Pictures/Dataset remove background_200/Cacat/Cacat74.png')\n",
    "greyscale_image = image.convert('L')\n",
    "greyscale_image.save('C:/Users/Indriani T Sitorus/Pictures/Dataset remove background_200/Preprocessing/Cacat/Grayscale/Cacat74_grayscale.jpg')"
   ]
  },
  {
   "cell_type": "code",
   "execution_count": null,
   "metadata": {},
   "outputs": [],
   "source": [
    "# convert image into grayscale\n",
    "image = Image.open('C:/Users/Indriani T Sitorus/Pictures/Dataset remove background_200/Cacat/Cacat75.png')\n",
    "greyscale_image = image.convert('L')\n",
    "greyscale_image.save('C:/Users/Indriani T Sitorus/Pictures/Dataset remove background_200/Preprocessing/Cacat/Grayscale/Cacat75_grayscale.jpg')"
   ]
  },
  {
   "cell_type": "code",
   "execution_count": null,
   "metadata": {},
   "outputs": [],
   "source": [
    "# convert image into grayscale\n",
    "image = Image.open('C:/Users/Indriani T Sitorus/Pictures/Dataset remove background_200/Cacat/Cacat76.png')\n",
    "greyscale_image = image.convert('L')\n",
    "greyscale_image.save('C:/Users/Indriani T Sitorus/Pictures/Dataset remove background_200/Preprocessing/Cacat/Grayscale/Cacat76_grayscale.jpg')"
   ]
  },
  {
   "cell_type": "code",
   "execution_count": null,
   "metadata": {},
   "outputs": [],
   "source": [
    "# convert image into grayscale\n",
    "image = Image.open('C:/Users/Indriani T Sitorus/Pictures/Dataset remove background_200/Cacat/Cacat77.png')\n",
    "greyscale_image = image.convert('L')\n",
    "greyscale_image.save('C:/Users/Indriani T Sitorus/Pictures/Dataset remove background_200/Preprocessing/Cacat/Grayscale/Cacat77_grayscale.jpg')"
   ]
  },
  {
   "cell_type": "code",
   "execution_count": null,
   "metadata": {},
   "outputs": [],
   "source": [
    "# convert image into grayscale\n",
    "image = Image.open('C:/Users/Indriani T Sitorus/Pictures/Dataset remove background_200/Cacat/Cacat78.png')\n",
    "greyscale_image = image.convert('L')\n",
    "greyscale_image.save('C:/Users/Indriani T Sitorus/Pictures/Dataset remove background_200/Preprocessing/Cacat/Grayscale/Cacat78_grayscale.jpg')"
   ]
  },
  {
   "cell_type": "code",
   "execution_count": null,
   "metadata": {},
   "outputs": [],
   "source": [
    "# convert image into grayscale\n",
    "image = Image.open('C:/Users/Indriani T Sitorus/Pictures/Dataset remove background_200/Cacat/Cacat79.png')\n",
    "greyscale_image = image.convert('L')\n",
    "greyscale_image.save('C:/Users/Indriani T Sitorus/Pictures/Dataset remove background_200/Preprocessing/Cacat/Grayscale/Cacat79_grayscale.jpg')"
   ]
  },
  {
   "cell_type": "code",
   "execution_count": null,
   "metadata": {},
   "outputs": [],
   "source": [
    "# convert image into grayscale\n",
    "image = Image.open('C:/Users/Indriani T Sitorus/Pictures/Dataset remove background_200/Cacat/Cacat80.png')\n",
    "greyscale_image = image.convert('L')\n",
    "greyscale_image.save('C:/Users/Indriani T Sitorus/Pictures/Dataset remove background_200/Preprocessing/Cacat/Grayscale/Cacat80_grayscale.jpg')"
   ]
  },
  {
   "cell_type": "code",
   "execution_count": null,
   "metadata": {},
   "outputs": [],
   "source": [
    "# convert image into grayscale\n",
    "image = Image.open('C:/Users/Indriani T Sitorus/Pictures/Dataset remove background_200/Cacat/Cacat81.png')\n",
    "greyscale_image = image.convert('L')\n",
    "greyscale_image.save('C:/Users/Indriani T Sitorus/Pictures/Dataset remove background_200/Preprocessing/Cacat/Grayscale/Cacat81_grayscale.jpg')"
   ]
  },
  {
   "cell_type": "code",
   "execution_count": null,
   "metadata": {},
   "outputs": [],
   "source": [
    "# convert image into grayscale\n",
    "image = Image.open('C:/Users/Indriani T Sitorus/Pictures/Dataset remove background_200/Cacat/Cacat82.png')\n",
    "greyscale_image = image.convert('L')\n",
    "greyscale_image.save('C:/Users/Indriani T Sitorus/Pictures/Dataset remove background_200/Preprocessing/Cacat/Grayscale/Cacat82_grayscale.jpg')"
   ]
  },
  {
   "cell_type": "code",
   "execution_count": null,
   "metadata": {},
   "outputs": [],
   "source": [
    "# convert image into grayscale\n",
    "image = Image.open('C:/Users/Indriani T Sitorus/Pictures/Dataset remove background_200/Cacat/Cacat83.png')\n",
    "greyscale_image = image.convert('L')\n",
    "greyscale_image.save('C:/Users/Indriani T Sitorus/Pictures/Dataset remove background_200/Preprocessing/Cacat/Grayscale/Cacat83_grayscale.jpg')"
   ]
  },
  {
   "cell_type": "code",
   "execution_count": null,
   "metadata": {},
   "outputs": [],
   "source": [
    "# convert image into grayscale\n",
    "image = Image.open('C:/Users/Indriani T Sitorus/Pictures/Dataset remove background_200/Cacat/Cacat84.png')\n",
    "greyscale_image = image.convert('L')\n",
    "greyscale_image.save('C:/Users/Indriani T Sitorus/Pictures/Dataset remove background_200/Preprocessing/Cacat/Grayscale/Cacat84_grayscale.jpg')"
   ]
  },
  {
   "cell_type": "code",
   "execution_count": null,
   "metadata": {},
   "outputs": [],
   "source": [
    "# convert image into grayscale\n",
    "image = Image.open('C:/Users/Indriani T Sitorus/Pictures/Dataset remove background_200/Cacat/Cacat85.png')\n",
    "greyscale_image = image.convert('L')\n",
    "greyscale_image.save('C:/Users/Indriani T Sitorus/Pictures/Dataset remove background_200/Preprocessing/Cacat/Grayscale/Cacat85_grayscale.jpg')"
   ]
  },
  {
   "cell_type": "code",
   "execution_count": null,
   "metadata": {},
   "outputs": [],
   "source": [
    "# convert image into grayscale\n",
    "image = Image.open('C:/Users/Indriani T Sitorus/Pictures/Dataset remove background_200/Cacat/Cacat86.png')\n",
    "greyscale_image = image.convert('L')\n",
    "greyscale_image.save('C:/Users/Indriani T Sitorus/Pictures/Dataset remove background_200/Preprocessing/Cacat/Grayscale/Cacat86_grayscale.jpg')"
   ]
  },
  {
   "cell_type": "code",
   "execution_count": null,
   "metadata": {},
   "outputs": [],
   "source": [
    "# convert image into grayscale\n",
    "image = Image.open('C:/Users/Indriani T Sitorus/Pictures/Dataset remove background_200/Cacat/Cacat87.png')\n",
    "greyscale_image = image.convert('L')\n",
    "greyscale_image.save('C:/Users/Indriani T Sitorus/Pictures/Dataset remove background_200/Preprocessing/Cacat/Grayscale/Cacat87_grayscale.jpg')"
   ]
  },
  {
   "cell_type": "code",
   "execution_count": null,
   "metadata": {},
   "outputs": [],
   "source": [
    "# convert image into grayscale\n",
    "image = Image.open('C:/Users/Indriani T Sitorus/Pictures/Dataset remove background_200/Cacat/Cacat88.png')\n",
    "greyscale_image = image.convert('L')\n",
    "greyscale_image.save('C:/Users/Indriani T Sitorus/Pictures/Dataset remove background_200/Preprocessing/Cacat/Grayscale/Cacat88_grayscale.jpg')"
   ]
  },
  {
   "cell_type": "code",
   "execution_count": null,
   "metadata": {},
   "outputs": [],
   "source": [
    "# convert image into grayscale\n",
    "image = Image.open('C:/Users/Indriani T Sitorus/Pictures/Dataset remove background_200/Cacat/Cacat89.png')\n",
    "greyscale_image = image.convert('L')\n",
    "greyscale_image.save('C:/Users/Indriani T Sitorus/Pictures/Dataset remove background_200/Preprocessing/Cacat/Grayscale/Cacat89_grayscale.jpg')"
   ]
  },
  {
   "cell_type": "code",
   "execution_count": null,
   "metadata": {},
   "outputs": [],
   "source": [
    "# convert image into grayscale\n",
    "image = Image.open('C:/Users/Indriani T Sitorus/Pictures/Dataset remove background_200/Cacat/Cacat90.png')\n",
    "greyscale_image = image.convert('L')\n",
    "greyscale_image.save('C:/Users/Indriani T Sitorus/Pictures/Dataset remove background_200/Preprocessing/Cacat/Grayscale/Cacat90_grayscale.jpg')"
   ]
  },
  {
   "cell_type": "code",
   "execution_count": null,
   "metadata": {},
   "outputs": [],
   "source": [
    "# convert image into grayscale\n",
    "image = Image.open('C:/Users/Indriani T Sitorus/Pictures/Dataset remove background_200/Cacat/Cacat91.png')\n",
    "greyscale_image = image.convert('L')\n",
    "greyscale_image.save('C:/Users/Indriani T Sitorus/Pictures/Dataset remove background_200/Preprocessing/Cacat/Grayscale/Cacat91_grayscale.jpg')"
   ]
  },
  {
   "cell_type": "code",
   "execution_count": null,
   "metadata": {},
   "outputs": [],
   "source": [
    "# convert image into grayscale\n",
    "image = Image.open('C:/Users/Indriani T Sitorus/Pictures/Dataset remove background_200/Cacat/Cacat92.png')\n",
    "greyscale_image = image.convert('L')\n",
    "greyscale_image.save('C:/Users/Indriani T Sitorus/Pictures/Dataset remove background_200/Preprocessing/Cacat/Grayscale/Cacat92_grayscale.jpg')"
   ]
  },
  {
   "cell_type": "code",
   "execution_count": null,
   "metadata": {},
   "outputs": [],
   "source": [
    "# convert image into grayscale\n",
    "image = Image.open('C:/Users/Indriani T Sitorus/Pictures/Dataset remove background_200/Cacat/Cacat93.png')\n",
    "greyscale_image = image.convert('L')\n",
    "greyscale_image.save('C:/Users/Indriani T Sitorus/Pictures/Dataset remove background_200/Preprocessing/Cacat/Grayscale/Cacat93_grayscale.jpg')"
   ]
  },
  {
   "cell_type": "code",
   "execution_count": null,
   "metadata": {},
   "outputs": [],
   "source": [
    "# convert image into grayscale\n",
    "image = Image.open('C:/Users/Indriani T Sitorus/Pictures/Dataset remove background_200/Cacat/Cacat94.png')\n",
    "greyscale_image = image.convert('L')\n",
    "greyscale_image.save('C:/Users/Indriani T Sitorus/Pictures/Dataset remove background_200/Preprocessing/Cacat/Grayscale/Cacat94_grayscale.jpg')"
   ]
  },
  {
   "cell_type": "code",
   "execution_count": null,
   "metadata": {},
   "outputs": [],
   "source": [
    "# convert image into grayscale\n",
    "image = Image.open('C:/Users/Indriani T Sitorus/Pictures/Dataset remove background_200/Cacat/Cacat95.png')\n",
    "greyscale_image = image.convert('L')\n",
    "greyscale_image.save('C:/Users/Indriani T Sitorus/Pictures/Dataset remove background_200/Preprocessing/Cacat/Grayscale/Cacat95_grayscale.jpg')"
   ]
  },
  {
   "cell_type": "code",
   "execution_count": null,
   "metadata": {},
   "outputs": [],
   "source": [
    "# convert image into grayscale\n",
    "image = Image.open('C:/Users/Indriani T Sitorus/Pictures/Dataset remove background_200/Cacat/Cacat96.png')\n",
    "greyscale_image = image.convert('L')\n",
    "greyscale_image.save('C:/Users/Indriani T Sitorus/Pictures/Dataset remove background_200/Preprocessing/Cacat/Grayscale/Cacat96_grayscale.jpg')"
   ]
  },
  {
   "cell_type": "code",
   "execution_count": null,
   "metadata": {},
   "outputs": [],
   "source": [
    "# convert image into grayscale\n",
    "image = Image.open('C:/Users/Indriani T Sitorus/Pictures/Dataset remove background_200/Cacat/Cacat97.png')\n",
    "greyscale_image = image.convert('L')\n",
    "greyscale_image.save('C:/Users/Indriani T Sitorus/Pictures/Dataset remove background_200/Preprocessing/Cacat/Grayscale/Cacat97_grayscale.jpg')"
   ]
  },
  {
   "cell_type": "code",
   "execution_count": null,
   "metadata": {},
   "outputs": [],
   "source": [
    "# convert image into grayscale\n",
    "image = Image.open('C:/Users/Indriani T Sitorus/Pictures/Dataset remove background_200/Cacat/Cacat98.png')\n",
    "greyscale_image = image.convert('L')\n",
    "greyscale_image.save('C:/Users/Indriani T Sitorus/Pictures/Dataset remove background_200/Preprocessing/Cacat/Grayscale/Cacat98_grayscale.jpg')"
   ]
  },
  {
   "cell_type": "code",
   "execution_count": null,
   "metadata": {},
   "outputs": [],
   "source": [
    "# convert image into grayscale\n",
    "image = Image.open('C:/Users/Indriani T Sitorus/Pictures/Dataset remove background_200/Cacat/Cacat99.png')\n",
    "greyscale_image = image.convert('L')\n",
    "greyscale_image.save('C:/Users/Indriani T Sitorus/Pictures/Dataset remove background_200/Preprocessing/Cacat/Grayscale/Cacat99_grayscale.jpg')"
   ]
  },
  {
   "cell_type": "code",
   "execution_count": null,
   "metadata": {},
   "outputs": [],
   "source": [
    "# convert image into grayscale\n",
    "image = Image.open('C:/Users/Indriani T Sitorus/Pictures/Dataset remove background_200/Cacat/Cacat100.png')\n",
    "greyscale_image = image.convert('L')\n",
    "greyscale_image.save('C:/Users/Indriani T Sitorus/Pictures/Dataset remove background_200/Preprocessing/Cacat/Grayscale/Cacat100_grayscale.jpg')"
   ]
  },
  {
   "cell_type": "code",
   "execution_count": null,
   "metadata": {},
   "outputs": [],
   "source": []
  }
 ],
 "metadata": {
  "kernelspec": {
   "display_name": "Python 3",
   "language": "python",
   "name": "python3"
  },
  "language_info": {
   "codemirror_mode": {
    "name": "ipython",
    "version": 3
   },
   "file_extension": ".py",
   "mimetype": "text/x-python",
   "name": "python",
   "nbconvert_exporter": "python",
   "pygments_lexer": "ipython3",
   "version": "3.7.6"
  }
 },
 "nbformat": 4,
 "nbformat_minor": 4
}
